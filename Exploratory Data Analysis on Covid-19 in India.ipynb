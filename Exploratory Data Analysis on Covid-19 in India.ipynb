{
  "nbformat": 4,
  "nbformat_minor": 0,
  "metadata": {
    "colab": {
      "provenance": [],
      "authorship_tag": "ABX9TyMCHpUR0mOtrbimbdQ0zV0H",
      "include_colab_link": true
    },
    "kernelspec": {
      "name": "python3",
      "display_name": "Python 3"
    },
    "language_info": {
      "name": "python"
    }
  },
  "cells": [
    {
      "cell_type": "markdown",
      "metadata": {
        "id": "view-in-github",
        "colab_type": "text"
      },
      "source": [
        "<a href=\"https://colab.research.google.com/github/asyrafzf95/Exploratory-Data-Analysis-on-Covid-19-in-India/blob/main/Exploratory%20Data%20Analysis%20on%20Covid-19%20in%20India.ipynb\" target=\"_parent\"><img src=\"https://colab.research.google.com/assets/colab-badge.svg\" alt=\"Open In Colab\"/></a>"
      ]
    },
    {
      "cell_type": "code",
      "execution_count": 1,
      "metadata": {
        "colab": {
          "base_uri": "https://localhost:8080/"
        },
        "id": "rM-ZgTAyxrrD",
        "outputId": "593256b0-3702-4d5e-9c3e-064c297b08c0"
      },
      "outputs": [
        {
          "output_type": "stream",
          "name": "stdout",
          "text": [
            "Archive:  India-covid-data.zip\n",
            "  inflating: Latest Covid-19 India Status.csv  \n"
          ]
        }
      ],
      "source": [
        "!unzip India-covid-data.zip"
      ]
    },
    {
      "cell_type": "code",
      "source": [
        "# Installing PySpark:\n",
        "!apt-get install openjdk-8-jdk-headless -qq > /dev/null\n",
        "!wget -q http://archive.apache.org/dist/spark/spark-3.1.1/spark-3.1.1-bin-hadoop3.2.tgz\n",
        "!tar xf spark-3.1.1-bin-hadoop3.2.tgz\n",
        "!pip install -q findspark"
      ],
      "metadata": {
        "id": "c_AzzHxcyJp-"
      },
      "execution_count": 2,
      "outputs": []
    },
    {
      "cell_type": "code",
      "source": [
        "# Installing PySpark:\n",
        "import os\n",
        "os.environ[\"JAVA_HOME\"] = \"/usr/lib/jvm/java-8-openjdk-amd64\"\n",
        "os.environ[\"SPARK_HOME\"] = \"/content/spark-3.1.1-bin-hadoop3.2\""
      ],
      "metadata": {
        "id": "3InqLoy2ySZX"
      },
      "execution_count": 5,
      "outputs": []
    },
    {
      "cell_type": "code",
      "source": [
        "# Installing PySpark:\n",
        "import findspark\n",
        "findspark.init()\n",
        "from pyspark.sql import SparkSession\n",
        "spark = SparkSession.builder.master(\"local[*]\").getOrCreate()\n",
        "spark.conf.set(\"spark.sql.repl.eagerEval.enabled\", True) # Property used to format output tables better\n",
        "spark"
      ],
      "metadata": {
        "colab": {
          "base_uri": "https://localhost:8080/",
          "height": 219
        },
        "id": "cc-8GE1ryT47",
        "outputId": "f580d723-8b9a-47c5-c49a-e080258d093c"
      },
      "execution_count": 6,
      "outputs": [
        {
          "output_type": "execute_result",
          "data": {
            "text/plain": [
              "<pyspark.sql.session.SparkSession at 0x79fc4c8352d0>"
            ],
            "text/html": [
              "\n",
              "            <div>\n",
              "                <p><b>SparkSession - in-memory</b></p>\n",
              "                \n",
              "        <div>\n",
              "            <p><b>SparkContext</b></p>\n",
              "\n",
              "            <p><a href=\"http://1081927ae756:4040\">Spark UI</a></p>\n",
              "\n",
              "            <dl>\n",
              "              <dt>Version</dt>\n",
              "                <dd><code>v3.1.1</code></dd>\n",
              "              <dt>Master</dt>\n",
              "                <dd><code>local[*]</code></dd>\n",
              "              <dt>AppName</dt>\n",
              "                <dd><code>pyspark-shell</code></dd>\n",
              "            </dl>\n",
              "        </div>\n",
              "        \n",
              "            </div>\n",
              "        "
            ]
          },
          "metadata": {},
          "execution_count": 6
        }
      ]
    },
    {
      "cell_type": "code",
      "source": [
        "df = spark.read.csv('/content/Latest Covid-19 India Status.csv', inferSchema=True,\n",
        "                    header=True)\n",
        "df"
      ],
      "metadata": {
        "colab": {
          "base_uri": "https://localhost:8080/",
          "height": 529
        },
        "id": "-WrPBWLKynQ2",
        "outputId": "11bb0d7d-a61e-4dc6-c27e-3f9d326ed8fe"
      },
      "execution_count": 7,
      "outputs": [
        {
          "output_type": "execute_result",
          "data": {
            "text/plain": [
              "+--------------------+-----------+------+----------+------+------------+---------------+-----------+----------+\n",
              "|           State/UTs|Total Cases|Active|Discharged|Deaths|Active Ratio|Discharge Ratio|Death Ratio|Population|\n",
              "+--------------------+-----------+------+----------+------+------------+---------------+-----------+----------+\n",
              "| Andaman and Nicobar|      10766|     0|     10637|   129|         0.0|           98.8|        1.2| 100896618|\n",
              "|      Andhra Pradesh|    2340676|     0|   2325943| 14733|         0.0|          99.37|       0.63| 128500364|\n",
              "|   Arunachal Pradesh|      67049|     0|     66753|   296|         0.0|          99.56|       0.44|    658019|\n",
              "|               Assam|     746159|     5|    738119|  8035|         0.0|          98.92|       1.08|    290492|\n",
              "|               Bihar|     855267|     1|    842952| 12314|         0.0|          98.56|       1.44|  40100376|\n",
              "|          Chandigarh|     100693|     0|     99508|  1185|         0.0|          98.82|       1.18|  30501026|\n",
              "|        Chhattisgarh|    1187695|     0|   1173505| 14190|         0.0|          98.81|       1.19|  28900667|\n",
              "|Dadra and Nagar H...|      11592|     0|     11588|     4|         0.0|          99.97|       0.03| 231502578|\n",
              "|               Delhi|    2040910|    14|   2014230| 26666|         0.0|          98.69|       1.31|    773997|\n",
              "|                 Goa|     263346|     3|    259329|  4014|         0.0|          98.47|       1.52|   3772103|\n",
              "|             Gujarat|    1291383|     5|   1280299| 11079|         0.0|          99.14|       0.86|  70400153|\n",
              "|             Haryana|    1078903|    27|   1068121| 10755|         0.0|           99.0|        1.0|   7503010|\n",
              "|    Himachal Pradesh|     322905|     4|    318660|  4241|         0.0|          98.69|       1.31|   3436948|\n",
              "|   Jammu and Kashmir|     482023|     0|    477231|  4792|         0.0|          99.01|       0.99|     66001|\n",
              "|           Jharkhand|     443826|     1|    438491|  5334|         0.0|           98.8|        1.2| 124904071|\n",
              "|           Karnataka|    4088769|    12|   4048399| 40358|         0.0|          99.01|       0.99|   1711947|\n",
              "|              Kerala|    6907241|    18|   6835181| 72042|         0.0|          98.96|       1.04|  91702478|\n",
              "|              Ladakh|      29602|     0|     29371|   231|         0.0|          99.22|       0.78|   4184959|\n",
              "|         Lakshadweep|      11415|     0|     11363|    52|         0.0|          99.54|       0.46|  11700099|\n",
              "|      Madhya Pradesh|    1056351|     0|   1045565| 10786|         0.0|          98.98|       1.02|  14999397|\n",
              "+--------------------+-----------+------+----------+------+------------+---------------+-----------+----------+\n",
              "only showing top 20 rows"
            ],
            "text/html": [
              "<table border='1'>\n",
              "<tr><th>State/UTs</th><th>Total Cases</th><th>Active</th><th>Discharged</th><th>Deaths</th><th>Active Ratio</th><th>Discharge Ratio</th><th>Death Ratio</th><th>Population</th></tr>\n",
              "<tr><td>Andaman and Nicobar</td><td>10766</td><td>0</td><td>10637</td><td>129</td><td>0.0</td><td>98.8</td><td>1.2</td><td>100896618</td></tr>\n",
              "<tr><td>Andhra Pradesh</td><td>2340676</td><td>0</td><td>2325943</td><td>14733</td><td>0.0</td><td>99.37</td><td>0.63</td><td>128500364</td></tr>\n",
              "<tr><td>Arunachal Pradesh</td><td>67049</td><td>0</td><td>66753</td><td>296</td><td>0.0</td><td>99.56</td><td>0.44</td><td>658019</td></tr>\n",
              "<tr><td>Assam</td><td>746159</td><td>5</td><td>738119</td><td>8035</td><td>0.0</td><td>98.92</td><td>1.08</td><td>290492</td></tr>\n",
              "<tr><td>Bihar</td><td>855267</td><td>1</td><td>842952</td><td>12314</td><td>0.0</td><td>98.56</td><td>1.44</td><td>40100376</td></tr>\n",
              "<tr><td>Chandigarh</td><td>100693</td><td>0</td><td>99508</td><td>1185</td><td>0.0</td><td>98.82</td><td>1.18</td><td>30501026</td></tr>\n",
              "<tr><td>Chhattisgarh</td><td>1187695</td><td>0</td><td>1173505</td><td>14190</td><td>0.0</td><td>98.81</td><td>1.19</td><td>28900667</td></tr>\n",
              "<tr><td>Dadra and Nagar H...</td><td>11592</td><td>0</td><td>11588</td><td>4</td><td>0.0</td><td>99.97</td><td>0.03</td><td>231502578</td></tr>\n",
              "<tr><td>Delhi</td><td>2040910</td><td>14</td><td>2014230</td><td>26666</td><td>0.0</td><td>98.69</td><td>1.31</td><td>773997</td></tr>\n",
              "<tr><td>Goa</td><td>263346</td><td>3</td><td>259329</td><td>4014</td><td>0.0</td><td>98.47</td><td>1.52</td><td>3772103</td></tr>\n",
              "<tr><td>Gujarat</td><td>1291383</td><td>5</td><td>1280299</td><td>11079</td><td>0.0</td><td>99.14</td><td>0.86</td><td>70400153</td></tr>\n",
              "<tr><td>Haryana</td><td>1078903</td><td>27</td><td>1068121</td><td>10755</td><td>0.0</td><td>99.0</td><td>1.0</td><td>7503010</td></tr>\n",
              "<tr><td>Himachal Pradesh</td><td>322905</td><td>4</td><td>318660</td><td>4241</td><td>0.0</td><td>98.69</td><td>1.31</td><td>3436948</td></tr>\n",
              "<tr><td>Jammu and Kashmir</td><td>482023</td><td>0</td><td>477231</td><td>4792</td><td>0.0</td><td>99.01</td><td>0.99</td><td>66001</td></tr>\n",
              "<tr><td>Jharkhand</td><td>443826</td><td>1</td><td>438491</td><td>5334</td><td>0.0</td><td>98.8</td><td>1.2</td><td>124904071</td></tr>\n",
              "<tr><td>Karnataka</td><td>4088769</td><td>12</td><td>4048399</td><td>40358</td><td>0.0</td><td>99.01</td><td>0.99</td><td>1711947</td></tr>\n",
              "<tr><td>Kerala</td><td>6907241</td><td>18</td><td>6835181</td><td>72042</td><td>0.0</td><td>98.96</td><td>1.04</td><td>91702478</td></tr>\n",
              "<tr><td>Ladakh</td><td>29602</td><td>0</td><td>29371</td><td>231</td><td>0.0</td><td>99.22</td><td>0.78</td><td>4184959</td></tr>\n",
              "<tr><td>Lakshadweep</td><td>11415</td><td>0</td><td>11363</td><td>52</td><td>0.0</td><td>99.54</td><td>0.46</td><td>11700099</td></tr>\n",
              "<tr><td>Madhya Pradesh</td><td>1056351</td><td>0</td><td>1045565</td><td>10786</td><td>0.0</td><td>98.98</td><td>1.02</td><td>14999397</td></tr>\n",
              "</table>\n",
              "only showing top 20 rows\n"
            ]
          },
          "metadata": {},
          "execution_count": 7
        }
      ]
    },
    {
      "cell_type": "code",
      "source": [
        "from pyspark.sql import functions as F\n",
        "\n",
        "renamed_df = df.select([F.col(col).alias(col.replace(' ', '_')) for col in df.columns])\n",
        "\n",
        "renamed_df"
      ],
      "metadata": {
        "colab": {
          "base_uri": "https://localhost:8080/",
          "height": 529
        },
        "id": "C4HPKivKy8qt",
        "outputId": "a238e1ab-cfa6-4f43-86bf-c612decf8c54"
      },
      "execution_count": 8,
      "outputs": [
        {
          "output_type": "execute_result",
          "data": {
            "text/plain": [
              "+--------------------+-----------+------+----------+------+------------+---------------+-----------+----------+\n",
              "|           State/UTs|Total_Cases|Active|Discharged|Deaths|Active_Ratio|Discharge_Ratio|Death_Ratio|Population|\n",
              "+--------------------+-----------+------+----------+------+------------+---------------+-----------+----------+\n",
              "| Andaman and Nicobar|      10766|     0|     10637|   129|         0.0|           98.8|        1.2| 100896618|\n",
              "|      Andhra Pradesh|    2340676|     0|   2325943| 14733|         0.0|          99.37|       0.63| 128500364|\n",
              "|   Arunachal Pradesh|      67049|     0|     66753|   296|         0.0|          99.56|       0.44|    658019|\n",
              "|               Assam|     746159|     5|    738119|  8035|         0.0|          98.92|       1.08|    290492|\n",
              "|               Bihar|     855267|     1|    842952| 12314|         0.0|          98.56|       1.44|  40100376|\n",
              "|          Chandigarh|     100693|     0|     99508|  1185|         0.0|          98.82|       1.18|  30501026|\n",
              "|        Chhattisgarh|    1187695|     0|   1173505| 14190|         0.0|          98.81|       1.19|  28900667|\n",
              "|Dadra and Nagar H...|      11592|     0|     11588|     4|         0.0|          99.97|       0.03| 231502578|\n",
              "|               Delhi|    2040910|    14|   2014230| 26666|         0.0|          98.69|       1.31|    773997|\n",
              "|                 Goa|     263346|     3|    259329|  4014|         0.0|          98.47|       1.52|   3772103|\n",
              "|             Gujarat|    1291383|     5|   1280299| 11079|         0.0|          99.14|       0.86|  70400153|\n",
              "|             Haryana|    1078903|    27|   1068121| 10755|         0.0|           99.0|        1.0|   7503010|\n",
              "|    Himachal Pradesh|     322905|     4|    318660|  4241|         0.0|          98.69|       1.31|   3436948|\n",
              "|   Jammu and Kashmir|     482023|     0|    477231|  4792|         0.0|          99.01|       0.99|     66001|\n",
              "|           Jharkhand|     443826|     1|    438491|  5334|         0.0|           98.8|        1.2| 124904071|\n",
              "|           Karnataka|    4088769|    12|   4048399| 40358|         0.0|          99.01|       0.99|   1711947|\n",
              "|              Kerala|    6907241|    18|   6835181| 72042|         0.0|          98.96|       1.04|  91702478|\n",
              "|              Ladakh|      29602|     0|     29371|   231|         0.0|          99.22|       0.78|   4184959|\n",
              "|         Lakshadweep|      11415|     0|     11363|    52|         0.0|          99.54|       0.46|  11700099|\n",
              "|      Madhya Pradesh|    1056351|     0|   1045565| 10786|         0.0|          98.98|       1.02|  14999397|\n",
              "+--------------------+-----------+------+----------+------+------------+---------------+-----------+----------+\n",
              "only showing top 20 rows"
            ],
            "text/html": [
              "<table border='1'>\n",
              "<tr><th>State/UTs</th><th>Total_Cases</th><th>Active</th><th>Discharged</th><th>Deaths</th><th>Active_Ratio</th><th>Discharge_Ratio</th><th>Death_Ratio</th><th>Population</th></tr>\n",
              "<tr><td>Andaman and Nicobar</td><td>10766</td><td>0</td><td>10637</td><td>129</td><td>0.0</td><td>98.8</td><td>1.2</td><td>100896618</td></tr>\n",
              "<tr><td>Andhra Pradesh</td><td>2340676</td><td>0</td><td>2325943</td><td>14733</td><td>0.0</td><td>99.37</td><td>0.63</td><td>128500364</td></tr>\n",
              "<tr><td>Arunachal Pradesh</td><td>67049</td><td>0</td><td>66753</td><td>296</td><td>0.0</td><td>99.56</td><td>0.44</td><td>658019</td></tr>\n",
              "<tr><td>Assam</td><td>746159</td><td>5</td><td>738119</td><td>8035</td><td>0.0</td><td>98.92</td><td>1.08</td><td>290492</td></tr>\n",
              "<tr><td>Bihar</td><td>855267</td><td>1</td><td>842952</td><td>12314</td><td>0.0</td><td>98.56</td><td>1.44</td><td>40100376</td></tr>\n",
              "<tr><td>Chandigarh</td><td>100693</td><td>0</td><td>99508</td><td>1185</td><td>0.0</td><td>98.82</td><td>1.18</td><td>30501026</td></tr>\n",
              "<tr><td>Chhattisgarh</td><td>1187695</td><td>0</td><td>1173505</td><td>14190</td><td>0.0</td><td>98.81</td><td>1.19</td><td>28900667</td></tr>\n",
              "<tr><td>Dadra and Nagar H...</td><td>11592</td><td>0</td><td>11588</td><td>4</td><td>0.0</td><td>99.97</td><td>0.03</td><td>231502578</td></tr>\n",
              "<tr><td>Delhi</td><td>2040910</td><td>14</td><td>2014230</td><td>26666</td><td>0.0</td><td>98.69</td><td>1.31</td><td>773997</td></tr>\n",
              "<tr><td>Goa</td><td>263346</td><td>3</td><td>259329</td><td>4014</td><td>0.0</td><td>98.47</td><td>1.52</td><td>3772103</td></tr>\n",
              "<tr><td>Gujarat</td><td>1291383</td><td>5</td><td>1280299</td><td>11079</td><td>0.0</td><td>99.14</td><td>0.86</td><td>70400153</td></tr>\n",
              "<tr><td>Haryana</td><td>1078903</td><td>27</td><td>1068121</td><td>10755</td><td>0.0</td><td>99.0</td><td>1.0</td><td>7503010</td></tr>\n",
              "<tr><td>Himachal Pradesh</td><td>322905</td><td>4</td><td>318660</td><td>4241</td><td>0.0</td><td>98.69</td><td>1.31</td><td>3436948</td></tr>\n",
              "<tr><td>Jammu and Kashmir</td><td>482023</td><td>0</td><td>477231</td><td>4792</td><td>0.0</td><td>99.01</td><td>0.99</td><td>66001</td></tr>\n",
              "<tr><td>Jharkhand</td><td>443826</td><td>1</td><td>438491</td><td>5334</td><td>0.0</td><td>98.8</td><td>1.2</td><td>124904071</td></tr>\n",
              "<tr><td>Karnataka</td><td>4088769</td><td>12</td><td>4048399</td><td>40358</td><td>0.0</td><td>99.01</td><td>0.99</td><td>1711947</td></tr>\n",
              "<tr><td>Kerala</td><td>6907241</td><td>18</td><td>6835181</td><td>72042</td><td>0.0</td><td>98.96</td><td>1.04</td><td>91702478</td></tr>\n",
              "<tr><td>Ladakh</td><td>29602</td><td>0</td><td>29371</td><td>231</td><td>0.0</td><td>99.22</td><td>0.78</td><td>4184959</td></tr>\n",
              "<tr><td>Lakshadweep</td><td>11415</td><td>0</td><td>11363</td><td>52</td><td>0.0</td><td>99.54</td><td>0.46</td><td>11700099</td></tr>\n",
              "<tr><td>Madhya Pradesh</td><td>1056351</td><td>0</td><td>1045565</td><td>10786</td><td>0.0</td><td>98.98</td><td>1.02</td><td>14999397</td></tr>\n",
              "</table>\n",
              "only showing top 20 rows\n"
            ]
          },
          "metadata": {},
          "execution_count": 8
        }
      ]
    },
    {
      "cell_type": "code",
      "source": [
        "renamed_df = renamed_df.withColumnRenamed('State/UTs', 'State_UTs')\n",
        "renamed_df = renamed_df.withColumnRenamed('Active_Ratio_(%)', 'Active_Ratio')\n",
        "renamed_df = renamed_df.withColumnRenamed('Discharge_Ratio_(%)', 'Discharge_Ratio')\n",
        "renamed_df = renamed_df.withColumnRenamed('Death_Ratio_(%)', 'Death_Ratio')\n",
        "renamed_df"
      ],
      "metadata": {
        "colab": {
          "base_uri": "https://localhost:8080/",
          "height": 529
        },
        "id": "M1KEuin2zNOK",
        "outputId": "ab912036-82f0-49c2-be7d-b1e19af1e5e7"
      },
      "execution_count": 9,
      "outputs": [
        {
          "output_type": "execute_result",
          "data": {
            "text/plain": [
              "+--------------------+-----------+------+----------+------+------------+---------------+-----------+----------+\n",
              "|           State_UTs|Total_Cases|Active|Discharged|Deaths|Active_Ratio|Discharge_Ratio|Death_Ratio|Population|\n",
              "+--------------------+-----------+------+----------+------+------------+---------------+-----------+----------+\n",
              "| Andaman and Nicobar|      10766|     0|     10637|   129|         0.0|           98.8|        1.2| 100896618|\n",
              "|      Andhra Pradesh|    2340676|     0|   2325943| 14733|         0.0|          99.37|       0.63| 128500364|\n",
              "|   Arunachal Pradesh|      67049|     0|     66753|   296|         0.0|          99.56|       0.44|    658019|\n",
              "|               Assam|     746159|     5|    738119|  8035|         0.0|          98.92|       1.08|    290492|\n",
              "|               Bihar|     855267|     1|    842952| 12314|         0.0|          98.56|       1.44|  40100376|\n",
              "|          Chandigarh|     100693|     0|     99508|  1185|         0.0|          98.82|       1.18|  30501026|\n",
              "|        Chhattisgarh|    1187695|     0|   1173505| 14190|         0.0|          98.81|       1.19|  28900667|\n",
              "|Dadra and Nagar H...|      11592|     0|     11588|     4|         0.0|          99.97|       0.03| 231502578|\n",
              "|               Delhi|    2040910|    14|   2014230| 26666|         0.0|          98.69|       1.31|    773997|\n",
              "|                 Goa|     263346|     3|    259329|  4014|         0.0|          98.47|       1.52|   3772103|\n",
              "|             Gujarat|    1291383|     5|   1280299| 11079|         0.0|          99.14|       0.86|  70400153|\n",
              "|             Haryana|    1078903|    27|   1068121| 10755|         0.0|           99.0|        1.0|   7503010|\n",
              "|    Himachal Pradesh|     322905|     4|    318660|  4241|         0.0|          98.69|       1.31|   3436948|\n",
              "|   Jammu and Kashmir|     482023|     0|    477231|  4792|         0.0|          99.01|       0.99|     66001|\n",
              "|           Jharkhand|     443826|     1|    438491|  5334|         0.0|           98.8|        1.2| 124904071|\n",
              "|           Karnataka|    4088769|    12|   4048399| 40358|         0.0|          99.01|       0.99|   1711947|\n",
              "|              Kerala|    6907241|    18|   6835181| 72042|         0.0|          98.96|       1.04|  91702478|\n",
              "|              Ladakh|      29602|     0|     29371|   231|         0.0|          99.22|       0.78|   4184959|\n",
              "|         Lakshadweep|      11415|     0|     11363|    52|         0.0|          99.54|       0.46|  11700099|\n",
              "|      Madhya Pradesh|    1056351|     0|   1045565| 10786|         0.0|          98.98|       1.02|  14999397|\n",
              "+--------------------+-----------+------+----------+------+------------+---------------+-----------+----------+\n",
              "only showing top 20 rows"
            ],
            "text/html": [
              "<table border='1'>\n",
              "<tr><th>State_UTs</th><th>Total_Cases</th><th>Active</th><th>Discharged</th><th>Deaths</th><th>Active_Ratio</th><th>Discharge_Ratio</th><th>Death_Ratio</th><th>Population</th></tr>\n",
              "<tr><td>Andaman and Nicobar</td><td>10766</td><td>0</td><td>10637</td><td>129</td><td>0.0</td><td>98.8</td><td>1.2</td><td>100896618</td></tr>\n",
              "<tr><td>Andhra Pradesh</td><td>2340676</td><td>0</td><td>2325943</td><td>14733</td><td>0.0</td><td>99.37</td><td>0.63</td><td>128500364</td></tr>\n",
              "<tr><td>Arunachal Pradesh</td><td>67049</td><td>0</td><td>66753</td><td>296</td><td>0.0</td><td>99.56</td><td>0.44</td><td>658019</td></tr>\n",
              "<tr><td>Assam</td><td>746159</td><td>5</td><td>738119</td><td>8035</td><td>0.0</td><td>98.92</td><td>1.08</td><td>290492</td></tr>\n",
              "<tr><td>Bihar</td><td>855267</td><td>1</td><td>842952</td><td>12314</td><td>0.0</td><td>98.56</td><td>1.44</td><td>40100376</td></tr>\n",
              "<tr><td>Chandigarh</td><td>100693</td><td>0</td><td>99508</td><td>1185</td><td>0.0</td><td>98.82</td><td>1.18</td><td>30501026</td></tr>\n",
              "<tr><td>Chhattisgarh</td><td>1187695</td><td>0</td><td>1173505</td><td>14190</td><td>0.0</td><td>98.81</td><td>1.19</td><td>28900667</td></tr>\n",
              "<tr><td>Dadra and Nagar H...</td><td>11592</td><td>0</td><td>11588</td><td>4</td><td>0.0</td><td>99.97</td><td>0.03</td><td>231502578</td></tr>\n",
              "<tr><td>Delhi</td><td>2040910</td><td>14</td><td>2014230</td><td>26666</td><td>0.0</td><td>98.69</td><td>1.31</td><td>773997</td></tr>\n",
              "<tr><td>Goa</td><td>263346</td><td>3</td><td>259329</td><td>4014</td><td>0.0</td><td>98.47</td><td>1.52</td><td>3772103</td></tr>\n",
              "<tr><td>Gujarat</td><td>1291383</td><td>5</td><td>1280299</td><td>11079</td><td>0.0</td><td>99.14</td><td>0.86</td><td>70400153</td></tr>\n",
              "<tr><td>Haryana</td><td>1078903</td><td>27</td><td>1068121</td><td>10755</td><td>0.0</td><td>99.0</td><td>1.0</td><td>7503010</td></tr>\n",
              "<tr><td>Himachal Pradesh</td><td>322905</td><td>4</td><td>318660</td><td>4241</td><td>0.0</td><td>98.69</td><td>1.31</td><td>3436948</td></tr>\n",
              "<tr><td>Jammu and Kashmir</td><td>482023</td><td>0</td><td>477231</td><td>4792</td><td>0.0</td><td>99.01</td><td>0.99</td><td>66001</td></tr>\n",
              "<tr><td>Jharkhand</td><td>443826</td><td>1</td><td>438491</td><td>5334</td><td>0.0</td><td>98.8</td><td>1.2</td><td>124904071</td></tr>\n",
              "<tr><td>Karnataka</td><td>4088769</td><td>12</td><td>4048399</td><td>40358</td><td>0.0</td><td>99.01</td><td>0.99</td><td>1711947</td></tr>\n",
              "<tr><td>Kerala</td><td>6907241</td><td>18</td><td>6835181</td><td>72042</td><td>0.0</td><td>98.96</td><td>1.04</td><td>91702478</td></tr>\n",
              "<tr><td>Ladakh</td><td>29602</td><td>0</td><td>29371</td><td>231</td><td>0.0</td><td>99.22</td><td>0.78</td><td>4184959</td></tr>\n",
              "<tr><td>Lakshadweep</td><td>11415</td><td>0</td><td>11363</td><td>52</td><td>0.0</td><td>99.54</td><td>0.46</td><td>11700099</td></tr>\n",
              "<tr><td>Madhya Pradesh</td><td>1056351</td><td>0</td><td>1045565</td><td>10786</td><td>0.0</td><td>98.98</td><td>1.02</td><td>14999397</td></tr>\n",
              "</table>\n",
              "only showing top 20 rows\n"
            ]
          },
          "metadata": {},
          "execution_count": 9
        }
      ]
    },
    {
      "cell_type": "code",
      "source": [
        "renamed_df.createOrReplaceTempView('Data')\n",
        "\n",
        "spark.sql('Select * from Data')"
      ],
      "metadata": {
        "colab": {
          "base_uri": "https://localhost:8080/",
          "height": 529
        },
        "id": "wPtGP2P40kWT",
        "outputId": "7a6cd474-b8fa-43fa-98d6-dc165c4c2cc7"
      },
      "execution_count": 11,
      "outputs": [
        {
          "output_type": "execute_result",
          "data": {
            "text/plain": [
              "+--------------------+-----------+------+----------+------+------------+---------------+-----------+----------+\n",
              "|           State_UTs|Total_Cases|Active|Discharged|Deaths|Active_Ratio|Discharge_Ratio|Death_Ratio|Population|\n",
              "+--------------------+-----------+------+----------+------+------------+---------------+-----------+----------+\n",
              "| Andaman and Nicobar|      10766|     0|     10637|   129|         0.0|           98.8|        1.2| 100896618|\n",
              "|      Andhra Pradesh|    2340676|     0|   2325943| 14733|         0.0|          99.37|       0.63| 128500364|\n",
              "|   Arunachal Pradesh|      67049|     0|     66753|   296|         0.0|          99.56|       0.44|    658019|\n",
              "|               Assam|     746159|     5|    738119|  8035|         0.0|          98.92|       1.08|    290492|\n",
              "|               Bihar|     855267|     1|    842952| 12314|         0.0|          98.56|       1.44|  40100376|\n",
              "|          Chandigarh|     100693|     0|     99508|  1185|         0.0|          98.82|       1.18|  30501026|\n",
              "|        Chhattisgarh|    1187695|     0|   1173505| 14190|         0.0|          98.81|       1.19|  28900667|\n",
              "|Dadra and Nagar H...|      11592|     0|     11588|     4|         0.0|          99.97|       0.03| 231502578|\n",
              "|               Delhi|    2040910|    14|   2014230| 26666|         0.0|          98.69|       1.31|    773997|\n",
              "|                 Goa|     263346|     3|    259329|  4014|         0.0|          98.47|       1.52|   3772103|\n",
              "|             Gujarat|    1291383|     5|   1280299| 11079|         0.0|          99.14|       0.86|  70400153|\n",
              "|             Haryana|    1078903|    27|   1068121| 10755|         0.0|           99.0|        1.0|   7503010|\n",
              "|    Himachal Pradesh|     322905|     4|    318660|  4241|         0.0|          98.69|       1.31|   3436948|\n",
              "|   Jammu and Kashmir|     482023|     0|    477231|  4792|         0.0|          99.01|       0.99|     66001|\n",
              "|           Jharkhand|     443826|     1|    438491|  5334|         0.0|           98.8|        1.2| 124904071|\n",
              "|           Karnataka|    4088769|    12|   4048399| 40358|         0.0|          99.01|       0.99|   1711947|\n",
              "|              Kerala|    6907241|    18|   6835181| 72042|         0.0|          98.96|       1.04|  91702478|\n",
              "|              Ladakh|      29602|     0|     29371|   231|         0.0|          99.22|       0.78|   4184959|\n",
              "|         Lakshadweep|      11415|     0|     11363|    52|         0.0|          99.54|       0.46|  11700099|\n",
              "|      Madhya Pradesh|    1056351|     0|   1045565| 10786|         0.0|          98.98|       1.02|  14999397|\n",
              "+--------------------+-----------+------+----------+------+------------+---------------+-----------+----------+\n",
              "only showing top 20 rows"
            ],
            "text/html": [
              "<table border='1'>\n",
              "<tr><th>State_UTs</th><th>Total_Cases</th><th>Active</th><th>Discharged</th><th>Deaths</th><th>Active_Ratio</th><th>Discharge_Ratio</th><th>Death_Ratio</th><th>Population</th></tr>\n",
              "<tr><td>Andaman and Nicobar</td><td>10766</td><td>0</td><td>10637</td><td>129</td><td>0.0</td><td>98.8</td><td>1.2</td><td>100896618</td></tr>\n",
              "<tr><td>Andhra Pradesh</td><td>2340676</td><td>0</td><td>2325943</td><td>14733</td><td>0.0</td><td>99.37</td><td>0.63</td><td>128500364</td></tr>\n",
              "<tr><td>Arunachal Pradesh</td><td>67049</td><td>0</td><td>66753</td><td>296</td><td>0.0</td><td>99.56</td><td>0.44</td><td>658019</td></tr>\n",
              "<tr><td>Assam</td><td>746159</td><td>5</td><td>738119</td><td>8035</td><td>0.0</td><td>98.92</td><td>1.08</td><td>290492</td></tr>\n",
              "<tr><td>Bihar</td><td>855267</td><td>1</td><td>842952</td><td>12314</td><td>0.0</td><td>98.56</td><td>1.44</td><td>40100376</td></tr>\n",
              "<tr><td>Chandigarh</td><td>100693</td><td>0</td><td>99508</td><td>1185</td><td>0.0</td><td>98.82</td><td>1.18</td><td>30501026</td></tr>\n",
              "<tr><td>Chhattisgarh</td><td>1187695</td><td>0</td><td>1173505</td><td>14190</td><td>0.0</td><td>98.81</td><td>1.19</td><td>28900667</td></tr>\n",
              "<tr><td>Dadra and Nagar H...</td><td>11592</td><td>0</td><td>11588</td><td>4</td><td>0.0</td><td>99.97</td><td>0.03</td><td>231502578</td></tr>\n",
              "<tr><td>Delhi</td><td>2040910</td><td>14</td><td>2014230</td><td>26666</td><td>0.0</td><td>98.69</td><td>1.31</td><td>773997</td></tr>\n",
              "<tr><td>Goa</td><td>263346</td><td>3</td><td>259329</td><td>4014</td><td>0.0</td><td>98.47</td><td>1.52</td><td>3772103</td></tr>\n",
              "<tr><td>Gujarat</td><td>1291383</td><td>5</td><td>1280299</td><td>11079</td><td>0.0</td><td>99.14</td><td>0.86</td><td>70400153</td></tr>\n",
              "<tr><td>Haryana</td><td>1078903</td><td>27</td><td>1068121</td><td>10755</td><td>0.0</td><td>99.0</td><td>1.0</td><td>7503010</td></tr>\n",
              "<tr><td>Himachal Pradesh</td><td>322905</td><td>4</td><td>318660</td><td>4241</td><td>0.0</td><td>98.69</td><td>1.31</td><td>3436948</td></tr>\n",
              "<tr><td>Jammu and Kashmir</td><td>482023</td><td>0</td><td>477231</td><td>4792</td><td>0.0</td><td>99.01</td><td>0.99</td><td>66001</td></tr>\n",
              "<tr><td>Jharkhand</td><td>443826</td><td>1</td><td>438491</td><td>5334</td><td>0.0</td><td>98.8</td><td>1.2</td><td>124904071</td></tr>\n",
              "<tr><td>Karnataka</td><td>4088769</td><td>12</td><td>4048399</td><td>40358</td><td>0.0</td><td>99.01</td><td>0.99</td><td>1711947</td></tr>\n",
              "<tr><td>Kerala</td><td>6907241</td><td>18</td><td>6835181</td><td>72042</td><td>0.0</td><td>98.96</td><td>1.04</td><td>91702478</td></tr>\n",
              "<tr><td>Ladakh</td><td>29602</td><td>0</td><td>29371</td><td>231</td><td>0.0</td><td>99.22</td><td>0.78</td><td>4184959</td></tr>\n",
              "<tr><td>Lakshadweep</td><td>11415</td><td>0</td><td>11363</td><td>52</td><td>0.0</td><td>99.54</td><td>0.46</td><td>11700099</td></tr>\n",
              "<tr><td>Madhya Pradesh</td><td>1056351</td><td>0</td><td>1045565</td><td>10786</td><td>0.0</td><td>98.98</td><td>1.02</td><td>14999397</td></tr>\n",
              "</table>\n",
              "only showing top 20 rows\n"
            ]
          },
          "metadata": {},
          "execution_count": 11
        }
      ]
    },
    {
      "cell_type": "code",
      "source": [
        "spark.sql('select count(State_UTs) from Data')"
      ],
      "metadata": {
        "colab": {
          "base_uri": "https://localhost:8080/",
          "height": 68
        },
        "id": "paEh4uO_03YK",
        "outputId": "2edc7784-b1bb-4213-9918-5408d8b22c1a"
      },
      "execution_count": 12,
      "outputs": [
        {
          "output_type": "execute_result",
          "data": {
            "text/plain": [
              "+----------------+\n",
              "|count(State_UTs)|\n",
              "+----------------+\n",
              "|              36|\n",
              "+----------------+"
            ],
            "text/html": [
              "<table border='1'>\n",
              "<tr><th>count(State_UTs)</th></tr>\n",
              "<tr><td>36</td></tr>\n",
              "</table>\n"
            ]
          },
          "metadata": {},
          "execution_count": 12
        }
      ]
    },
    {
      "cell_type": "code",
      "source": [
        "spark.sql('select * from Data order by Active desc limit 5')"
      ],
      "metadata": {
        "colab": {
          "base_uri": "https://localhost:8080/",
          "height": 161
        },
        "id": "VyDVCsrc1Lxv",
        "outputId": "4c3023d6-87d5-451e-f62c-6201ed19483f"
      },
      "execution_count": 14,
      "outputs": [
        {
          "output_type": "execute_result",
          "data": {
            "text/plain": [
              "+-------------+-----------+------+----------+------+------------+---------------+-----------+----------+\n",
              "|    State_UTs|Total_Cases|Active|Discharged|Deaths|Active_Ratio|Discharge_Ratio|Death_Ratio|Population|\n",
              "+-------------+-----------+------+----------+------+------------+---------------+-----------+----------+\n",
              "|       Punjab|     793644|  1233|    773073| 19338|        0.16|          97.41|       2.44|  34698876|\n",
              "|  Maharashtra|    8171048|   214|   8022276|148558|         0.0|          98.18|       1.82|    399001|\n",
              "|  West Bengal|    2126282|   135|   2104592| 21555|        0.01|          98.98|       1.01|  32199722|\n",
              "|       Odisha|    1348409|    59|   1339135|  9215|         0.0|          99.31|       0.68|  19301096|\n",
              "|Uttar Pradesh|    2145431|    57|   2121662| 23712|         0.0|          98.89|       1.11|   1158040|\n",
              "+-------------+-----------+------+----------+------+------------+---------------+-----------+----------+"
            ],
            "text/html": [
              "<table border='1'>\n",
              "<tr><th>State_UTs</th><th>Total_Cases</th><th>Active</th><th>Discharged</th><th>Deaths</th><th>Active_Ratio</th><th>Discharge_Ratio</th><th>Death_Ratio</th><th>Population</th></tr>\n",
              "<tr><td>Punjab</td><td>793644</td><td>1233</td><td>773073</td><td>19338</td><td>0.16</td><td>97.41</td><td>2.44</td><td>34698876</td></tr>\n",
              "<tr><td>Maharashtra</td><td>8171048</td><td>214</td><td>8022276</td><td>148558</td><td>0.0</td><td>98.18</td><td>1.82</td><td>399001</td></tr>\n",
              "<tr><td>West Bengal</td><td>2126282</td><td>135</td><td>2104592</td><td>21555</td><td>0.01</td><td>98.98</td><td>1.01</td><td>32199722</td></tr>\n",
              "<tr><td>Odisha</td><td>1348409</td><td>59</td><td>1339135</td><td>9215</td><td>0.0</td><td>99.31</td><td>0.68</td><td>19301096</td></tr>\n",
              "<tr><td>Uttar Pradesh</td><td>2145431</td><td>57</td><td>2121662</td><td>23712</td><td>0.0</td><td>98.89</td><td>1.11</td><td>1158040</td></tr>\n",
              "</table>\n"
            ]
          },
          "metadata": {},
          "execution_count": 14
        }
      ]
    },
    {
      "cell_type": "code",
      "source": [
        "spark.sql('select * from Data order by Death_Ratio desc limit 5')"
      ],
      "metadata": {
        "colab": {
          "base_uri": "https://localhost:8080/",
          "height": 161
        },
        "id": "U6fTWB6u1b50",
        "outputId": "f14be160-6ac5-4262-eeb9-d02ee6148033"
      },
      "execution_count": 16,
      "outputs": [
        {
          "output_type": "execute_result",
          "data": {
            "text/plain": [
              "+-----------+-----------+------+----------+------+------------+---------------+-----------+----------+\n",
              "|  State_UTs|Total_Cases|Active|Discharged|Deaths|Active_Ratio|Discharge_Ratio|Death_Ratio|Population|\n",
              "+-----------+-----------+------+----------+------+------------+---------------+-----------+----------+\n",
              "|     Punjab|     793644|  1233|    773073| 19338|        0.16|          97.41|       2.44|  34698876|\n",
              "|   Nagaland|      36033|     0|     35251|   782|         0.0|          97.83|       2.17|  38157311|\n",
              "|Maharashtra|    8171048|   214|   8022276|148558|         0.0|          98.18|       1.82|    399001|\n",
              "|Uttarakhand|     452571|     0|    444803|  7768|         0.0|          98.28|       1.72|  85002417|\n",
              "|  Meghalaya|      96983|     3|     95352|  1628|         0.0|          98.32|       1.68|  79502477|\n",
              "+-----------+-----------+------+----------+------+------------+---------------+-----------+----------+"
            ],
            "text/html": [
              "<table border='1'>\n",
              "<tr><th>State_UTs</th><th>Total_Cases</th><th>Active</th><th>Discharged</th><th>Deaths</th><th>Active_Ratio</th><th>Discharge_Ratio</th><th>Death_Ratio</th><th>Population</th></tr>\n",
              "<tr><td>Punjab</td><td>793644</td><td>1233</td><td>773073</td><td>19338</td><td>0.16</td><td>97.41</td><td>2.44</td><td>34698876</td></tr>\n",
              "<tr><td>Nagaland</td><td>36033</td><td>0</td><td>35251</td><td>782</td><td>0.0</td><td>97.83</td><td>2.17</td><td>38157311</td></tr>\n",
              "<tr><td>Maharashtra</td><td>8171048</td><td>214</td><td>8022276</td><td>148558</td><td>0.0</td><td>98.18</td><td>1.82</td><td>399001</td></tr>\n",
              "<tr><td>Uttarakhand</td><td>452571</td><td>0</td><td>444803</td><td>7768</td><td>0.0</td><td>98.28</td><td>1.72</td><td>85002417</td></tr>\n",
              "<tr><td>Meghalaya</td><td>96983</td><td>3</td><td>95352</td><td>1628</td><td>0.0</td><td>98.32</td><td>1.68</td><td>79502477</td></tr>\n",
              "</table>\n"
            ]
          },
          "metadata": {},
          "execution_count": 16
        }
      ]
    },
    {
      "cell_type": "code",
      "source": [
        "spark.sql('select sum(Total_Cases), sum(Deaths) from Data')"
      ],
      "metadata": {
        "colab": {
          "base_uri": "https://localhost:8080/",
          "height": 68
        },
        "id": "jzrDjx2f18k6",
        "outputId": "fccdcc37-6950-47f8-d396-db7128c0a467"
      },
      "execution_count": 17,
      "outputs": [
        {
          "output_type": "execute_result",
          "data": {
            "text/plain": [
              "+----------------+-----------+\n",
              "|sum(Total_Cases)|sum(Deaths)|\n",
              "+----------------+-----------+\n",
              "|        44999085|     532027|\n",
              "+----------------+-----------+"
            ],
            "text/html": [
              "<table border='1'>\n",
              "<tr><th>sum(Total_Cases)</th><th>sum(Deaths)</th></tr>\n",
              "<tr><td>44999085</td><td>532027</td></tr>\n",
              "</table>\n"
            ]
          },
          "metadata": {},
          "execution_count": 17
        }
      ]
    },
    {
      "cell_type": "code",
      "source": [
        "spark.sql('select * from Data order by Active asc limit 5')"
      ],
      "metadata": {
        "colab": {
          "base_uri": "https://localhost:8080/",
          "height": 161
        },
        "id": "Wkao8i9f2WR6",
        "outputId": "15007548-16f7-4c7e-ac6b-1e5737929af3"
      },
      "execution_count": 18,
      "outputs": [
        {
          "output_type": "execute_result",
          "data": {
            "text/plain": [
              "+--------------------+-----------+------+----------+------+------------+---------------+-----------+----------+\n",
              "|           State_UTs|Total_Cases|Active|Discharged|Deaths|Active_Ratio|Discharge_Ratio|Death_Ratio|Population|\n",
              "+--------------------+-----------+------+----------+------+------------+---------------+-----------+----------+\n",
              "|          Chandigarh|     100693|     0|     99508|  1185|         0.0|          98.82|       1.18|  30501026|\n",
              "| Andaman and Nicobar|      10766|     0|     10637|   129|         0.0|           98.8|        1.2| 100896618|\n",
              "|        Chhattisgarh|    1187695|     0|   1173505| 14190|         0.0|          98.81|       1.19|  28900667|\n",
              "|      Andhra Pradesh|    2340676|     0|   2325943| 14733|         0.0|          99.37|       0.63| 128500364|\n",
              "|Dadra and Nagar H...|      11592|     0|     11588|     4|         0.0|          99.97|       0.03| 231502578|\n",
              "+--------------------+-----------+------+----------+------+------------+---------------+-----------+----------+"
            ],
            "text/html": [
              "<table border='1'>\n",
              "<tr><th>State_UTs</th><th>Total_Cases</th><th>Active</th><th>Discharged</th><th>Deaths</th><th>Active_Ratio</th><th>Discharge_Ratio</th><th>Death_Ratio</th><th>Population</th></tr>\n",
              "<tr><td>Chandigarh</td><td>100693</td><td>0</td><td>99508</td><td>1185</td><td>0.0</td><td>98.82</td><td>1.18</td><td>30501026</td></tr>\n",
              "<tr><td>Andaman and Nicobar</td><td>10766</td><td>0</td><td>10637</td><td>129</td><td>0.0</td><td>98.8</td><td>1.2</td><td>100896618</td></tr>\n",
              "<tr><td>Chhattisgarh</td><td>1187695</td><td>0</td><td>1173505</td><td>14190</td><td>0.0</td><td>98.81</td><td>1.19</td><td>28900667</td></tr>\n",
              "<tr><td>Andhra Pradesh</td><td>2340676</td><td>0</td><td>2325943</td><td>14733</td><td>0.0</td><td>99.37</td><td>0.63</td><td>128500364</td></tr>\n",
              "<tr><td>Dadra and Nagar H...</td><td>11592</td><td>0</td><td>11588</td><td>4</td><td>0.0</td><td>99.97</td><td>0.03</td><td>231502578</td></tr>\n",
              "</table>\n"
            ]
          },
          "metadata": {},
          "execution_count": 18
        }
      ]
    },
    {
      "cell_type": "code",
      "source": [
        "import pandas as pandas\n",
        "\n",
        "pd_df = renamed_df.toPandas()\n",
        "pd_df.head()"
      ],
      "metadata": {
        "colab": {
          "base_uri": "https://localhost:8080/",
          "height": 278
        },
        "id": "trWMryB62dQk",
        "outputId": "0dd5723b-c293-4fb5-f842-c757a873821f"
      },
      "execution_count": 22,
      "outputs": [
        {
          "output_type": "execute_result",
          "data": {
            "text/plain": [
              "             State_UTs  Total_Cases  Active  Discharged  Deaths  Active_Ratio  \\\n",
              "0  Andaman and Nicobar        10766       0       10637     129           0.0   \n",
              "1       Andhra Pradesh      2340676       0     2325943   14733           0.0   \n",
              "2    Arunachal Pradesh        67049       0       66753     296           0.0   \n",
              "3                Assam       746159       5      738119    8035           0.0   \n",
              "4                Bihar       855267       1      842952   12314           0.0   \n",
              "\n",
              "   Discharge_Ratio  Death_Ratio  Population  \n",
              "0            98.80         1.20   100896618  \n",
              "1            99.37         0.63   128500364  \n",
              "2            99.56         0.44      658019  \n",
              "3            98.92         1.08      290492  \n",
              "4            98.56         1.44    40100376  "
            ],
            "text/html": [
              "\n",
              "  <div id=\"df-314a1aaa-2b34-4b9d-80bf-5d64c9b6f2fa\" class=\"colab-df-container\">\n",
              "    <div>\n",
              "<style scoped>\n",
              "    .dataframe tbody tr th:only-of-type {\n",
              "        vertical-align: middle;\n",
              "    }\n",
              "\n",
              "    .dataframe tbody tr th {\n",
              "        vertical-align: top;\n",
              "    }\n",
              "\n",
              "    .dataframe thead th {\n",
              "        text-align: right;\n",
              "    }\n",
              "</style>\n",
              "<table border=\"1\" class=\"dataframe\">\n",
              "  <thead>\n",
              "    <tr style=\"text-align: right;\">\n",
              "      <th></th>\n",
              "      <th>State_UTs</th>\n",
              "      <th>Total_Cases</th>\n",
              "      <th>Active</th>\n",
              "      <th>Discharged</th>\n",
              "      <th>Deaths</th>\n",
              "      <th>Active_Ratio</th>\n",
              "      <th>Discharge_Ratio</th>\n",
              "      <th>Death_Ratio</th>\n",
              "      <th>Population</th>\n",
              "    </tr>\n",
              "  </thead>\n",
              "  <tbody>\n",
              "    <tr>\n",
              "      <th>0</th>\n",
              "      <td>Andaman and Nicobar</td>\n",
              "      <td>10766</td>\n",
              "      <td>0</td>\n",
              "      <td>10637</td>\n",
              "      <td>129</td>\n",
              "      <td>0.0</td>\n",
              "      <td>98.80</td>\n",
              "      <td>1.20</td>\n",
              "      <td>100896618</td>\n",
              "    </tr>\n",
              "    <tr>\n",
              "      <th>1</th>\n",
              "      <td>Andhra Pradesh</td>\n",
              "      <td>2340676</td>\n",
              "      <td>0</td>\n",
              "      <td>2325943</td>\n",
              "      <td>14733</td>\n",
              "      <td>0.0</td>\n",
              "      <td>99.37</td>\n",
              "      <td>0.63</td>\n",
              "      <td>128500364</td>\n",
              "    </tr>\n",
              "    <tr>\n",
              "      <th>2</th>\n",
              "      <td>Arunachal Pradesh</td>\n",
              "      <td>67049</td>\n",
              "      <td>0</td>\n",
              "      <td>66753</td>\n",
              "      <td>296</td>\n",
              "      <td>0.0</td>\n",
              "      <td>99.56</td>\n",
              "      <td>0.44</td>\n",
              "      <td>658019</td>\n",
              "    </tr>\n",
              "    <tr>\n",
              "      <th>3</th>\n",
              "      <td>Assam</td>\n",
              "      <td>746159</td>\n",
              "      <td>5</td>\n",
              "      <td>738119</td>\n",
              "      <td>8035</td>\n",
              "      <td>0.0</td>\n",
              "      <td>98.92</td>\n",
              "      <td>1.08</td>\n",
              "      <td>290492</td>\n",
              "    </tr>\n",
              "    <tr>\n",
              "      <th>4</th>\n",
              "      <td>Bihar</td>\n",
              "      <td>855267</td>\n",
              "      <td>1</td>\n",
              "      <td>842952</td>\n",
              "      <td>12314</td>\n",
              "      <td>0.0</td>\n",
              "      <td>98.56</td>\n",
              "      <td>1.44</td>\n",
              "      <td>40100376</td>\n",
              "    </tr>\n",
              "  </tbody>\n",
              "</table>\n",
              "</div>\n",
              "    <div class=\"colab-df-buttons\">\n",
              "\n",
              "  <div class=\"colab-df-container\">\n",
              "    <button class=\"colab-df-convert\" onclick=\"convertToInteractive('df-314a1aaa-2b34-4b9d-80bf-5d64c9b6f2fa')\"\n",
              "            title=\"Convert this dataframe to an interactive table.\"\n",
              "            style=\"display:none;\">\n",
              "\n",
              "  <svg xmlns=\"http://www.w3.org/2000/svg\" height=\"24px\" viewBox=\"0 -960 960 960\">\n",
              "    <path d=\"M120-120v-720h720v720H120Zm60-500h600v-160H180v160Zm220 220h160v-160H400v160Zm0 220h160v-160H400v160ZM180-400h160v-160H180v160Zm440 0h160v-160H620v160ZM180-180h160v-160H180v160Zm440 0h160v-160H620v160Z\"/>\n",
              "  </svg>\n",
              "    </button>\n",
              "\n",
              "  <style>\n",
              "    .colab-df-container {\n",
              "      display:flex;\n",
              "      gap: 12px;\n",
              "    }\n",
              "\n",
              "    .colab-df-convert {\n",
              "      background-color: #E8F0FE;\n",
              "      border: none;\n",
              "      border-radius: 50%;\n",
              "      cursor: pointer;\n",
              "      display: none;\n",
              "      fill: #1967D2;\n",
              "      height: 32px;\n",
              "      padding: 0 0 0 0;\n",
              "      width: 32px;\n",
              "    }\n",
              "\n",
              "    .colab-df-convert:hover {\n",
              "      background-color: #E2EBFA;\n",
              "      box-shadow: 0px 1px 2px rgba(60, 64, 67, 0.3), 0px 1px 3px 1px rgba(60, 64, 67, 0.15);\n",
              "      fill: #174EA6;\n",
              "    }\n",
              "\n",
              "    .colab-df-buttons div {\n",
              "      margin-bottom: 4px;\n",
              "    }\n",
              "\n",
              "    [theme=dark] .colab-df-convert {\n",
              "      background-color: #3B4455;\n",
              "      fill: #D2E3FC;\n",
              "    }\n",
              "\n",
              "    [theme=dark] .colab-df-convert:hover {\n",
              "      background-color: #434B5C;\n",
              "      box-shadow: 0px 1px 3px 1px rgba(0, 0, 0, 0.15);\n",
              "      filter: drop-shadow(0px 1px 2px rgba(0, 0, 0, 0.3));\n",
              "      fill: #FFFFFF;\n",
              "    }\n",
              "  </style>\n",
              "\n",
              "    <script>\n",
              "      const buttonEl =\n",
              "        document.querySelector('#df-314a1aaa-2b34-4b9d-80bf-5d64c9b6f2fa button.colab-df-convert');\n",
              "      buttonEl.style.display =\n",
              "        google.colab.kernel.accessAllowed ? 'block' : 'none';\n",
              "\n",
              "      async function convertToInteractive(key) {\n",
              "        const element = document.querySelector('#df-314a1aaa-2b34-4b9d-80bf-5d64c9b6f2fa');\n",
              "        const dataTable =\n",
              "          await google.colab.kernel.invokeFunction('convertToInteractive',\n",
              "                                                    [key], {});\n",
              "        if (!dataTable) return;\n",
              "\n",
              "        const docLinkHtml = 'Like what you see? Visit the ' +\n",
              "          '<a target=\"_blank\" href=https://colab.research.google.com/notebooks/data_table.ipynb>data table notebook</a>'\n",
              "          + ' to learn more about interactive tables.';\n",
              "        element.innerHTML = '';\n",
              "        dataTable['output_type'] = 'display_data';\n",
              "        await google.colab.output.renderOutput(dataTable, element);\n",
              "        const docLink = document.createElement('div');\n",
              "        docLink.innerHTML = docLinkHtml;\n",
              "        element.appendChild(docLink);\n",
              "      }\n",
              "    </script>\n",
              "  </div>\n",
              "\n",
              "\n",
              "<div id=\"df-c37109bf-c87a-449a-bddc-c7b815383660\">\n",
              "  <button class=\"colab-df-quickchart\" onclick=\"quickchart('df-c37109bf-c87a-449a-bddc-c7b815383660')\"\n",
              "            title=\"Suggest charts\"\n",
              "            style=\"display:none;\">\n",
              "\n",
              "<svg xmlns=\"http://www.w3.org/2000/svg\" height=\"24px\"viewBox=\"0 0 24 24\"\n",
              "     width=\"24px\">\n",
              "    <g>\n",
              "        <path d=\"M19 3H5c-1.1 0-2 .9-2 2v14c0 1.1.9 2 2 2h14c1.1 0 2-.9 2-2V5c0-1.1-.9-2-2-2zM9 17H7v-7h2v7zm4 0h-2V7h2v10zm4 0h-2v-4h2v4z\"/>\n",
              "    </g>\n",
              "</svg>\n",
              "  </button>\n",
              "\n",
              "<style>\n",
              "  .colab-df-quickchart {\n",
              "      --bg-color: #E8F0FE;\n",
              "      --fill-color: #1967D2;\n",
              "      --hover-bg-color: #E2EBFA;\n",
              "      --hover-fill-color: #174EA6;\n",
              "      --disabled-fill-color: #AAA;\n",
              "      --disabled-bg-color: #DDD;\n",
              "  }\n",
              "\n",
              "  [theme=dark] .colab-df-quickchart {\n",
              "      --bg-color: #3B4455;\n",
              "      --fill-color: #D2E3FC;\n",
              "      --hover-bg-color: #434B5C;\n",
              "      --hover-fill-color: #FFFFFF;\n",
              "      --disabled-bg-color: #3B4455;\n",
              "      --disabled-fill-color: #666;\n",
              "  }\n",
              "\n",
              "  .colab-df-quickchart {\n",
              "    background-color: var(--bg-color);\n",
              "    border: none;\n",
              "    border-radius: 50%;\n",
              "    cursor: pointer;\n",
              "    display: none;\n",
              "    fill: var(--fill-color);\n",
              "    height: 32px;\n",
              "    padding: 0;\n",
              "    width: 32px;\n",
              "  }\n",
              "\n",
              "  .colab-df-quickchart:hover {\n",
              "    background-color: var(--hover-bg-color);\n",
              "    box-shadow: 0 1px 2px rgba(60, 64, 67, 0.3), 0 1px 3px 1px rgba(60, 64, 67, 0.15);\n",
              "    fill: var(--button-hover-fill-color);\n",
              "  }\n",
              "\n",
              "  .colab-df-quickchart-complete:disabled,\n",
              "  .colab-df-quickchart-complete:disabled:hover {\n",
              "    background-color: var(--disabled-bg-color);\n",
              "    fill: var(--disabled-fill-color);\n",
              "    box-shadow: none;\n",
              "  }\n",
              "\n",
              "  .colab-df-spinner {\n",
              "    border: 2px solid var(--fill-color);\n",
              "    border-color: transparent;\n",
              "    border-bottom-color: var(--fill-color);\n",
              "    animation:\n",
              "      spin 1s steps(1) infinite;\n",
              "  }\n",
              "\n",
              "  @keyframes spin {\n",
              "    0% {\n",
              "      border-color: transparent;\n",
              "      border-bottom-color: var(--fill-color);\n",
              "      border-left-color: var(--fill-color);\n",
              "    }\n",
              "    20% {\n",
              "      border-color: transparent;\n",
              "      border-left-color: var(--fill-color);\n",
              "      border-top-color: var(--fill-color);\n",
              "    }\n",
              "    30% {\n",
              "      border-color: transparent;\n",
              "      border-left-color: var(--fill-color);\n",
              "      border-top-color: var(--fill-color);\n",
              "      border-right-color: var(--fill-color);\n",
              "    }\n",
              "    40% {\n",
              "      border-color: transparent;\n",
              "      border-right-color: var(--fill-color);\n",
              "      border-top-color: var(--fill-color);\n",
              "    }\n",
              "    60% {\n",
              "      border-color: transparent;\n",
              "      border-right-color: var(--fill-color);\n",
              "    }\n",
              "    80% {\n",
              "      border-color: transparent;\n",
              "      border-right-color: var(--fill-color);\n",
              "      border-bottom-color: var(--fill-color);\n",
              "    }\n",
              "    90% {\n",
              "      border-color: transparent;\n",
              "      border-bottom-color: var(--fill-color);\n",
              "    }\n",
              "  }\n",
              "</style>\n",
              "\n",
              "  <script>\n",
              "    async function quickchart(key) {\n",
              "      const quickchartButtonEl =\n",
              "        document.querySelector('#' + key + ' button');\n",
              "      quickchartButtonEl.disabled = true;  // To prevent multiple clicks.\n",
              "      quickchartButtonEl.classList.add('colab-df-spinner');\n",
              "      try {\n",
              "        const charts = await google.colab.kernel.invokeFunction(\n",
              "            'suggestCharts', [key], {});\n",
              "      } catch (error) {\n",
              "        console.error('Error during call to suggestCharts:', error);\n",
              "      }\n",
              "      quickchartButtonEl.classList.remove('colab-df-spinner');\n",
              "      quickchartButtonEl.classList.add('colab-df-quickchart-complete');\n",
              "    }\n",
              "    (() => {\n",
              "      let quickchartButtonEl =\n",
              "        document.querySelector('#df-c37109bf-c87a-449a-bddc-c7b815383660 button');\n",
              "      quickchartButtonEl.style.display =\n",
              "        google.colab.kernel.accessAllowed ? 'block' : 'none';\n",
              "    })();\n",
              "  </script>\n",
              "</div>\n",
              "\n",
              "    </div>\n",
              "  </div>\n"
            ],
            "application/vnd.google.colaboratory.intrinsic+json": {
              "type": "dataframe",
              "variable_name": "pd_df",
              "summary": "{\n  \"name\": \"pd_df\",\n  \"rows\": 36,\n  \"fields\": [\n    {\n      \"column\": \"State_UTs\",\n      \"properties\": {\n        \"dtype\": \"string\",\n        \"num_unique_values\": 36,\n        \"samples\": [\n          \"West Bengal\",\n          \"Jammu and Kashmir\",\n          \"Puducherry\"\n        ],\n        \"semantic_type\": \"\",\n        \"description\": \"\"\n      }\n    },\n    {\n      \"column\": \"Total_Cases\",\n      \"properties\": {\n        \"dtype\": \"int32\",\n        \"num_unique_values\": 36,\n        \"samples\": [\n          2126282,\n          482023,\n          177547\n        ],\n        \"semantic_type\": \"\",\n        \"description\": \"\"\n      }\n    },\n    {\n      \"column\": \"Active\",\n      \"properties\": {\n        \"dtype\": \"int32\",\n        \"num_unique_values\": 16,\n        \"samples\": [\n          0,\n          5,\n          27\n        ],\n        \"semantic_type\": \"\",\n        \"description\": \"\"\n      }\n    },\n    {\n      \"column\": \"Discharged\",\n      \"properties\": {\n        \"dtype\": \"int32\",\n        \"num_unique_values\": 36,\n        \"samples\": [\n          2104592,\n          477231,\n          175566\n        ],\n        \"semantic_type\": \"\",\n        \"description\": \"\"\n      }\n    },\n    {\n      \"column\": \"Deaths\",\n      \"properties\": {\n        \"dtype\": \"int32\",\n        \"num_unique_values\": 36,\n        \"samples\": [\n          21555,\n          4792,\n          1981\n        ],\n        \"semantic_type\": \"\",\n        \"description\": \"\"\n      }\n    },\n    {\n      \"column\": \"Active_Ratio\",\n      \"properties\": {\n        \"dtype\": \"number\",\n        \"std\": 0.026672618383439067,\n        \"min\": 0.0,\n        \"max\": 0.16,\n        \"num_unique_values\": 3,\n        \"samples\": [\n          0.0,\n          0.16,\n          0.01\n        ],\n        \"semantic_type\": \"\",\n        \"description\": \"\"\n      }\n    },\n    {\n      \"column\": \"Discharge_Ratio\",\n      \"properties\": {\n        \"dtype\": \"number\",\n        \"std\": 0.5068536622346096,\n        \"min\": 97.41,\n        \"max\": 99.97,\n        \"num_unique_values\": 30,\n        \"samples\": [\n          99.13,\n          99.54,\n          97.41\n        ],\n        \"semantic_type\": \"\",\n        \"description\": \"\"\n      }\n    },\n    {\n      \"column\": \"Death_Ratio\",\n      \"properties\": {\n        \"dtype\": \"number\",\n        \"std\": 0.4947906403498128,\n        \"min\": 0.03,\n        \"max\": 2.44,\n        \"num_unique_values\": 32,\n        \"samples\": [\n          1.11,\n          0.46,\n          2.44\n        ],\n        \"semantic_type\": \"\",\n        \"description\": \"\"\n      }\n    },\n    {\n      \"column\": \"Population\",\n      \"properties\": {\n        \"dtype\": \"int32\",\n        \"num_unique_values\": 36,\n        \"samples\": [\n          32199722,\n          66001,\n          2073074\n        ],\n        \"semantic_type\": \"\",\n        \"description\": \"\"\n      }\n    }\n  ]\n}"
            }
          },
          "metadata": {},
          "execution_count": 22
        }
      ]
    },
    {
      "cell_type": "code",
      "source": [
        "pd_df.describe()"
      ],
      "metadata": {
        "colab": {
          "base_uri": "https://localhost:8080/",
          "height": 320
        },
        "id": "h41KDCGV2w0p",
        "outputId": "2439e9cd-6a45-412d-fdfe-613ddd92a057"
      },
      "execution_count": 28,
      "outputs": [
        {
          "output_type": "execute_result",
          "data": {
            "text/plain": [
              "        Total_Cases       Active    Discharged         Deaths  Active_Ratio  \\\n",
              "count  3.600000e+01    36.000000  3.600000e+01      36.000000     36.000000   \n",
              "mean   1.249975e+06    50.333333  1.235146e+06   14778.527778      0.005000   \n",
              "std    1.846038e+06   207.118048  1.820328e+06   27221.140636      0.026673   \n",
              "min    1.076600e+04     0.000000  1.063700e+04       4.000000      0.000000   \n",
              "25%    1.065430e+05     0.000000  1.055395e+05    1124.250000      0.000000   \n",
              "50%    6.140910e+05     1.500000  6.076750e+05    6551.000000      0.000000   \n",
              "75%    1.331951e+06     9.000000  1.322329e+06   14325.750000      0.000000   \n",
              "max    8.171048e+06  1233.000000  8.022276e+06  148558.000000      0.160000   \n",
              "\n",
              "       Discharge_Ratio  Death_Ratio    Population  \n",
              "count        36.000000    36.000000  3.600000e+01  \n",
              "mean         98.897222     1.097778  3.971861e+07  \n",
              "std           0.506854     0.494791  5.050913e+07  \n",
              "min          97.410000     0.030000  6.600100e+04  \n",
              "25%          98.690000     0.840000  1.695473e+06  \n",
              "50%          98.935000     1.065000  2.410088e+07  \n",
              "75%          99.160000     1.310000  6.979986e+07  \n",
              "max          99.970000     2.440000  2.315026e+08  "
            ],
            "text/html": [
              "\n",
              "  <div id=\"df-84bd73ec-97ea-4ffb-a9f6-4b6466f4e9ea\" class=\"colab-df-container\">\n",
              "    <div>\n",
              "<style scoped>\n",
              "    .dataframe tbody tr th:only-of-type {\n",
              "        vertical-align: middle;\n",
              "    }\n",
              "\n",
              "    .dataframe tbody tr th {\n",
              "        vertical-align: top;\n",
              "    }\n",
              "\n",
              "    .dataframe thead th {\n",
              "        text-align: right;\n",
              "    }\n",
              "</style>\n",
              "<table border=\"1\" class=\"dataframe\">\n",
              "  <thead>\n",
              "    <tr style=\"text-align: right;\">\n",
              "      <th></th>\n",
              "      <th>Total_Cases</th>\n",
              "      <th>Active</th>\n",
              "      <th>Discharged</th>\n",
              "      <th>Deaths</th>\n",
              "      <th>Active_Ratio</th>\n",
              "      <th>Discharge_Ratio</th>\n",
              "      <th>Death_Ratio</th>\n",
              "      <th>Population</th>\n",
              "    </tr>\n",
              "  </thead>\n",
              "  <tbody>\n",
              "    <tr>\n",
              "      <th>count</th>\n",
              "      <td>3.600000e+01</td>\n",
              "      <td>36.000000</td>\n",
              "      <td>3.600000e+01</td>\n",
              "      <td>36.000000</td>\n",
              "      <td>36.000000</td>\n",
              "      <td>36.000000</td>\n",
              "      <td>36.000000</td>\n",
              "      <td>3.600000e+01</td>\n",
              "    </tr>\n",
              "    <tr>\n",
              "      <th>mean</th>\n",
              "      <td>1.249975e+06</td>\n",
              "      <td>50.333333</td>\n",
              "      <td>1.235146e+06</td>\n",
              "      <td>14778.527778</td>\n",
              "      <td>0.005000</td>\n",
              "      <td>98.897222</td>\n",
              "      <td>1.097778</td>\n",
              "      <td>3.971861e+07</td>\n",
              "    </tr>\n",
              "    <tr>\n",
              "      <th>std</th>\n",
              "      <td>1.846038e+06</td>\n",
              "      <td>207.118048</td>\n",
              "      <td>1.820328e+06</td>\n",
              "      <td>27221.140636</td>\n",
              "      <td>0.026673</td>\n",
              "      <td>0.506854</td>\n",
              "      <td>0.494791</td>\n",
              "      <td>5.050913e+07</td>\n",
              "    </tr>\n",
              "    <tr>\n",
              "      <th>min</th>\n",
              "      <td>1.076600e+04</td>\n",
              "      <td>0.000000</td>\n",
              "      <td>1.063700e+04</td>\n",
              "      <td>4.000000</td>\n",
              "      <td>0.000000</td>\n",
              "      <td>97.410000</td>\n",
              "      <td>0.030000</td>\n",
              "      <td>6.600100e+04</td>\n",
              "    </tr>\n",
              "    <tr>\n",
              "      <th>25%</th>\n",
              "      <td>1.065430e+05</td>\n",
              "      <td>0.000000</td>\n",
              "      <td>1.055395e+05</td>\n",
              "      <td>1124.250000</td>\n",
              "      <td>0.000000</td>\n",
              "      <td>98.690000</td>\n",
              "      <td>0.840000</td>\n",
              "      <td>1.695473e+06</td>\n",
              "    </tr>\n",
              "    <tr>\n",
              "      <th>50%</th>\n",
              "      <td>6.140910e+05</td>\n",
              "      <td>1.500000</td>\n",
              "      <td>6.076750e+05</td>\n",
              "      <td>6551.000000</td>\n",
              "      <td>0.000000</td>\n",
              "      <td>98.935000</td>\n",
              "      <td>1.065000</td>\n",
              "      <td>2.410088e+07</td>\n",
              "    </tr>\n",
              "    <tr>\n",
              "      <th>75%</th>\n",
              "      <td>1.331951e+06</td>\n",
              "      <td>9.000000</td>\n",
              "      <td>1.322329e+06</td>\n",
              "      <td>14325.750000</td>\n",
              "      <td>0.000000</td>\n",
              "      <td>99.160000</td>\n",
              "      <td>1.310000</td>\n",
              "      <td>6.979986e+07</td>\n",
              "    </tr>\n",
              "    <tr>\n",
              "      <th>max</th>\n",
              "      <td>8.171048e+06</td>\n",
              "      <td>1233.000000</td>\n",
              "      <td>8.022276e+06</td>\n",
              "      <td>148558.000000</td>\n",
              "      <td>0.160000</td>\n",
              "      <td>99.970000</td>\n",
              "      <td>2.440000</td>\n",
              "      <td>2.315026e+08</td>\n",
              "    </tr>\n",
              "  </tbody>\n",
              "</table>\n",
              "</div>\n",
              "    <div class=\"colab-df-buttons\">\n",
              "\n",
              "  <div class=\"colab-df-container\">\n",
              "    <button class=\"colab-df-convert\" onclick=\"convertToInteractive('df-84bd73ec-97ea-4ffb-a9f6-4b6466f4e9ea')\"\n",
              "            title=\"Convert this dataframe to an interactive table.\"\n",
              "            style=\"display:none;\">\n",
              "\n",
              "  <svg xmlns=\"http://www.w3.org/2000/svg\" height=\"24px\" viewBox=\"0 -960 960 960\">\n",
              "    <path d=\"M120-120v-720h720v720H120Zm60-500h600v-160H180v160Zm220 220h160v-160H400v160Zm0 220h160v-160H400v160ZM180-400h160v-160H180v160Zm440 0h160v-160H620v160ZM180-180h160v-160H180v160Zm440 0h160v-160H620v160Z\"/>\n",
              "  </svg>\n",
              "    </button>\n",
              "\n",
              "  <style>\n",
              "    .colab-df-container {\n",
              "      display:flex;\n",
              "      gap: 12px;\n",
              "    }\n",
              "\n",
              "    .colab-df-convert {\n",
              "      background-color: #E8F0FE;\n",
              "      border: none;\n",
              "      border-radius: 50%;\n",
              "      cursor: pointer;\n",
              "      display: none;\n",
              "      fill: #1967D2;\n",
              "      height: 32px;\n",
              "      padding: 0 0 0 0;\n",
              "      width: 32px;\n",
              "    }\n",
              "\n",
              "    .colab-df-convert:hover {\n",
              "      background-color: #E2EBFA;\n",
              "      box-shadow: 0px 1px 2px rgba(60, 64, 67, 0.3), 0px 1px 3px 1px rgba(60, 64, 67, 0.15);\n",
              "      fill: #174EA6;\n",
              "    }\n",
              "\n",
              "    .colab-df-buttons div {\n",
              "      margin-bottom: 4px;\n",
              "    }\n",
              "\n",
              "    [theme=dark] .colab-df-convert {\n",
              "      background-color: #3B4455;\n",
              "      fill: #D2E3FC;\n",
              "    }\n",
              "\n",
              "    [theme=dark] .colab-df-convert:hover {\n",
              "      background-color: #434B5C;\n",
              "      box-shadow: 0px 1px 3px 1px rgba(0, 0, 0, 0.15);\n",
              "      filter: drop-shadow(0px 1px 2px rgba(0, 0, 0, 0.3));\n",
              "      fill: #FFFFFF;\n",
              "    }\n",
              "  </style>\n",
              "\n",
              "    <script>\n",
              "      const buttonEl =\n",
              "        document.querySelector('#df-84bd73ec-97ea-4ffb-a9f6-4b6466f4e9ea button.colab-df-convert');\n",
              "      buttonEl.style.display =\n",
              "        google.colab.kernel.accessAllowed ? 'block' : 'none';\n",
              "\n",
              "      async function convertToInteractive(key) {\n",
              "        const element = document.querySelector('#df-84bd73ec-97ea-4ffb-a9f6-4b6466f4e9ea');\n",
              "        const dataTable =\n",
              "          await google.colab.kernel.invokeFunction('convertToInteractive',\n",
              "                                                    [key], {});\n",
              "        if (!dataTable) return;\n",
              "\n",
              "        const docLinkHtml = 'Like what you see? Visit the ' +\n",
              "          '<a target=\"_blank\" href=https://colab.research.google.com/notebooks/data_table.ipynb>data table notebook</a>'\n",
              "          + ' to learn more about interactive tables.';\n",
              "        element.innerHTML = '';\n",
              "        dataTable['output_type'] = 'display_data';\n",
              "        await google.colab.output.renderOutput(dataTable, element);\n",
              "        const docLink = document.createElement('div');\n",
              "        docLink.innerHTML = docLinkHtml;\n",
              "        element.appendChild(docLink);\n",
              "      }\n",
              "    </script>\n",
              "  </div>\n",
              "\n",
              "\n",
              "<div id=\"df-f97ea99e-adfa-4bbe-a784-8c694b7e8ec6\">\n",
              "  <button class=\"colab-df-quickchart\" onclick=\"quickchart('df-f97ea99e-adfa-4bbe-a784-8c694b7e8ec6')\"\n",
              "            title=\"Suggest charts\"\n",
              "            style=\"display:none;\">\n",
              "\n",
              "<svg xmlns=\"http://www.w3.org/2000/svg\" height=\"24px\"viewBox=\"0 0 24 24\"\n",
              "     width=\"24px\">\n",
              "    <g>\n",
              "        <path d=\"M19 3H5c-1.1 0-2 .9-2 2v14c0 1.1.9 2 2 2h14c1.1 0 2-.9 2-2V5c0-1.1-.9-2-2-2zM9 17H7v-7h2v7zm4 0h-2V7h2v10zm4 0h-2v-4h2v4z\"/>\n",
              "    </g>\n",
              "</svg>\n",
              "  </button>\n",
              "\n",
              "<style>\n",
              "  .colab-df-quickchart {\n",
              "      --bg-color: #E8F0FE;\n",
              "      --fill-color: #1967D2;\n",
              "      --hover-bg-color: #E2EBFA;\n",
              "      --hover-fill-color: #174EA6;\n",
              "      --disabled-fill-color: #AAA;\n",
              "      --disabled-bg-color: #DDD;\n",
              "  }\n",
              "\n",
              "  [theme=dark] .colab-df-quickchart {\n",
              "      --bg-color: #3B4455;\n",
              "      --fill-color: #D2E3FC;\n",
              "      --hover-bg-color: #434B5C;\n",
              "      --hover-fill-color: #FFFFFF;\n",
              "      --disabled-bg-color: #3B4455;\n",
              "      --disabled-fill-color: #666;\n",
              "  }\n",
              "\n",
              "  .colab-df-quickchart {\n",
              "    background-color: var(--bg-color);\n",
              "    border: none;\n",
              "    border-radius: 50%;\n",
              "    cursor: pointer;\n",
              "    display: none;\n",
              "    fill: var(--fill-color);\n",
              "    height: 32px;\n",
              "    padding: 0;\n",
              "    width: 32px;\n",
              "  }\n",
              "\n",
              "  .colab-df-quickchart:hover {\n",
              "    background-color: var(--hover-bg-color);\n",
              "    box-shadow: 0 1px 2px rgba(60, 64, 67, 0.3), 0 1px 3px 1px rgba(60, 64, 67, 0.15);\n",
              "    fill: var(--button-hover-fill-color);\n",
              "  }\n",
              "\n",
              "  .colab-df-quickchart-complete:disabled,\n",
              "  .colab-df-quickchart-complete:disabled:hover {\n",
              "    background-color: var(--disabled-bg-color);\n",
              "    fill: var(--disabled-fill-color);\n",
              "    box-shadow: none;\n",
              "  }\n",
              "\n",
              "  .colab-df-spinner {\n",
              "    border: 2px solid var(--fill-color);\n",
              "    border-color: transparent;\n",
              "    border-bottom-color: var(--fill-color);\n",
              "    animation:\n",
              "      spin 1s steps(1) infinite;\n",
              "  }\n",
              "\n",
              "  @keyframes spin {\n",
              "    0% {\n",
              "      border-color: transparent;\n",
              "      border-bottom-color: var(--fill-color);\n",
              "      border-left-color: var(--fill-color);\n",
              "    }\n",
              "    20% {\n",
              "      border-color: transparent;\n",
              "      border-left-color: var(--fill-color);\n",
              "      border-top-color: var(--fill-color);\n",
              "    }\n",
              "    30% {\n",
              "      border-color: transparent;\n",
              "      border-left-color: var(--fill-color);\n",
              "      border-top-color: var(--fill-color);\n",
              "      border-right-color: var(--fill-color);\n",
              "    }\n",
              "    40% {\n",
              "      border-color: transparent;\n",
              "      border-right-color: var(--fill-color);\n",
              "      border-top-color: var(--fill-color);\n",
              "    }\n",
              "    60% {\n",
              "      border-color: transparent;\n",
              "      border-right-color: var(--fill-color);\n",
              "    }\n",
              "    80% {\n",
              "      border-color: transparent;\n",
              "      border-right-color: var(--fill-color);\n",
              "      border-bottom-color: var(--fill-color);\n",
              "    }\n",
              "    90% {\n",
              "      border-color: transparent;\n",
              "      border-bottom-color: var(--fill-color);\n",
              "    }\n",
              "  }\n",
              "</style>\n",
              "\n",
              "  <script>\n",
              "    async function quickchart(key) {\n",
              "      const quickchartButtonEl =\n",
              "        document.querySelector('#' + key + ' button');\n",
              "      quickchartButtonEl.disabled = true;  // To prevent multiple clicks.\n",
              "      quickchartButtonEl.classList.add('colab-df-spinner');\n",
              "      try {\n",
              "        const charts = await google.colab.kernel.invokeFunction(\n",
              "            'suggestCharts', [key], {});\n",
              "      } catch (error) {\n",
              "        console.error('Error during call to suggestCharts:', error);\n",
              "      }\n",
              "      quickchartButtonEl.classList.remove('colab-df-spinner');\n",
              "      quickchartButtonEl.classList.add('colab-df-quickchart-complete');\n",
              "    }\n",
              "    (() => {\n",
              "      let quickchartButtonEl =\n",
              "        document.querySelector('#df-f97ea99e-adfa-4bbe-a784-8c694b7e8ec6 button');\n",
              "      quickchartButtonEl.style.display =\n",
              "        google.colab.kernel.accessAllowed ? 'block' : 'none';\n",
              "    })();\n",
              "  </script>\n",
              "</div>\n",
              "\n",
              "    </div>\n",
              "  </div>\n"
            ],
            "application/vnd.google.colaboratory.intrinsic+json": {
              "type": "dataframe",
              "summary": "{\n  \"name\": \"pd_df\",\n  \"rows\": 8,\n  \"fields\": [\n    {\n      \"column\": \"Total_Cases\",\n      \"properties\": {\n        \"dtype\": \"number\",\n        \"std\": 2717309.134622815,\n        \"min\": 36.0,\n        \"max\": 8171048.0,\n        \"num_unique_values\": 8,\n        \"samples\": [\n          1249974.5833333333,\n          614091.0,\n          36.0\n        ],\n        \"semantic_type\": \"\",\n        \"description\": \"\"\n      }\n    },\n    {\n      \"column\": \"Active\",\n      \"properties\": {\n        \"dtype\": \"number\",\n        \"std\": 426.249782014562,\n        \"min\": 0.0,\n        \"max\": 1233.0,\n        \"num_unique_values\": 7,\n        \"samples\": [\n          36.0,\n          50.333333333333336,\n          9.0\n        ],\n        \"semantic_type\": \"\",\n        \"description\": \"\"\n      }\n    },\n    {\n      \"column\": \"Discharged\",\n      \"properties\": {\n        \"dtype\": \"number\",\n        \"std\": 2667137.4362353277,\n        \"min\": 36.0,\n        \"max\": 8022276.0,\n        \"num_unique_values\": 8,\n        \"samples\": [\n          1235145.7222222222,\n          607675.0,\n          36.0\n        ],\n        \"semantic_type\": \"\",\n        \"description\": \"\"\n      }\n    },\n    {\n      \"column\": \"Deaths\",\n      \"properties\": {\n        \"dtype\": \"number\",\n        \"std\": 50183.24774907351,\n        \"min\": 4.0,\n        \"max\": 148558.0,\n        \"num_unique_values\": 8,\n        \"samples\": [\n          14778.527777777777,\n          6551.0,\n          36.0\n        ],\n        \"semantic_type\": \"\",\n        \"description\": \"\"\n      }\n    },\n    {\n      \"column\": \"Active_Ratio\",\n      \"properties\": {\n        \"dtype\": \"number\",\n        \"std\": 12.718359567199585,\n        \"min\": 0.0,\n        \"max\": 36.0,\n        \"num_unique_values\": 5,\n        \"samples\": [\n          0.005000000000000001,\n          0.16,\n          0.026672618383439067\n        ],\n        \"semantic_type\": \"\",\n        \"description\": \"\"\n      }\n    },\n    {\n      \"column\": \"Discharge_Ratio\",\n      \"properties\": {\n        \"dtype\": \"number\",\n        \"std\": 38.499591324649906,\n        \"min\": 0.5068536622346096,\n        \"max\": 99.97,\n        \"num_unique_values\": 8,\n        \"samples\": [\n          98.89722222222221,\n          98.935,\n          36.0\n        ],\n        \"semantic_type\": \"\",\n        \"description\": \"\"\n      }\n    },\n    {\n      \"column\": \"Death_Ratio\",\n      \"properties\": {\n        \"dtype\": \"number\",\n        \"std\": 12.379948464028125,\n        \"min\": 0.03,\n        \"max\": 36.0,\n        \"num_unique_values\": 8,\n        \"samples\": [\n          1.0977777777777777,\n          1.065,\n          36.0\n        ],\n        \"semantic_type\": \"\",\n        \"description\": \"\"\n      }\n    },\n    {\n      \"column\": \"Population\",\n      \"properties\": {\n        \"dtype\": \"number\",\n        \"std\": 76905197.82912755,\n        \"min\": 36.0,\n        \"max\": 231502578.0,\n        \"num_unique_values\": 8,\n        \"samples\": [\n          39718607.777777776,\n          24100881.5,\n          36.0\n        ],\n        \"semantic_type\": \"\",\n        \"description\": \"\"\n      }\n    }\n  ]\n}"
            }
          },
          "metadata": {},
          "execution_count": 28
        }
      ]
    },
    {
      "cell_type": "code",
      "source": [
        "# Make 4 Histograms: 'Total Cases', 'Deaths', 'Active', 'Discharged'\n",
        "import plotly.graph_objects as go\n",
        "import plotly.express as px\n",
        "from plotly.subplots import make_subplots\n",
        "\n",
        "fig = make_subplots(rows=2, cols=2, subplot_titles=['Total Cases', 'Deaths', 'Active', 'Discharged'])\n",
        "\n",
        "total_cases = go.Histogram(x=pd_df['Total_Cases'], nbinsx=20, name='Total Cases')\n",
        "deaths = go.Histogram(x=pd_df['Deaths'], nbinsx=20, name='Deaths')\n",
        "active = go.Histogram(x=pd_df['Active'], nbinsx=20, name='Active')\n",
        "discharged = go.Histogram(x=pd_df['Discharged'], nbinsx=20, name='Discharged')\n",
        "\n",
        "fig.add_trace(total_cases, 1, 1)\n",
        "fig.add_trace(deaths, 1, 2)\n",
        "fig.add_trace(active, 2, 1)\n",
        "fig.add_trace(discharged, 2, 2)\n",
        "\n",
        "fig.update_layout(showlegend=True)\n",
        "fig.show()"
      ],
      "metadata": {
        "colab": {
          "base_uri": "https://localhost:8080/",
          "height": 542
        },
        "id": "OgcMsfm63Mc1",
        "outputId": "637badd6-d6eb-48f0-d4b8-a9f3bc1022f2"
      },
      "execution_count": 34,
      "outputs": [
        {
          "output_type": "display_data",
          "data": {
            "text/html": [
              "<html>\n",
              "<head><meta charset=\"utf-8\" /></head>\n",
              "<body>\n",
              "    <div>            <script src=\"https://cdnjs.cloudflare.com/ajax/libs/mathjax/2.7.5/MathJax.js?config=TeX-AMS-MML_SVG\"></script><script type=\"text/javascript\">if (window.MathJax && window.MathJax.Hub && window.MathJax.Hub.Config) {window.MathJax.Hub.Config({SVG: {font: \"STIX-Web\"}});}</script>                <script type=\"text/javascript\">window.PlotlyConfig = {MathJaxConfig: 'local'};</script>\n",
              "        <script charset=\"utf-8\" src=\"https://cdn.plot.ly/plotly-2.35.2.min.js\"></script>                <div id=\"430908f3-68d7-43d3-9ed0-4daa9116cca9\" class=\"plotly-graph-div\" style=\"height:525px; width:100%;\"></div>            <script type=\"text/javascript\">                                    window.PLOTLYENV=window.PLOTLYENV || {};                                    if (document.getElementById(\"430908f3-68d7-43d3-9ed0-4daa9116cca9\")) {                    Plotly.newPlot(                        \"430908f3-68d7-43d3-9ed0-4daa9116cca9\",                        [{\"name\":\"Total Cases\",\"nbinsx\":20,\"x\":[10766,2340676,67049,746159,855267,100693,1187695,11592,2040910,263346,1291383,1078903,322905,482023,443826,4088769,6907241,29602,11415,1056351,8171048,140034,96983,239560,36033,1348409,177547,793644,1326465,44927,3610655,844432,108493,2145431,452571,2126282],\"type\":\"histogram\",\"xaxis\":\"x\",\"yaxis\":\"y\"},{\"name\":\"Deaths\",\"nbinsx\":20,\"x\":[129,14733,296,8035,12314,1185,14190,4,26666,4014,11079,10755,4241,4792,5334,40358,72042,231,52,10786,148558,2149,1628,734,782,9215,1981,19338,9736,501,38081,4111,942,23712,7768,21555],\"type\":\"histogram\",\"xaxis\":\"x2\",\"yaxis\":\"y2\"},{\"name\":\"Active\",\"nbinsx\":20,\"x\":[0,0,0,5,1,0,0,0,14,3,5,27,4,0,1,12,18,0,0,0,214,0,3,1,0,59,0,1233,2,4,5,8,1,57,0,135],\"type\":\"histogram\",\"xaxis\":\"x3\",\"yaxis\":\"y3\"},{\"name\":\"Discharged\",\"nbinsx\":20,\"x\":[10637,2325943,66753,738119,842952,99508,1173505,11588,2014230,259329,1280299,1068121,318660,477231,438491,4048399,6835181,29371,11363,1045565,8022276,137885,95352,238825,35251,1339135,175566,773073,1316727,44422,3572569,840313,107550,2121662,444803,2104592],\"type\":\"histogram\",\"xaxis\":\"x4\",\"yaxis\":\"y4\"}],                        {\"template\":{\"data\":{\"histogram2dcontour\":[{\"type\":\"histogram2dcontour\",\"colorbar\":{\"outlinewidth\":0,\"ticks\":\"\"},\"colorscale\":[[0.0,\"#0d0887\"],[0.1111111111111111,\"#46039f\"],[0.2222222222222222,\"#7201a8\"],[0.3333333333333333,\"#9c179e\"],[0.4444444444444444,\"#bd3786\"],[0.5555555555555556,\"#d8576b\"],[0.6666666666666666,\"#ed7953\"],[0.7777777777777778,\"#fb9f3a\"],[0.8888888888888888,\"#fdca26\"],[1.0,\"#f0f921\"]]}],\"choropleth\":[{\"type\":\"choropleth\",\"colorbar\":{\"outlinewidth\":0,\"ticks\":\"\"}}],\"histogram2d\":[{\"type\":\"histogram2d\",\"colorbar\":{\"outlinewidth\":0,\"ticks\":\"\"},\"colorscale\":[[0.0,\"#0d0887\"],[0.1111111111111111,\"#46039f\"],[0.2222222222222222,\"#7201a8\"],[0.3333333333333333,\"#9c179e\"],[0.4444444444444444,\"#bd3786\"],[0.5555555555555556,\"#d8576b\"],[0.6666666666666666,\"#ed7953\"],[0.7777777777777778,\"#fb9f3a\"],[0.8888888888888888,\"#fdca26\"],[1.0,\"#f0f921\"]]}],\"heatmap\":[{\"type\":\"heatmap\",\"colorbar\":{\"outlinewidth\":0,\"ticks\":\"\"},\"colorscale\":[[0.0,\"#0d0887\"],[0.1111111111111111,\"#46039f\"],[0.2222222222222222,\"#7201a8\"],[0.3333333333333333,\"#9c179e\"],[0.4444444444444444,\"#bd3786\"],[0.5555555555555556,\"#d8576b\"],[0.6666666666666666,\"#ed7953\"],[0.7777777777777778,\"#fb9f3a\"],[0.8888888888888888,\"#fdca26\"],[1.0,\"#f0f921\"]]}],\"heatmapgl\":[{\"type\":\"heatmapgl\",\"colorbar\":{\"outlinewidth\":0,\"ticks\":\"\"},\"colorscale\":[[0.0,\"#0d0887\"],[0.1111111111111111,\"#46039f\"],[0.2222222222222222,\"#7201a8\"],[0.3333333333333333,\"#9c179e\"],[0.4444444444444444,\"#bd3786\"],[0.5555555555555556,\"#d8576b\"],[0.6666666666666666,\"#ed7953\"],[0.7777777777777778,\"#fb9f3a\"],[0.8888888888888888,\"#fdca26\"],[1.0,\"#f0f921\"]]}],\"contourcarpet\":[{\"type\":\"contourcarpet\",\"colorbar\":{\"outlinewidth\":0,\"ticks\":\"\"}}],\"contour\":[{\"type\":\"contour\",\"colorbar\":{\"outlinewidth\":0,\"ticks\":\"\"},\"colorscale\":[[0.0,\"#0d0887\"],[0.1111111111111111,\"#46039f\"],[0.2222222222222222,\"#7201a8\"],[0.3333333333333333,\"#9c179e\"],[0.4444444444444444,\"#bd3786\"],[0.5555555555555556,\"#d8576b\"],[0.6666666666666666,\"#ed7953\"],[0.7777777777777778,\"#fb9f3a\"],[0.8888888888888888,\"#fdca26\"],[1.0,\"#f0f921\"]]}],\"surface\":[{\"type\":\"surface\",\"colorbar\":{\"outlinewidth\":0,\"ticks\":\"\"},\"colorscale\":[[0.0,\"#0d0887\"],[0.1111111111111111,\"#46039f\"],[0.2222222222222222,\"#7201a8\"],[0.3333333333333333,\"#9c179e\"],[0.4444444444444444,\"#bd3786\"],[0.5555555555555556,\"#d8576b\"],[0.6666666666666666,\"#ed7953\"],[0.7777777777777778,\"#fb9f3a\"],[0.8888888888888888,\"#fdca26\"],[1.0,\"#f0f921\"]]}],\"mesh3d\":[{\"type\":\"mesh3d\",\"colorbar\":{\"outlinewidth\":0,\"ticks\":\"\"}}],\"scatter\":[{\"fillpattern\":{\"fillmode\":\"overlay\",\"size\":10,\"solidity\":0.2},\"type\":\"scatter\"}],\"parcoords\":[{\"type\":\"parcoords\",\"line\":{\"colorbar\":{\"outlinewidth\":0,\"ticks\":\"\"}}}],\"scatterpolargl\":[{\"type\":\"scatterpolargl\",\"marker\":{\"colorbar\":{\"outlinewidth\":0,\"ticks\":\"\"}}}],\"bar\":[{\"error_x\":{\"color\":\"#2a3f5f\"},\"error_y\":{\"color\":\"#2a3f5f\"},\"marker\":{\"line\":{\"color\":\"#E5ECF6\",\"width\":0.5},\"pattern\":{\"fillmode\":\"overlay\",\"size\":10,\"solidity\":0.2}},\"type\":\"bar\"}],\"scattergeo\":[{\"type\":\"scattergeo\",\"marker\":{\"colorbar\":{\"outlinewidth\":0,\"ticks\":\"\"}}}],\"scatterpolar\":[{\"type\":\"scatterpolar\",\"marker\":{\"colorbar\":{\"outlinewidth\":0,\"ticks\":\"\"}}}],\"histogram\":[{\"marker\":{\"pattern\":{\"fillmode\":\"overlay\",\"size\":10,\"solidity\":0.2}},\"type\":\"histogram\"}],\"scattergl\":[{\"type\":\"scattergl\",\"marker\":{\"colorbar\":{\"outlinewidth\":0,\"ticks\":\"\"}}}],\"scatter3d\":[{\"type\":\"scatter3d\",\"line\":{\"colorbar\":{\"outlinewidth\":0,\"ticks\":\"\"}},\"marker\":{\"colorbar\":{\"outlinewidth\":0,\"ticks\":\"\"}}}],\"scattermapbox\":[{\"type\":\"scattermapbox\",\"marker\":{\"colorbar\":{\"outlinewidth\":0,\"ticks\":\"\"}}}],\"scatterternary\":[{\"type\":\"scatterternary\",\"marker\":{\"colorbar\":{\"outlinewidth\":0,\"ticks\":\"\"}}}],\"scattercarpet\":[{\"type\":\"scattercarpet\",\"marker\":{\"colorbar\":{\"outlinewidth\":0,\"ticks\":\"\"}}}],\"carpet\":[{\"aaxis\":{\"endlinecolor\":\"#2a3f5f\",\"gridcolor\":\"white\",\"linecolor\":\"white\",\"minorgridcolor\":\"white\",\"startlinecolor\":\"#2a3f5f\"},\"baxis\":{\"endlinecolor\":\"#2a3f5f\",\"gridcolor\":\"white\",\"linecolor\":\"white\",\"minorgridcolor\":\"white\",\"startlinecolor\":\"#2a3f5f\"},\"type\":\"carpet\"}],\"table\":[{\"cells\":{\"fill\":{\"color\":\"#EBF0F8\"},\"line\":{\"color\":\"white\"}},\"header\":{\"fill\":{\"color\":\"#C8D4E3\"},\"line\":{\"color\":\"white\"}},\"type\":\"table\"}],\"barpolar\":[{\"marker\":{\"line\":{\"color\":\"#E5ECF6\",\"width\":0.5},\"pattern\":{\"fillmode\":\"overlay\",\"size\":10,\"solidity\":0.2}},\"type\":\"barpolar\"}],\"pie\":[{\"automargin\":true,\"type\":\"pie\"}]},\"layout\":{\"autotypenumbers\":\"strict\",\"colorway\":[\"#636efa\",\"#EF553B\",\"#00cc96\",\"#ab63fa\",\"#FFA15A\",\"#19d3f3\",\"#FF6692\",\"#B6E880\",\"#FF97FF\",\"#FECB52\"],\"font\":{\"color\":\"#2a3f5f\"},\"hovermode\":\"closest\",\"hoverlabel\":{\"align\":\"left\"},\"paper_bgcolor\":\"white\",\"plot_bgcolor\":\"#E5ECF6\",\"polar\":{\"bgcolor\":\"#E5ECF6\",\"angularaxis\":{\"gridcolor\":\"white\",\"linecolor\":\"white\",\"ticks\":\"\"},\"radialaxis\":{\"gridcolor\":\"white\",\"linecolor\":\"white\",\"ticks\":\"\"}},\"ternary\":{\"bgcolor\":\"#E5ECF6\",\"aaxis\":{\"gridcolor\":\"white\",\"linecolor\":\"white\",\"ticks\":\"\"},\"baxis\":{\"gridcolor\":\"white\",\"linecolor\":\"white\",\"ticks\":\"\"},\"caxis\":{\"gridcolor\":\"white\",\"linecolor\":\"white\",\"ticks\":\"\"}},\"coloraxis\":{\"colorbar\":{\"outlinewidth\":0,\"ticks\":\"\"}},\"colorscale\":{\"sequential\":[[0.0,\"#0d0887\"],[0.1111111111111111,\"#46039f\"],[0.2222222222222222,\"#7201a8\"],[0.3333333333333333,\"#9c179e\"],[0.4444444444444444,\"#bd3786\"],[0.5555555555555556,\"#d8576b\"],[0.6666666666666666,\"#ed7953\"],[0.7777777777777778,\"#fb9f3a\"],[0.8888888888888888,\"#fdca26\"],[1.0,\"#f0f921\"]],\"sequentialminus\":[[0.0,\"#0d0887\"],[0.1111111111111111,\"#46039f\"],[0.2222222222222222,\"#7201a8\"],[0.3333333333333333,\"#9c179e\"],[0.4444444444444444,\"#bd3786\"],[0.5555555555555556,\"#d8576b\"],[0.6666666666666666,\"#ed7953\"],[0.7777777777777778,\"#fb9f3a\"],[0.8888888888888888,\"#fdca26\"],[1.0,\"#f0f921\"]],\"diverging\":[[0,\"#8e0152\"],[0.1,\"#c51b7d\"],[0.2,\"#de77ae\"],[0.3,\"#f1b6da\"],[0.4,\"#fde0ef\"],[0.5,\"#f7f7f7\"],[0.6,\"#e6f5d0\"],[0.7,\"#b8e186\"],[0.8,\"#7fbc41\"],[0.9,\"#4d9221\"],[1,\"#276419\"]]},\"xaxis\":{\"gridcolor\":\"white\",\"linecolor\":\"white\",\"ticks\":\"\",\"title\":{\"standoff\":15},\"zerolinecolor\":\"white\",\"automargin\":true,\"zerolinewidth\":2},\"yaxis\":{\"gridcolor\":\"white\",\"linecolor\":\"white\",\"ticks\":\"\",\"title\":{\"standoff\":15},\"zerolinecolor\":\"white\",\"automargin\":true,\"zerolinewidth\":2},\"scene\":{\"xaxis\":{\"backgroundcolor\":\"#E5ECF6\",\"gridcolor\":\"white\",\"linecolor\":\"white\",\"showbackground\":true,\"ticks\":\"\",\"zerolinecolor\":\"white\",\"gridwidth\":2},\"yaxis\":{\"backgroundcolor\":\"#E5ECF6\",\"gridcolor\":\"white\",\"linecolor\":\"white\",\"showbackground\":true,\"ticks\":\"\",\"zerolinecolor\":\"white\",\"gridwidth\":2},\"zaxis\":{\"backgroundcolor\":\"#E5ECF6\",\"gridcolor\":\"white\",\"linecolor\":\"white\",\"showbackground\":true,\"ticks\":\"\",\"zerolinecolor\":\"white\",\"gridwidth\":2}},\"shapedefaults\":{\"line\":{\"color\":\"#2a3f5f\"}},\"annotationdefaults\":{\"arrowcolor\":\"#2a3f5f\",\"arrowhead\":0,\"arrowwidth\":1},\"geo\":{\"bgcolor\":\"white\",\"landcolor\":\"#E5ECF6\",\"subunitcolor\":\"white\",\"showland\":true,\"showlakes\":true,\"lakecolor\":\"white\"},\"title\":{\"x\":0.05},\"mapbox\":{\"style\":\"light\"}}},\"xaxis\":{\"anchor\":\"y\",\"domain\":[0.0,0.45]},\"yaxis\":{\"anchor\":\"x\",\"domain\":[0.625,1.0]},\"xaxis2\":{\"anchor\":\"y2\",\"domain\":[0.55,1.0]},\"yaxis2\":{\"anchor\":\"x2\",\"domain\":[0.625,1.0]},\"xaxis3\":{\"anchor\":\"y3\",\"domain\":[0.0,0.45]},\"yaxis3\":{\"anchor\":\"x3\",\"domain\":[0.0,0.375]},\"xaxis4\":{\"anchor\":\"y4\",\"domain\":[0.55,1.0]},\"yaxis4\":{\"anchor\":\"x4\",\"domain\":[0.0,0.375]},\"annotations\":[{\"font\":{\"size\":16},\"showarrow\":false,\"text\":\"Total Cases\",\"x\":0.225,\"xanchor\":\"center\",\"xref\":\"paper\",\"y\":1.0,\"yanchor\":\"bottom\",\"yref\":\"paper\"},{\"font\":{\"size\":16},\"showarrow\":false,\"text\":\"Deaths\",\"x\":0.775,\"xanchor\":\"center\",\"xref\":\"paper\",\"y\":1.0,\"yanchor\":\"bottom\",\"yref\":\"paper\"},{\"font\":{\"size\":16},\"showarrow\":false,\"text\":\"Active\",\"x\":0.225,\"xanchor\":\"center\",\"xref\":\"paper\",\"y\":0.375,\"yanchor\":\"bottom\",\"yref\":\"paper\"},{\"font\":{\"size\":16},\"showarrow\":false,\"text\":\"Discharged\",\"x\":0.775,\"xanchor\":\"center\",\"xref\":\"paper\",\"y\":0.375,\"yanchor\":\"bottom\",\"yref\":\"paper\"}],\"showlegend\":true},                        {\"responsive\": true}                    ).then(function(){\n",
              "                            \n",
              "var gd = document.getElementById('430908f3-68d7-43d3-9ed0-4daa9116cca9');\n",
              "var x = new MutationObserver(function (mutations, observer) {{\n",
              "        var display = window.getComputedStyle(gd).display;\n",
              "        if (!display || display === 'none') {{\n",
              "            console.log([gd, 'removed!']);\n",
              "            Plotly.purge(gd);\n",
              "            observer.disconnect();\n",
              "        }}\n",
              "}});\n",
              "\n",
              "// Listen for the removal of the full notebook cells\n",
              "var notebookContainer = gd.closest('#notebook-container');\n",
              "if (notebookContainer) {{\n",
              "    x.observe(notebookContainer, {childList: true});\n",
              "}}\n",
              "\n",
              "// Listen for the clearing of the current output cell\n",
              "var outputEl = gd.closest('.output');\n",
              "if (outputEl) {{\n",
              "    x.observe(outputEl, {childList: true});\n",
              "}}\n",
              "\n",
              "                        })                };                            </script>        </div>\n",
              "</body>\n",
              "</html>"
            ]
          },
          "metadata": {}
        }
      ]
    },
    {
      "cell_type": "code",
      "source": [
        "fig = make_subplots(rows=2, cols=2, subplot_titles=['Total Cases', 'Deaths', 'Active', 'Discharged'])\n",
        "\n",
        "total_cases = go.Box(x=pd_df['Total_Cases'], name='Total Cases', text=pd_df['State_UTs'])\n",
        "deaths = go.Box(x=pd_df['Deaths'], name='Deaths', text=pd_df['State_UTs'])\n",
        "active = go.Box(x=pd_df['Active'], name='Active', text=pd_df['State_UTs'])\n",
        "discharged = go.Box(x=pd_df['Discharged'], name='Discharged', text=pd_df['State_UTs'])\n",
        "\n",
        "fig.add_trace(total_cases, 1, 1)\n",
        "fig.add_trace(deaths, 1, 2)\n",
        "fig.add_trace(active, 2, 1)\n",
        "fig.add_trace(discharged, 2, 2)\n",
        "\n",
        "fig.update_layout(showlegend=False)\n",
        "fig.show()"
      ],
      "metadata": {
        "colab": {
          "base_uri": "https://localhost:8080/",
          "height": 542
        },
        "id": "Ctw0Zh2t4hPC",
        "outputId": "5fa8d32b-7bdf-4624-e6dc-8d3213b0b1fb"
      },
      "execution_count": 38,
      "outputs": [
        {
          "output_type": "display_data",
          "data": {
            "text/html": [
              "<html>\n",
              "<head><meta charset=\"utf-8\" /></head>\n",
              "<body>\n",
              "    <div>            <script src=\"https://cdnjs.cloudflare.com/ajax/libs/mathjax/2.7.5/MathJax.js?config=TeX-AMS-MML_SVG\"></script><script type=\"text/javascript\">if (window.MathJax && window.MathJax.Hub && window.MathJax.Hub.Config) {window.MathJax.Hub.Config({SVG: {font: \"STIX-Web\"}});}</script>                <script type=\"text/javascript\">window.PlotlyConfig = {MathJaxConfig: 'local'};</script>\n",
              "        <script charset=\"utf-8\" src=\"https://cdn.plot.ly/plotly-2.35.2.min.js\"></script>                <div id=\"1b77a94d-892e-4dca-9da7-77831fdf9825\" class=\"plotly-graph-div\" style=\"height:525px; width:100%;\"></div>            <script type=\"text/javascript\">                                    window.PLOTLYENV=window.PLOTLYENV || {};                                    if (document.getElementById(\"1b77a94d-892e-4dca-9da7-77831fdf9825\")) {                    Plotly.newPlot(                        \"1b77a94d-892e-4dca-9da7-77831fdf9825\",                        [{\"name\":\"Total Cases\",\"text\":[\"Andaman and Nicobar\",\"Andhra Pradesh\",\"Arunachal Pradesh\",\"Assam\",\"Bihar\",\"Chandigarh\",\"Chhattisgarh\",\"Dadra and Nagar Haveli and Daman and Diu\",\"Delhi\",\"Goa\",\"Gujarat\",\"Haryana\",\"Himachal Pradesh\",\"Jammu and Kashmir\",\"Jharkhand\",\"Karnataka\",\"Kerala\",\"Ladakh\",\"Lakshadweep\",\"Madhya Pradesh\",\"Maharashtra\",\"Manipur\",\"Meghalaya\",\"Mizoram\",\"Nagaland\",\"Odisha\",\"Puducherry\",\"Punjab\",\"Rajasthan\",\"Sikkim\",\"Tamil Nadu\",\"Telengana\",\"Tripura\",\"Uttar Pradesh\",\"Uttarakhand\",\"West Bengal\"],\"x\":[10766,2340676,67049,746159,855267,100693,1187695,11592,2040910,263346,1291383,1078903,322905,482023,443826,4088769,6907241,29602,11415,1056351,8171048,140034,96983,239560,36033,1348409,177547,793644,1326465,44927,3610655,844432,108493,2145431,452571,2126282],\"type\":\"box\",\"xaxis\":\"x\",\"yaxis\":\"y\"},{\"name\":\"Deaths\",\"text\":[\"Andaman and Nicobar\",\"Andhra Pradesh\",\"Arunachal Pradesh\",\"Assam\",\"Bihar\",\"Chandigarh\",\"Chhattisgarh\",\"Dadra and Nagar Haveli and Daman and Diu\",\"Delhi\",\"Goa\",\"Gujarat\",\"Haryana\",\"Himachal Pradesh\",\"Jammu and Kashmir\",\"Jharkhand\",\"Karnataka\",\"Kerala\",\"Ladakh\",\"Lakshadweep\",\"Madhya Pradesh\",\"Maharashtra\",\"Manipur\",\"Meghalaya\",\"Mizoram\",\"Nagaland\",\"Odisha\",\"Puducherry\",\"Punjab\",\"Rajasthan\",\"Sikkim\",\"Tamil Nadu\",\"Telengana\",\"Tripura\",\"Uttar Pradesh\",\"Uttarakhand\",\"West Bengal\"],\"x\":[129,14733,296,8035,12314,1185,14190,4,26666,4014,11079,10755,4241,4792,5334,40358,72042,231,52,10786,148558,2149,1628,734,782,9215,1981,19338,9736,501,38081,4111,942,23712,7768,21555],\"type\":\"box\",\"xaxis\":\"x2\",\"yaxis\":\"y2\"},{\"name\":\"Active\",\"text\":[\"Andaman and Nicobar\",\"Andhra Pradesh\",\"Arunachal Pradesh\",\"Assam\",\"Bihar\",\"Chandigarh\",\"Chhattisgarh\",\"Dadra and Nagar Haveli and Daman and Diu\",\"Delhi\",\"Goa\",\"Gujarat\",\"Haryana\",\"Himachal Pradesh\",\"Jammu and Kashmir\",\"Jharkhand\",\"Karnataka\",\"Kerala\",\"Ladakh\",\"Lakshadweep\",\"Madhya Pradesh\",\"Maharashtra\",\"Manipur\",\"Meghalaya\",\"Mizoram\",\"Nagaland\",\"Odisha\",\"Puducherry\",\"Punjab\",\"Rajasthan\",\"Sikkim\",\"Tamil Nadu\",\"Telengana\",\"Tripura\",\"Uttar Pradesh\",\"Uttarakhand\",\"West Bengal\"],\"x\":[0,0,0,5,1,0,0,0,14,3,5,27,4,0,1,12,18,0,0,0,214,0,3,1,0,59,0,1233,2,4,5,8,1,57,0,135],\"type\":\"box\",\"xaxis\":\"x3\",\"yaxis\":\"y3\"},{\"name\":\"Discharged\",\"text\":[\"Andaman and Nicobar\",\"Andhra Pradesh\",\"Arunachal Pradesh\",\"Assam\",\"Bihar\",\"Chandigarh\",\"Chhattisgarh\",\"Dadra and Nagar Haveli and Daman and Diu\",\"Delhi\",\"Goa\",\"Gujarat\",\"Haryana\",\"Himachal Pradesh\",\"Jammu and Kashmir\",\"Jharkhand\",\"Karnataka\",\"Kerala\",\"Ladakh\",\"Lakshadweep\",\"Madhya Pradesh\",\"Maharashtra\",\"Manipur\",\"Meghalaya\",\"Mizoram\",\"Nagaland\",\"Odisha\",\"Puducherry\",\"Punjab\",\"Rajasthan\",\"Sikkim\",\"Tamil Nadu\",\"Telengana\",\"Tripura\",\"Uttar Pradesh\",\"Uttarakhand\",\"West Bengal\"],\"x\":[10637,2325943,66753,738119,842952,99508,1173505,11588,2014230,259329,1280299,1068121,318660,477231,438491,4048399,6835181,29371,11363,1045565,8022276,137885,95352,238825,35251,1339135,175566,773073,1316727,44422,3572569,840313,107550,2121662,444803,2104592],\"type\":\"box\",\"xaxis\":\"x4\",\"yaxis\":\"y4\"}],                        {\"template\":{\"data\":{\"histogram2dcontour\":[{\"type\":\"histogram2dcontour\",\"colorbar\":{\"outlinewidth\":0,\"ticks\":\"\"},\"colorscale\":[[0.0,\"#0d0887\"],[0.1111111111111111,\"#46039f\"],[0.2222222222222222,\"#7201a8\"],[0.3333333333333333,\"#9c179e\"],[0.4444444444444444,\"#bd3786\"],[0.5555555555555556,\"#d8576b\"],[0.6666666666666666,\"#ed7953\"],[0.7777777777777778,\"#fb9f3a\"],[0.8888888888888888,\"#fdca26\"],[1.0,\"#f0f921\"]]}],\"choropleth\":[{\"type\":\"choropleth\",\"colorbar\":{\"outlinewidth\":0,\"ticks\":\"\"}}],\"histogram2d\":[{\"type\":\"histogram2d\",\"colorbar\":{\"outlinewidth\":0,\"ticks\":\"\"},\"colorscale\":[[0.0,\"#0d0887\"],[0.1111111111111111,\"#46039f\"],[0.2222222222222222,\"#7201a8\"],[0.3333333333333333,\"#9c179e\"],[0.4444444444444444,\"#bd3786\"],[0.5555555555555556,\"#d8576b\"],[0.6666666666666666,\"#ed7953\"],[0.7777777777777778,\"#fb9f3a\"],[0.8888888888888888,\"#fdca26\"],[1.0,\"#f0f921\"]]}],\"heatmap\":[{\"type\":\"heatmap\",\"colorbar\":{\"outlinewidth\":0,\"ticks\":\"\"},\"colorscale\":[[0.0,\"#0d0887\"],[0.1111111111111111,\"#46039f\"],[0.2222222222222222,\"#7201a8\"],[0.3333333333333333,\"#9c179e\"],[0.4444444444444444,\"#bd3786\"],[0.5555555555555556,\"#d8576b\"],[0.6666666666666666,\"#ed7953\"],[0.7777777777777778,\"#fb9f3a\"],[0.8888888888888888,\"#fdca26\"],[1.0,\"#f0f921\"]]}],\"heatmapgl\":[{\"type\":\"heatmapgl\",\"colorbar\":{\"outlinewidth\":0,\"ticks\":\"\"},\"colorscale\":[[0.0,\"#0d0887\"],[0.1111111111111111,\"#46039f\"],[0.2222222222222222,\"#7201a8\"],[0.3333333333333333,\"#9c179e\"],[0.4444444444444444,\"#bd3786\"],[0.5555555555555556,\"#d8576b\"],[0.6666666666666666,\"#ed7953\"],[0.7777777777777778,\"#fb9f3a\"],[0.8888888888888888,\"#fdca26\"],[1.0,\"#f0f921\"]]}],\"contourcarpet\":[{\"type\":\"contourcarpet\",\"colorbar\":{\"outlinewidth\":0,\"ticks\":\"\"}}],\"contour\":[{\"type\":\"contour\",\"colorbar\":{\"outlinewidth\":0,\"ticks\":\"\"},\"colorscale\":[[0.0,\"#0d0887\"],[0.1111111111111111,\"#46039f\"],[0.2222222222222222,\"#7201a8\"],[0.3333333333333333,\"#9c179e\"],[0.4444444444444444,\"#bd3786\"],[0.5555555555555556,\"#d8576b\"],[0.6666666666666666,\"#ed7953\"],[0.7777777777777778,\"#fb9f3a\"],[0.8888888888888888,\"#fdca26\"],[1.0,\"#f0f921\"]]}],\"surface\":[{\"type\":\"surface\",\"colorbar\":{\"outlinewidth\":0,\"ticks\":\"\"},\"colorscale\":[[0.0,\"#0d0887\"],[0.1111111111111111,\"#46039f\"],[0.2222222222222222,\"#7201a8\"],[0.3333333333333333,\"#9c179e\"],[0.4444444444444444,\"#bd3786\"],[0.5555555555555556,\"#d8576b\"],[0.6666666666666666,\"#ed7953\"],[0.7777777777777778,\"#fb9f3a\"],[0.8888888888888888,\"#fdca26\"],[1.0,\"#f0f921\"]]}],\"mesh3d\":[{\"type\":\"mesh3d\",\"colorbar\":{\"outlinewidth\":0,\"ticks\":\"\"}}],\"scatter\":[{\"fillpattern\":{\"fillmode\":\"overlay\",\"size\":10,\"solidity\":0.2},\"type\":\"scatter\"}],\"parcoords\":[{\"type\":\"parcoords\",\"line\":{\"colorbar\":{\"outlinewidth\":0,\"ticks\":\"\"}}}],\"scatterpolargl\":[{\"type\":\"scatterpolargl\",\"marker\":{\"colorbar\":{\"outlinewidth\":0,\"ticks\":\"\"}}}],\"bar\":[{\"error_x\":{\"color\":\"#2a3f5f\"},\"error_y\":{\"color\":\"#2a3f5f\"},\"marker\":{\"line\":{\"color\":\"#E5ECF6\",\"width\":0.5},\"pattern\":{\"fillmode\":\"overlay\",\"size\":10,\"solidity\":0.2}},\"type\":\"bar\"}],\"scattergeo\":[{\"type\":\"scattergeo\",\"marker\":{\"colorbar\":{\"outlinewidth\":0,\"ticks\":\"\"}}}],\"scatterpolar\":[{\"type\":\"scatterpolar\",\"marker\":{\"colorbar\":{\"outlinewidth\":0,\"ticks\":\"\"}}}],\"histogram\":[{\"marker\":{\"pattern\":{\"fillmode\":\"overlay\",\"size\":10,\"solidity\":0.2}},\"type\":\"histogram\"}],\"scattergl\":[{\"type\":\"scattergl\",\"marker\":{\"colorbar\":{\"outlinewidth\":0,\"ticks\":\"\"}}}],\"scatter3d\":[{\"type\":\"scatter3d\",\"line\":{\"colorbar\":{\"outlinewidth\":0,\"ticks\":\"\"}},\"marker\":{\"colorbar\":{\"outlinewidth\":0,\"ticks\":\"\"}}}],\"scattermapbox\":[{\"type\":\"scattermapbox\",\"marker\":{\"colorbar\":{\"outlinewidth\":0,\"ticks\":\"\"}}}],\"scatterternary\":[{\"type\":\"scatterternary\",\"marker\":{\"colorbar\":{\"outlinewidth\":0,\"ticks\":\"\"}}}],\"scattercarpet\":[{\"type\":\"scattercarpet\",\"marker\":{\"colorbar\":{\"outlinewidth\":0,\"ticks\":\"\"}}}],\"carpet\":[{\"aaxis\":{\"endlinecolor\":\"#2a3f5f\",\"gridcolor\":\"white\",\"linecolor\":\"white\",\"minorgridcolor\":\"white\",\"startlinecolor\":\"#2a3f5f\"},\"baxis\":{\"endlinecolor\":\"#2a3f5f\",\"gridcolor\":\"white\",\"linecolor\":\"white\",\"minorgridcolor\":\"white\",\"startlinecolor\":\"#2a3f5f\"},\"type\":\"carpet\"}],\"table\":[{\"cells\":{\"fill\":{\"color\":\"#EBF0F8\"},\"line\":{\"color\":\"white\"}},\"header\":{\"fill\":{\"color\":\"#C8D4E3\"},\"line\":{\"color\":\"white\"}},\"type\":\"table\"}],\"barpolar\":[{\"marker\":{\"line\":{\"color\":\"#E5ECF6\",\"width\":0.5},\"pattern\":{\"fillmode\":\"overlay\",\"size\":10,\"solidity\":0.2}},\"type\":\"barpolar\"}],\"pie\":[{\"automargin\":true,\"type\":\"pie\"}]},\"layout\":{\"autotypenumbers\":\"strict\",\"colorway\":[\"#636efa\",\"#EF553B\",\"#00cc96\",\"#ab63fa\",\"#FFA15A\",\"#19d3f3\",\"#FF6692\",\"#B6E880\",\"#FF97FF\",\"#FECB52\"],\"font\":{\"color\":\"#2a3f5f\"},\"hovermode\":\"closest\",\"hoverlabel\":{\"align\":\"left\"},\"paper_bgcolor\":\"white\",\"plot_bgcolor\":\"#E5ECF6\",\"polar\":{\"bgcolor\":\"#E5ECF6\",\"angularaxis\":{\"gridcolor\":\"white\",\"linecolor\":\"white\",\"ticks\":\"\"},\"radialaxis\":{\"gridcolor\":\"white\",\"linecolor\":\"white\",\"ticks\":\"\"}},\"ternary\":{\"bgcolor\":\"#E5ECF6\",\"aaxis\":{\"gridcolor\":\"white\",\"linecolor\":\"white\",\"ticks\":\"\"},\"baxis\":{\"gridcolor\":\"white\",\"linecolor\":\"white\",\"ticks\":\"\"},\"caxis\":{\"gridcolor\":\"white\",\"linecolor\":\"white\",\"ticks\":\"\"}},\"coloraxis\":{\"colorbar\":{\"outlinewidth\":0,\"ticks\":\"\"}},\"colorscale\":{\"sequential\":[[0.0,\"#0d0887\"],[0.1111111111111111,\"#46039f\"],[0.2222222222222222,\"#7201a8\"],[0.3333333333333333,\"#9c179e\"],[0.4444444444444444,\"#bd3786\"],[0.5555555555555556,\"#d8576b\"],[0.6666666666666666,\"#ed7953\"],[0.7777777777777778,\"#fb9f3a\"],[0.8888888888888888,\"#fdca26\"],[1.0,\"#f0f921\"]],\"sequentialminus\":[[0.0,\"#0d0887\"],[0.1111111111111111,\"#46039f\"],[0.2222222222222222,\"#7201a8\"],[0.3333333333333333,\"#9c179e\"],[0.4444444444444444,\"#bd3786\"],[0.5555555555555556,\"#d8576b\"],[0.6666666666666666,\"#ed7953\"],[0.7777777777777778,\"#fb9f3a\"],[0.8888888888888888,\"#fdca26\"],[1.0,\"#f0f921\"]],\"diverging\":[[0,\"#8e0152\"],[0.1,\"#c51b7d\"],[0.2,\"#de77ae\"],[0.3,\"#f1b6da\"],[0.4,\"#fde0ef\"],[0.5,\"#f7f7f7\"],[0.6,\"#e6f5d0\"],[0.7,\"#b8e186\"],[0.8,\"#7fbc41\"],[0.9,\"#4d9221\"],[1,\"#276419\"]]},\"xaxis\":{\"gridcolor\":\"white\",\"linecolor\":\"white\",\"ticks\":\"\",\"title\":{\"standoff\":15},\"zerolinecolor\":\"white\",\"automargin\":true,\"zerolinewidth\":2},\"yaxis\":{\"gridcolor\":\"white\",\"linecolor\":\"white\",\"ticks\":\"\",\"title\":{\"standoff\":15},\"zerolinecolor\":\"white\",\"automargin\":true,\"zerolinewidth\":2},\"scene\":{\"xaxis\":{\"backgroundcolor\":\"#E5ECF6\",\"gridcolor\":\"white\",\"linecolor\":\"white\",\"showbackground\":true,\"ticks\":\"\",\"zerolinecolor\":\"white\",\"gridwidth\":2},\"yaxis\":{\"backgroundcolor\":\"#E5ECF6\",\"gridcolor\":\"white\",\"linecolor\":\"white\",\"showbackground\":true,\"ticks\":\"\",\"zerolinecolor\":\"white\",\"gridwidth\":2},\"zaxis\":{\"backgroundcolor\":\"#E5ECF6\",\"gridcolor\":\"white\",\"linecolor\":\"white\",\"showbackground\":true,\"ticks\":\"\",\"zerolinecolor\":\"white\",\"gridwidth\":2}},\"shapedefaults\":{\"line\":{\"color\":\"#2a3f5f\"}},\"annotationdefaults\":{\"arrowcolor\":\"#2a3f5f\",\"arrowhead\":0,\"arrowwidth\":1},\"geo\":{\"bgcolor\":\"white\",\"landcolor\":\"#E5ECF6\",\"subunitcolor\":\"white\",\"showland\":true,\"showlakes\":true,\"lakecolor\":\"white\"},\"title\":{\"x\":0.05},\"mapbox\":{\"style\":\"light\"}}},\"xaxis\":{\"anchor\":\"y\",\"domain\":[0.0,0.45]},\"yaxis\":{\"anchor\":\"x\",\"domain\":[0.625,1.0]},\"xaxis2\":{\"anchor\":\"y2\",\"domain\":[0.55,1.0]},\"yaxis2\":{\"anchor\":\"x2\",\"domain\":[0.625,1.0]},\"xaxis3\":{\"anchor\":\"y3\",\"domain\":[0.0,0.45]},\"yaxis3\":{\"anchor\":\"x3\",\"domain\":[0.0,0.375]},\"xaxis4\":{\"anchor\":\"y4\",\"domain\":[0.55,1.0]},\"yaxis4\":{\"anchor\":\"x4\",\"domain\":[0.0,0.375]},\"annotations\":[{\"font\":{\"size\":16},\"showarrow\":false,\"text\":\"Total Cases\",\"x\":0.225,\"xanchor\":\"center\",\"xref\":\"paper\",\"y\":1.0,\"yanchor\":\"bottom\",\"yref\":\"paper\"},{\"font\":{\"size\":16},\"showarrow\":false,\"text\":\"Deaths\",\"x\":0.775,\"xanchor\":\"center\",\"xref\":\"paper\",\"y\":1.0,\"yanchor\":\"bottom\",\"yref\":\"paper\"},{\"font\":{\"size\":16},\"showarrow\":false,\"text\":\"Active\",\"x\":0.225,\"xanchor\":\"center\",\"xref\":\"paper\",\"y\":0.375,\"yanchor\":\"bottom\",\"yref\":\"paper\"},{\"font\":{\"size\":16},\"showarrow\":false,\"text\":\"Discharged\",\"x\":0.775,\"xanchor\":\"center\",\"xref\":\"paper\",\"y\":0.375,\"yanchor\":\"bottom\",\"yref\":\"paper\"}],\"showlegend\":false},                        {\"responsive\": true}                    ).then(function(){\n",
              "                            \n",
              "var gd = document.getElementById('1b77a94d-892e-4dca-9da7-77831fdf9825');\n",
              "var x = new MutationObserver(function (mutations, observer) {{\n",
              "        var display = window.getComputedStyle(gd).display;\n",
              "        if (!display || display === 'none') {{\n",
              "            console.log([gd, 'removed!']);\n",
              "            Plotly.purge(gd);\n",
              "            observer.disconnect();\n",
              "        }}\n",
              "}});\n",
              "\n",
              "// Listen for the removal of the full notebook cells\n",
              "var notebookContainer = gd.closest('#notebook-container');\n",
              "if (notebookContainer) {{\n",
              "    x.observe(notebookContainer, {childList: true});\n",
              "}}\n",
              "\n",
              "// Listen for the clearing of the current output cell\n",
              "var outputEl = gd.closest('.output');\n",
              "if (outputEl) {{\n",
              "    x.observe(outputEl, {childList: true});\n",
              "}}\n",
              "\n",
              "                        })                };                            </script>        </div>\n",
              "</body>\n",
              "</html>"
            ]
          },
          "metadata": {}
        }
      ]
    },
    {
      "cell_type": "code",
      "source": [
        "fig = make_subplots(rows=2, cols=2, subplot_titles=['Total Cases', 'Deaths', 'Active', 'Discharged'])\n",
        "\n",
        "total_cases = go.Bar(y=pd_df['Total_Cases'], name='Total Cases', hovertext=pd_df['State_UTs'])\n",
        "deaths = go.Bar(y=pd_df['Deaths'], name='Deaths', hovertext=pd_df['State_UTs'])\n",
        "active = go.Bar(y=pd_df['Active'], name='Active', hovertext=pd_df['State_UTs'])\n",
        "discharged = go.Bar(y=pd_df['Discharged'], name='Discharged', hovertext=pd_df['State_UTs'])\n",
        "\n",
        "fig.add_trace(total_cases, 1, 1)\n",
        "fig.add_trace(deaths, 1, 2)\n",
        "fig.add_trace(active, 2, 1)\n",
        "fig.add_trace(discharged, 2, 2)\n",
        "\n",
        "fig.update_layout(showlegend=False)\n",
        "fig.show()"
      ],
      "metadata": {
        "colab": {
          "base_uri": "https://localhost:8080/",
          "height": 542
        },
        "id": "4gA_UUQC5H19",
        "outputId": "ae80884b-96a9-4d55-c027-5c7e19bd063c"
      },
      "execution_count": 40,
      "outputs": [
        {
          "output_type": "display_data",
          "data": {
            "text/html": [
              "<html>\n",
              "<head><meta charset=\"utf-8\" /></head>\n",
              "<body>\n",
              "    <div>            <script src=\"https://cdnjs.cloudflare.com/ajax/libs/mathjax/2.7.5/MathJax.js?config=TeX-AMS-MML_SVG\"></script><script type=\"text/javascript\">if (window.MathJax && window.MathJax.Hub && window.MathJax.Hub.Config) {window.MathJax.Hub.Config({SVG: {font: \"STIX-Web\"}});}</script>                <script type=\"text/javascript\">window.PlotlyConfig = {MathJaxConfig: 'local'};</script>\n",
              "        <script charset=\"utf-8\" src=\"https://cdn.plot.ly/plotly-2.35.2.min.js\"></script>                <div id=\"ae6a5d6c-89a4-4bbb-8e98-a904b454ec51\" class=\"plotly-graph-div\" style=\"height:525px; width:100%;\"></div>            <script type=\"text/javascript\">                                    window.PLOTLYENV=window.PLOTLYENV || {};                                    if (document.getElementById(\"ae6a5d6c-89a4-4bbb-8e98-a904b454ec51\")) {                    Plotly.newPlot(                        \"ae6a5d6c-89a4-4bbb-8e98-a904b454ec51\",                        [{\"hovertext\":[\"Andaman and Nicobar\",\"Andhra Pradesh\",\"Arunachal Pradesh\",\"Assam\",\"Bihar\",\"Chandigarh\",\"Chhattisgarh\",\"Dadra and Nagar Haveli and Daman and Diu\",\"Delhi\",\"Goa\",\"Gujarat\",\"Haryana\",\"Himachal Pradesh\",\"Jammu and Kashmir\",\"Jharkhand\",\"Karnataka\",\"Kerala\",\"Ladakh\",\"Lakshadweep\",\"Madhya Pradesh\",\"Maharashtra\",\"Manipur\",\"Meghalaya\",\"Mizoram\",\"Nagaland\",\"Odisha\",\"Puducherry\",\"Punjab\",\"Rajasthan\",\"Sikkim\",\"Tamil Nadu\",\"Telengana\",\"Tripura\",\"Uttar Pradesh\",\"Uttarakhand\",\"West Bengal\"],\"name\":\"Total Cases\",\"y\":[10766,2340676,67049,746159,855267,100693,1187695,11592,2040910,263346,1291383,1078903,322905,482023,443826,4088769,6907241,29602,11415,1056351,8171048,140034,96983,239560,36033,1348409,177547,793644,1326465,44927,3610655,844432,108493,2145431,452571,2126282],\"type\":\"bar\",\"xaxis\":\"x\",\"yaxis\":\"y\"},{\"hovertext\":[\"Andaman and Nicobar\",\"Andhra Pradesh\",\"Arunachal Pradesh\",\"Assam\",\"Bihar\",\"Chandigarh\",\"Chhattisgarh\",\"Dadra and Nagar Haveli and Daman and Diu\",\"Delhi\",\"Goa\",\"Gujarat\",\"Haryana\",\"Himachal Pradesh\",\"Jammu and Kashmir\",\"Jharkhand\",\"Karnataka\",\"Kerala\",\"Ladakh\",\"Lakshadweep\",\"Madhya Pradesh\",\"Maharashtra\",\"Manipur\",\"Meghalaya\",\"Mizoram\",\"Nagaland\",\"Odisha\",\"Puducherry\",\"Punjab\",\"Rajasthan\",\"Sikkim\",\"Tamil Nadu\",\"Telengana\",\"Tripura\",\"Uttar Pradesh\",\"Uttarakhand\",\"West Bengal\"],\"name\":\"Deaths\",\"y\":[129,14733,296,8035,12314,1185,14190,4,26666,4014,11079,10755,4241,4792,5334,40358,72042,231,52,10786,148558,2149,1628,734,782,9215,1981,19338,9736,501,38081,4111,942,23712,7768,21555],\"type\":\"bar\",\"xaxis\":\"x2\",\"yaxis\":\"y2\"},{\"hovertext\":[\"Andaman and Nicobar\",\"Andhra Pradesh\",\"Arunachal Pradesh\",\"Assam\",\"Bihar\",\"Chandigarh\",\"Chhattisgarh\",\"Dadra and Nagar Haveli and Daman and Diu\",\"Delhi\",\"Goa\",\"Gujarat\",\"Haryana\",\"Himachal Pradesh\",\"Jammu and Kashmir\",\"Jharkhand\",\"Karnataka\",\"Kerala\",\"Ladakh\",\"Lakshadweep\",\"Madhya Pradesh\",\"Maharashtra\",\"Manipur\",\"Meghalaya\",\"Mizoram\",\"Nagaland\",\"Odisha\",\"Puducherry\",\"Punjab\",\"Rajasthan\",\"Sikkim\",\"Tamil Nadu\",\"Telengana\",\"Tripura\",\"Uttar Pradesh\",\"Uttarakhand\",\"West Bengal\"],\"name\":\"Active\",\"y\":[0,0,0,5,1,0,0,0,14,3,5,27,4,0,1,12,18,0,0,0,214,0,3,1,0,59,0,1233,2,4,5,8,1,57,0,135],\"type\":\"bar\",\"xaxis\":\"x3\",\"yaxis\":\"y3\"},{\"hovertext\":[\"Andaman and Nicobar\",\"Andhra Pradesh\",\"Arunachal Pradesh\",\"Assam\",\"Bihar\",\"Chandigarh\",\"Chhattisgarh\",\"Dadra and Nagar Haveli and Daman and Diu\",\"Delhi\",\"Goa\",\"Gujarat\",\"Haryana\",\"Himachal Pradesh\",\"Jammu and Kashmir\",\"Jharkhand\",\"Karnataka\",\"Kerala\",\"Ladakh\",\"Lakshadweep\",\"Madhya Pradesh\",\"Maharashtra\",\"Manipur\",\"Meghalaya\",\"Mizoram\",\"Nagaland\",\"Odisha\",\"Puducherry\",\"Punjab\",\"Rajasthan\",\"Sikkim\",\"Tamil Nadu\",\"Telengana\",\"Tripura\",\"Uttar Pradesh\",\"Uttarakhand\",\"West Bengal\"],\"name\":\"Discharged\",\"y\":[10637,2325943,66753,738119,842952,99508,1173505,11588,2014230,259329,1280299,1068121,318660,477231,438491,4048399,6835181,29371,11363,1045565,8022276,137885,95352,238825,35251,1339135,175566,773073,1316727,44422,3572569,840313,107550,2121662,444803,2104592],\"type\":\"bar\",\"xaxis\":\"x4\",\"yaxis\":\"y4\"}],                        {\"template\":{\"data\":{\"histogram2dcontour\":[{\"type\":\"histogram2dcontour\",\"colorbar\":{\"outlinewidth\":0,\"ticks\":\"\"},\"colorscale\":[[0.0,\"#0d0887\"],[0.1111111111111111,\"#46039f\"],[0.2222222222222222,\"#7201a8\"],[0.3333333333333333,\"#9c179e\"],[0.4444444444444444,\"#bd3786\"],[0.5555555555555556,\"#d8576b\"],[0.6666666666666666,\"#ed7953\"],[0.7777777777777778,\"#fb9f3a\"],[0.8888888888888888,\"#fdca26\"],[1.0,\"#f0f921\"]]}],\"choropleth\":[{\"type\":\"choropleth\",\"colorbar\":{\"outlinewidth\":0,\"ticks\":\"\"}}],\"histogram2d\":[{\"type\":\"histogram2d\",\"colorbar\":{\"outlinewidth\":0,\"ticks\":\"\"},\"colorscale\":[[0.0,\"#0d0887\"],[0.1111111111111111,\"#46039f\"],[0.2222222222222222,\"#7201a8\"],[0.3333333333333333,\"#9c179e\"],[0.4444444444444444,\"#bd3786\"],[0.5555555555555556,\"#d8576b\"],[0.6666666666666666,\"#ed7953\"],[0.7777777777777778,\"#fb9f3a\"],[0.8888888888888888,\"#fdca26\"],[1.0,\"#f0f921\"]]}],\"heatmap\":[{\"type\":\"heatmap\",\"colorbar\":{\"outlinewidth\":0,\"ticks\":\"\"},\"colorscale\":[[0.0,\"#0d0887\"],[0.1111111111111111,\"#46039f\"],[0.2222222222222222,\"#7201a8\"],[0.3333333333333333,\"#9c179e\"],[0.4444444444444444,\"#bd3786\"],[0.5555555555555556,\"#d8576b\"],[0.6666666666666666,\"#ed7953\"],[0.7777777777777778,\"#fb9f3a\"],[0.8888888888888888,\"#fdca26\"],[1.0,\"#f0f921\"]]}],\"heatmapgl\":[{\"type\":\"heatmapgl\",\"colorbar\":{\"outlinewidth\":0,\"ticks\":\"\"},\"colorscale\":[[0.0,\"#0d0887\"],[0.1111111111111111,\"#46039f\"],[0.2222222222222222,\"#7201a8\"],[0.3333333333333333,\"#9c179e\"],[0.4444444444444444,\"#bd3786\"],[0.5555555555555556,\"#d8576b\"],[0.6666666666666666,\"#ed7953\"],[0.7777777777777778,\"#fb9f3a\"],[0.8888888888888888,\"#fdca26\"],[1.0,\"#f0f921\"]]}],\"contourcarpet\":[{\"type\":\"contourcarpet\",\"colorbar\":{\"outlinewidth\":0,\"ticks\":\"\"}}],\"contour\":[{\"type\":\"contour\",\"colorbar\":{\"outlinewidth\":0,\"ticks\":\"\"},\"colorscale\":[[0.0,\"#0d0887\"],[0.1111111111111111,\"#46039f\"],[0.2222222222222222,\"#7201a8\"],[0.3333333333333333,\"#9c179e\"],[0.4444444444444444,\"#bd3786\"],[0.5555555555555556,\"#d8576b\"],[0.6666666666666666,\"#ed7953\"],[0.7777777777777778,\"#fb9f3a\"],[0.8888888888888888,\"#fdca26\"],[1.0,\"#f0f921\"]]}],\"surface\":[{\"type\":\"surface\",\"colorbar\":{\"outlinewidth\":0,\"ticks\":\"\"},\"colorscale\":[[0.0,\"#0d0887\"],[0.1111111111111111,\"#46039f\"],[0.2222222222222222,\"#7201a8\"],[0.3333333333333333,\"#9c179e\"],[0.4444444444444444,\"#bd3786\"],[0.5555555555555556,\"#d8576b\"],[0.6666666666666666,\"#ed7953\"],[0.7777777777777778,\"#fb9f3a\"],[0.8888888888888888,\"#fdca26\"],[1.0,\"#f0f921\"]]}],\"mesh3d\":[{\"type\":\"mesh3d\",\"colorbar\":{\"outlinewidth\":0,\"ticks\":\"\"}}],\"scatter\":[{\"fillpattern\":{\"fillmode\":\"overlay\",\"size\":10,\"solidity\":0.2},\"type\":\"scatter\"}],\"parcoords\":[{\"type\":\"parcoords\",\"line\":{\"colorbar\":{\"outlinewidth\":0,\"ticks\":\"\"}}}],\"scatterpolargl\":[{\"type\":\"scatterpolargl\",\"marker\":{\"colorbar\":{\"outlinewidth\":0,\"ticks\":\"\"}}}],\"bar\":[{\"error_x\":{\"color\":\"#2a3f5f\"},\"error_y\":{\"color\":\"#2a3f5f\"},\"marker\":{\"line\":{\"color\":\"#E5ECF6\",\"width\":0.5},\"pattern\":{\"fillmode\":\"overlay\",\"size\":10,\"solidity\":0.2}},\"type\":\"bar\"}],\"scattergeo\":[{\"type\":\"scattergeo\",\"marker\":{\"colorbar\":{\"outlinewidth\":0,\"ticks\":\"\"}}}],\"scatterpolar\":[{\"type\":\"scatterpolar\",\"marker\":{\"colorbar\":{\"outlinewidth\":0,\"ticks\":\"\"}}}],\"histogram\":[{\"marker\":{\"pattern\":{\"fillmode\":\"overlay\",\"size\":10,\"solidity\":0.2}},\"type\":\"histogram\"}],\"scattergl\":[{\"type\":\"scattergl\",\"marker\":{\"colorbar\":{\"outlinewidth\":0,\"ticks\":\"\"}}}],\"scatter3d\":[{\"type\":\"scatter3d\",\"line\":{\"colorbar\":{\"outlinewidth\":0,\"ticks\":\"\"}},\"marker\":{\"colorbar\":{\"outlinewidth\":0,\"ticks\":\"\"}}}],\"scattermapbox\":[{\"type\":\"scattermapbox\",\"marker\":{\"colorbar\":{\"outlinewidth\":0,\"ticks\":\"\"}}}],\"scatterternary\":[{\"type\":\"scatterternary\",\"marker\":{\"colorbar\":{\"outlinewidth\":0,\"ticks\":\"\"}}}],\"scattercarpet\":[{\"type\":\"scattercarpet\",\"marker\":{\"colorbar\":{\"outlinewidth\":0,\"ticks\":\"\"}}}],\"carpet\":[{\"aaxis\":{\"endlinecolor\":\"#2a3f5f\",\"gridcolor\":\"white\",\"linecolor\":\"white\",\"minorgridcolor\":\"white\",\"startlinecolor\":\"#2a3f5f\"},\"baxis\":{\"endlinecolor\":\"#2a3f5f\",\"gridcolor\":\"white\",\"linecolor\":\"white\",\"minorgridcolor\":\"white\",\"startlinecolor\":\"#2a3f5f\"},\"type\":\"carpet\"}],\"table\":[{\"cells\":{\"fill\":{\"color\":\"#EBF0F8\"},\"line\":{\"color\":\"white\"}},\"header\":{\"fill\":{\"color\":\"#C8D4E3\"},\"line\":{\"color\":\"white\"}},\"type\":\"table\"}],\"barpolar\":[{\"marker\":{\"line\":{\"color\":\"#E5ECF6\",\"width\":0.5},\"pattern\":{\"fillmode\":\"overlay\",\"size\":10,\"solidity\":0.2}},\"type\":\"barpolar\"}],\"pie\":[{\"automargin\":true,\"type\":\"pie\"}]},\"layout\":{\"autotypenumbers\":\"strict\",\"colorway\":[\"#636efa\",\"#EF553B\",\"#00cc96\",\"#ab63fa\",\"#FFA15A\",\"#19d3f3\",\"#FF6692\",\"#B6E880\",\"#FF97FF\",\"#FECB52\"],\"font\":{\"color\":\"#2a3f5f\"},\"hovermode\":\"closest\",\"hoverlabel\":{\"align\":\"left\"},\"paper_bgcolor\":\"white\",\"plot_bgcolor\":\"#E5ECF6\",\"polar\":{\"bgcolor\":\"#E5ECF6\",\"angularaxis\":{\"gridcolor\":\"white\",\"linecolor\":\"white\",\"ticks\":\"\"},\"radialaxis\":{\"gridcolor\":\"white\",\"linecolor\":\"white\",\"ticks\":\"\"}},\"ternary\":{\"bgcolor\":\"#E5ECF6\",\"aaxis\":{\"gridcolor\":\"white\",\"linecolor\":\"white\",\"ticks\":\"\"},\"baxis\":{\"gridcolor\":\"white\",\"linecolor\":\"white\",\"ticks\":\"\"},\"caxis\":{\"gridcolor\":\"white\",\"linecolor\":\"white\",\"ticks\":\"\"}},\"coloraxis\":{\"colorbar\":{\"outlinewidth\":0,\"ticks\":\"\"}},\"colorscale\":{\"sequential\":[[0.0,\"#0d0887\"],[0.1111111111111111,\"#46039f\"],[0.2222222222222222,\"#7201a8\"],[0.3333333333333333,\"#9c179e\"],[0.4444444444444444,\"#bd3786\"],[0.5555555555555556,\"#d8576b\"],[0.6666666666666666,\"#ed7953\"],[0.7777777777777778,\"#fb9f3a\"],[0.8888888888888888,\"#fdca26\"],[1.0,\"#f0f921\"]],\"sequentialminus\":[[0.0,\"#0d0887\"],[0.1111111111111111,\"#46039f\"],[0.2222222222222222,\"#7201a8\"],[0.3333333333333333,\"#9c179e\"],[0.4444444444444444,\"#bd3786\"],[0.5555555555555556,\"#d8576b\"],[0.6666666666666666,\"#ed7953\"],[0.7777777777777778,\"#fb9f3a\"],[0.8888888888888888,\"#fdca26\"],[1.0,\"#f0f921\"]],\"diverging\":[[0,\"#8e0152\"],[0.1,\"#c51b7d\"],[0.2,\"#de77ae\"],[0.3,\"#f1b6da\"],[0.4,\"#fde0ef\"],[0.5,\"#f7f7f7\"],[0.6,\"#e6f5d0\"],[0.7,\"#b8e186\"],[0.8,\"#7fbc41\"],[0.9,\"#4d9221\"],[1,\"#276419\"]]},\"xaxis\":{\"gridcolor\":\"white\",\"linecolor\":\"white\",\"ticks\":\"\",\"title\":{\"standoff\":15},\"zerolinecolor\":\"white\",\"automargin\":true,\"zerolinewidth\":2},\"yaxis\":{\"gridcolor\":\"white\",\"linecolor\":\"white\",\"ticks\":\"\",\"title\":{\"standoff\":15},\"zerolinecolor\":\"white\",\"automargin\":true,\"zerolinewidth\":2},\"scene\":{\"xaxis\":{\"backgroundcolor\":\"#E5ECF6\",\"gridcolor\":\"white\",\"linecolor\":\"white\",\"showbackground\":true,\"ticks\":\"\",\"zerolinecolor\":\"white\",\"gridwidth\":2},\"yaxis\":{\"backgroundcolor\":\"#E5ECF6\",\"gridcolor\":\"white\",\"linecolor\":\"white\",\"showbackground\":true,\"ticks\":\"\",\"zerolinecolor\":\"white\",\"gridwidth\":2},\"zaxis\":{\"backgroundcolor\":\"#E5ECF6\",\"gridcolor\":\"white\",\"linecolor\":\"white\",\"showbackground\":true,\"ticks\":\"\",\"zerolinecolor\":\"white\",\"gridwidth\":2}},\"shapedefaults\":{\"line\":{\"color\":\"#2a3f5f\"}},\"annotationdefaults\":{\"arrowcolor\":\"#2a3f5f\",\"arrowhead\":0,\"arrowwidth\":1},\"geo\":{\"bgcolor\":\"white\",\"landcolor\":\"#E5ECF6\",\"subunitcolor\":\"white\",\"showland\":true,\"showlakes\":true,\"lakecolor\":\"white\"},\"title\":{\"x\":0.05},\"mapbox\":{\"style\":\"light\"}}},\"xaxis\":{\"anchor\":\"y\",\"domain\":[0.0,0.45]},\"yaxis\":{\"anchor\":\"x\",\"domain\":[0.625,1.0]},\"xaxis2\":{\"anchor\":\"y2\",\"domain\":[0.55,1.0]},\"yaxis2\":{\"anchor\":\"x2\",\"domain\":[0.625,1.0]},\"xaxis3\":{\"anchor\":\"y3\",\"domain\":[0.0,0.45]},\"yaxis3\":{\"anchor\":\"x3\",\"domain\":[0.0,0.375]},\"xaxis4\":{\"anchor\":\"y4\",\"domain\":[0.55,1.0]},\"yaxis4\":{\"anchor\":\"x4\",\"domain\":[0.0,0.375]},\"annotations\":[{\"font\":{\"size\":16},\"showarrow\":false,\"text\":\"Total Cases\",\"x\":0.225,\"xanchor\":\"center\",\"xref\":\"paper\",\"y\":1.0,\"yanchor\":\"bottom\",\"yref\":\"paper\"},{\"font\":{\"size\":16},\"showarrow\":false,\"text\":\"Deaths\",\"x\":0.775,\"xanchor\":\"center\",\"xref\":\"paper\",\"y\":1.0,\"yanchor\":\"bottom\",\"yref\":\"paper\"},{\"font\":{\"size\":16},\"showarrow\":false,\"text\":\"Active\",\"x\":0.225,\"xanchor\":\"center\",\"xref\":\"paper\",\"y\":0.375,\"yanchor\":\"bottom\",\"yref\":\"paper\"},{\"font\":{\"size\":16},\"showarrow\":false,\"text\":\"Discharged\",\"x\":0.775,\"xanchor\":\"center\",\"xref\":\"paper\",\"y\":0.375,\"yanchor\":\"bottom\",\"yref\":\"paper\"}],\"showlegend\":false},                        {\"responsive\": true}                    ).then(function(){\n",
              "                            \n",
              "var gd = document.getElementById('ae6a5d6c-89a4-4bbb-8e98-a904b454ec51');\n",
              "var x = new MutationObserver(function (mutations, observer) {{\n",
              "        var display = window.getComputedStyle(gd).display;\n",
              "        if (!display || display === 'none') {{\n",
              "            console.log([gd, 'removed!']);\n",
              "            Plotly.purge(gd);\n",
              "            observer.disconnect();\n",
              "        }}\n",
              "}});\n",
              "\n",
              "// Listen for the removal of the full notebook cells\n",
              "var notebookContainer = gd.closest('#notebook-container');\n",
              "if (notebookContainer) {{\n",
              "    x.observe(notebookContainer, {childList: true});\n",
              "}}\n",
              "\n",
              "// Listen for the clearing of the current output cell\n",
              "var outputEl = gd.closest('.output');\n",
              "if (outputEl) {{\n",
              "    x.observe(outputEl, {childList: true});\n",
              "}}\n",
              "\n",
              "                        })                };                            </script>        </div>\n",
              "</body>\n",
              "</html>"
            ]
          },
          "metadata": {}
        }
      ]
    },
    {
      "cell_type": "code",
      "source": [
        "fig = go.Figure([go.Bar(y=pd_df['Total_Cases'], name='Total Cases', hovertext=pd_df['State_UTs'], x=pd_df['State_UTs']),\n",
        "                 go.Bar(y=pd_df['Discharged'], name='Discharged', hovertext=pd_df['State_UTs'], x=pd_df['State_UTs'])])\n",
        "fig.update_layout(barmode='group')\n",
        "fig.update_layout(title='Total & Discharged Cases')\n",
        "fig.show()"
      ],
      "metadata": {
        "colab": {
          "base_uri": "https://localhost:8080/",
          "height": 542
        },
        "id": "Yk7Wa-SE6B7m",
        "outputId": "b03d2997-9e53-4517-f038-0766e78f72f4"
      },
      "execution_count": 41,
      "outputs": [
        {
          "output_type": "display_data",
          "data": {
            "text/html": [
              "<html>\n",
              "<head><meta charset=\"utf-8\" /></head>\n",
              "<body>\n",
              "    <div>            <script src=\"https://cdnjs.cloudflare.com/ajax/libs/mathjax/2.7.5/MathJax.js?config=TeX-AMS-MML_SVG\"></script><script type=\"text/javascript\">if (window.MathJax && window.MathJax.Hub && window.MathJax.Hub.Config) {window.MathJax.Hub.Config({SVG: {font: \"STIX-Web\"}});}</script>                <script type=\"text/javascript\">window.PlotlyConfig = {MathJaxConfig: 'local'};</script>\n",
              "        <script charset=\"utf-8\" src=\"https://cdn.plot.ly/plotly-2.35.2.min.js\"></script>                <div id=\"51ec8453-a01c-4f8c-943b-b1de07166342\" class=\"plotly-graph-div\" style=\"height:525px; width:100%;\"></div>            <script type=\"text/javascript\">                                    window.PLOTLYENV=window.PLOTLYENV || {};                                    if (document.getElementById(\"51ec8453-a01c-4f8c-943b-b1de07166342\")) {                    Plotly.newPlot(                        \"51ec8453-a01c-4f8c-943b-b1de07166342\",                        [{\"hovertext\":[\"Andaman and Nicobar\",\"Andhra Pradesh\",\"Arunachal Pradesh\",\"Assam\",\"Bihar\",\"Chandigarh\",\"Chhattisgarh\",\"Dadra and Nagar Haveli and Daman and Diu\",\"Delhi\",\"Goa\",\"Gujarat\",\"Haryana\",\"Himachal Pradesh\",\"Jammu and Kashmir\",\"Jharkhand\",\"Karnataka\",\"Kerala\",\"Ladakh\",\"Lakshadweep\",\"Madhya Pradesh\",\"Maharashtra\",\"Manipur\",\"Meghalaya\",\"Mizoram\",\"Nagaland\",\"Odisha\",\"Puducherry\",\"Punjab\",\"Rajasthan\",\"Sikkim\",\"Tamil Nadu\",\"Telengana\",\"Tripura\",\"Uttar Pradesh\",\"Uttarakhand\",\"West Bengal\"],\"name\":\"Total Cases\",\"x\":[\"Andaman and Nicobar\",\"Andhra Pradesh\",\"Arunachal Pradesh\",\"Assam\",\"Bihar\",\"Chandigarh\",\"Chhattisgarh\",\"Dadra and Nagar Haveli and Daman and Diu\",\"Delhi\",\"Goa\",\"Gujarat\",\"Haryana\",\"Himachal Pradesh\",\"Jammu and Kashmir\",\"Jharkhand\",\"Karnataka\",\"Kerala\",\"Ladakh\",\"Lakshadweep\",\"Madhya Pradesh\",\"Maharashtra\",\"Manipur\",\"Meghalaya\",\"Mizoram\",\"Nagaland\",\"Odisha\",\"Puducherry\",\"Punjab\",\"Rajasthan\",\"Sikkim\",\"Tamil Nadu\",\"Telengana\",\"Tripura\",\"Uttar Pradesh\",\"Uttarakhand\",\"West Bengal\"],\"y\":[10766,2340676,67049,746159,855267,100693,1187695,11592,2040910,263346,1291383,1078903,322905,482023,443826,4088769,6907241,29602,11415,1056351,8171048,140034,96983,239560,36033,1348409,177547,793644,1326465,44927,3610655,844432,108493,2145431,452571,2126282],\"type\":\"bar\"},{\"hovertext\":[\"Andaman and Nicobar\",\"Andhra Pradesh\",\"Arunachal Pradesh\",\"Assam\",\"Bihar\",\"Chandigarh\",\"Chhattisgarh\",\"Dadra and Nagar Haveli and Daman and Diu\",\"Delhi\",\"Goa\",\"Gujarat\",\"Haryana\",\"Himachal Pradesh\",\"Jammu and Kashmir\",\"Jharkhand\",\"Karnataka\",\"Kerala\",\"Ladakh\",\"Lakshadweep\",\"Madhya Pradesh\",\"Maharashtra\",\"Manipur\",\"Meghalaya\",\"Mizoram\",\"Nagaland\",\"Odisha\",\"Puducherry\",\"Punjab\",\"Rajasthan\",\"Sikkim\",\"Tamil Nadu\",\"Telengana\",\"Tripura\",\"Uttar Pradesh\",\"Uttarakhand\",\"West Bengal\"],\"name\":\"Discharged\",\"x\":[\"Andaman and Nicobar\",\"Andhra Pradesh\",\"Arunachal Pradesh\",\"Assam\",\"Bihar\",\"Chandigarh\",\"Chhattisgarh\",\"Dadra and Nagar Haveli and Daman and Diu\",\"Delhi\",\"Goa\",\"Gujarat\",\"Haryana\",\"Himachal Pradesh\",\"Jammu and Kashmir\",\"Jharkhand\",\"Karnataka\",\"Kerala\",\"Ladakh\",\"Lakshadweep\",\"Madhya Pradesh\",\"Maharashtra\",\"Manipur\",\"Meghalaya\",\"Mizoram\",\"Nagaland\",\"Odisha\",\"Puducherry\",\"Punjab\",\"Rajasthan\",\"Sikkim\",\"Tamil Nadu\",\"Telengana\",\"Tripura\",\"Uttar Pradesh\",\"Uttarakhand\",\"West Bengal\"],\"y\":[10637,2325943,66753,738119,842952,99508,1173505,11588,2014230,259329,1280299,1068121,318660,477231,438491,4048399,6835181,29371,11363,1045565,8022276,137885,95352,238825,35251,1339135,175566,773073,1316727,44422,3572569,840313,107550,2121662,444803,2104592],\"type\":\"bar\"}],                        {\"template\":{\"data\":{\"histogram2dcontour\":[{\"type\":\"histogram2dcontour\",\"colorbar\":{\"outlinewidth\":0,\"ticks\":\"\"},\"colorscale\":[[0.0,\"#0d0887\"],[0.1111111111111111,\"#46039f\"],[0.2222222222222222,\"#7201a8\"],[0.3333333333333333,\"#9c179e\"],[0.4444444444444444,\"#bd3786\"],[0.5555555555555556,\"#d8576b\"],[0.6666666666666666,\"#ed7953\"],[0.7777777777777778,\"#fb9f3a\"],[0.8888888888888888,\"#fdca26\"],[1.0,\"#f0f921\"]]}],\"choropleth\":[{\"type\":\"choropleth\",\"colorbar\":{\"outlinewidth\":0,\"ticks\":\"\"}}],\"histogram2d\":[{\"type\":\"histogram2d\",\"colorbar\":{\"outlinewidth\":0,\"ticks\":\"\"},\"colorscale\":[[0.0,\"#0d0887\"],[0.1111111111111111,\"#46039f\"],[0.2222222222222222,\"#7201a8\"],[0.3333333333333333,\"#9c179e\"],[0.4444444444444444,\"#bd3786\"],[0.5555555555555556,\"#d8576b\"],[0.6666666666666666,\"#ed7953\"],[0.7777777777777778,\"#fb9f3a\"],[0.8888888888888888,\"#fdca26\"],[1.0,\"#f0f921\"]]}],\"heatmap\":[{\"type\":\"heatmap\",\"colorbar\":{\"outlinewidth\":0,\"ticks\":\"\"},\"colorscale\":[[0.0,\"#0d0887\"],[0.1111111111111111,\"#46039f\"],[0.2222222222222222,\"#7201a8\"],[0.3333333333333333,\"#9c179e\"],[0.4444444444444444,\"#bd3786\"],[0.5555555555555556,\"#d8576b\"],[0.6666666666666666,\"#ed7953\"],[0.7777777777777778,\"#fb9f3a\"],[0.8888888888888888,\"#fdca26\"],[1.0,\"#f0f921\"]]}],\"heatmapgl\":[{\"type\":\"heatmapgl\",\"colorbar\":{\"outlinewidth\":0,\"ticks\":\"\"},\"colorscale\":[[0.0,\"#0d0887\"],[0.1111111111111111,\"#46039f\"],[0.2222222222222222,\"#7201a8\"],[0.3333333333333333,\"#9c179e\"],[0.4444444444444444,\"#bd3786\"],[0.5555555555555556,\"#d8576b\"],[0.6666666666666666,\"#ed7953\"],[0.7777777777777778,\"#fb9f3a\"],[0.8888888888888888,\"#fdca26\"],[1.0,\"#f0f921\"]]}],\"contourcarpet\":[{\"type\":\"contourcarpet\",\"colorbar\":{\"outlinewidth\":0,\"ticks\":\"\"}}],\"contour\":[{\"type\":\"contour\",\"colorbar\":{\"outlinewidth\":0,\"ticks\":\"\"},\"colorscale\":[[0.0,\"#0d0887\"],[0.1111111111111111,\"#46039f\"],[0.2222222222222222,\"#7201a8\"],[0.3333333333333333,\"#9c179e\"],[0.4444444444444444,\"#bd3786\"],[0.5555555555555556,\"#d8576b\"],[0.6666666666666666,\"#ed7953\"],[0.7777777777777778,\"#fb9f3a\"],[0.8888888888888888,\"#fdca26\"],[1.0,\"#f0f921\"]]}],\"surface\":[{\"type\":\"surface\",\"colorbar\":{\"outlinewidth\":0,\"ticks\":\"\"},\"colorscale\":[[0.0,\"#0d0887\"],[0.1111111111111111,\"#46039f\"],[0.2222222222222222,\"#7201a8\"],[0.3333333333333333,\"#9c179e\"],[0.4444444444444444,\"#bd3786\"],[0.5555555555555556,\"#d8576b\"],[0.6666666666666666,\"#ed7953\"],[0.7777777777777778,\"#fb9f3a\"],[0.8888888888888888,\"#fdca26\"],[1.0,\"#f0f921\"]]}],\"mesh3d\":[{\"type\":\"mesh3d\",\"colorbar\":{\"outlinewidth\":0,\"ticks\":\"\"}}],\"scatter\":[{\"fillpattern\":{\"fillmode\":\"overlay\",\"size\":10,\"solidity\":0.2},\"type\":\"scatter\"}],\"parcoords\":[{\"type\":\"parcoords\",\"line\":{\"colorbar\":{\"outlinewidth\":0,\"ticks\":\"\"}}}],\"scatterpolargl\":[{\"type\":\"scatterpolargl\",\"marker\":{\"colorbar\":{\"outlinewidth\":0,\"ticks\":\"\"}}}],\"bar\":[{\"error_x\":{\"color\":\"#2a3f5f\"},\"error_y\":{\"color\":\"#2a3f5f\"},\"marker\":{\"line\":{\"color\":\"#E5ECF6\",\"width\":0.5},\"pattern\":{\"fillmode\":\"overlay\",\"size\":10,\"solidity\":0.2}},\"type\":\"bar\"}],\"scattergeo\":[{\"type\":\"scattergeo\",\"marker\":{\"colorbar\":{\"outlinewidth\":0,\"ticks\":\"\"}}}],\"scatterpolar\":[{\"type\":\"scatterpolar\",\"marker\":{\"colorbar\":{\"outlinewidth\":0,\"ticks\":\"\"}}}],\"histogram\":[{\"marker\":{\"pattern\":{\"fillmode\":\"overlay\",\"size\":10,\"solidity\":0.2}},\"type\":\"histogram\"}],\"scattergl\":[{\"type\":\"scattergl\",\"marker\":{\"colorbar\":{\"outlinewidth\":0,\"ticks\":\"\"}}}],\"scatter3d\":[{\"type\":\"scatter3d\",\"line\":{\"colorbar\":{\"outlinewidth\":0,\"ticks\":\"\"}},\"marker\":{\"colorbar\":{\"outlinewidth\":0,\"ticks\":\"\"}}}],\"scattermapbox\":[{\"type\":\"scattermapbox\",\"marker\":{\"colorbar\":{\"outlinewidth\":0,\"ticks\":\"\"}}}],\"scatterternary\":[{\"type\":\"scatterternary\",\"marker\":{\"colorbar\":{\"outlinewidth\":0,\"ticks\":\"\"}}}],\"scattercarpet\":[{\"type\":\"scattercarpet\",\"marker\":{\"colorbar\":{\"outlinewidth\":0,\"ticks\":\"\"}}}],\"carpet\":[{\"aaxis\":{\"endlinecolor\":\"#2a3f5f\",\"gridcolor\":\"white\",\"linecolor\":\"white\",\"minorgridcolor\":\"white\",\"startlinecolor\":\"#2a3f5f\"},\"baxis\":{\"endlinecolor\":\"#2a3f5f\",\"gridcolor\":\"white\",\"linecolor\":\"white\",\"minorgridcolor\":\"white\",\"startlinecolor\":\"#2a3f5f\"},\"type\":\"carpet\"}],\"table\":[{\"cells\":{\"fill\":{\"color\":\"#EBF0F8\"},\"line\":{\"color\":\"white\"}},\"header\":{\"fill\":{\"color\":\"#C8D4E3\"},\"line\":{\"color\":\"white\"}},\"type\":\"table\"}],\"barpolar\":[{\"marker\":{\"line\":{\"color\":\"#E5ECF6\",\"width\":0.5},\"pattern\":{\"fillmode\":\"overlay\",\"size\":10,\"solidity\":0.2}},\"type\":\"barpolar\"}],\"pie\":[{\"automargin\":true,\"type\":\"pie\"}]},\"layout\":{\"autotypenumbers\":\"strict\",\"colorway\":[\"#636efa\",\"#EF553B\",\"#00cc96\",\"#ab63fa\",\"#FFA15A\",\"#19d3f3\",\"#FF6692\",\"#B6E880\",\"#FF97FF\",\"#FECB52\"],\"font\":{\"color\":\"#2a3f5f\"},\"hovermode\":\"closest\",\"hoverlabel\":{\"align\":\"left\"},\"paper_bgcolor\":\"white\",\"plot_bgcolor\":\"#E5ECF6\",\"polar\":{\"bgcolor\":\"#E5ECF6\",\"angularaxis\":{\"gridcolor\":\"white\",\"linecolor\":\"white\",\"ticks\":\"\"},\"radialaxis\":{\"gridcolor\":\"white\",\"linecolor\":\"white\",\"ticks\":\"\"}},\"ternary\":{\"bgcolor\":\"#E5ECF6\",\"aaxis\":{\"gridcolor\":\"white\",\"linecolor\":\"white\",\"ticks\":\"\"},\"baxis\":{\"gridcolor\":\"white\",\"linecolor\":\"white\",\"ticks\":\"\"},\"caxis\":{\"gridcolor\":\"white\",\"linecolor\":\"white\",\"ticks\":\"\"}},\"coloraxis\":{\"colorbar\":{\"outlinewidth\":0,\"ticks\":\"\"}},\"colorscale\":{\"sequential\":[[0.0,\"#0d0887\"],[0.1111111111111111,\"#46039f\"],[0.2222222222222222,\"#7201a8\"],[0.3333333333333333,\"#9c179e\"],[0.4444444444444444,\"#bd3786\"],[0.5555555555555556,\"#d8576b\"],[0.6666666666666666,\"#ed7953\"],[0.7777777777777778,\"#fb9f3a\"],[0.8888888888888888,\"#fdca26\"],[1.0,\"#f0f921\"]],\"sequentialminus\":[[0.0,\"#0d0887\"],[0.1111111111111111,\"#46039f\"],[0.2222222222222222,\"#7201a8\"],[0.3333333333333333,\"#9c179e\"],[0.4444444444444444,\"#bd3786\"],[0.5555555555555556,\"#d8576b\"],[0.6666666666666666,\"#ed7953\"],[0.7777777777777778,\"#fb9f3a\"],[0.8888888888888888,\"#fdca26\"],[1.0,\"#f0f921\"]],\"diverging\":[[0,\"#8e0152\"],[0.1,\"#c51b7d\"],[0.2,\"#de77ae\"],[0.3,\"#f1b6da\"],[0.4,\"#fde0ef\"],[0.5,\"#f7f7f7\"],[0.6,\"#e6f5d0\"],[0.7,\"#b8e186\"],[0.8,\"#7fbc41\"],[0.9,\"#4d9221\"],[1,\"#276419\"]]},\"xaxis\":{\"gridcolor\":\"white\",\"linecolor\":\"white\",\"ticks\":\"\",\"title\":{\"standoff\":15},\"zerolinecolor\":\"white\",\"automargin\":true,\"zerolinewidth\":2},\"yaxis\":{\"gridcolor\":\"white\",\"linecolor\":\"white\",\"ticks\":\"\",\"title\":{\"standoff\":15},\"zerolinecolor\":\"white\",\"automargin\":true,\"zerolinewidth\":2},\"scene\":{\"xaxis\":{\"backgroundcolor\":\"#E5ECF6\",\"gridcolor\":\"white\",\"linecolor\":\"white\",\"showbackground\":true,\"ticks\":\"\",\"zerolinecolor\":\"white\",\"gridwidth\":2},\"yaxis\":{\"backgroundcolor\":\"#E5ECF6\",\"gridcolor\":\"white\",\"linecolor\":\"white\",\"showbackground\":true,\"ticks\":\"\",\"zerolinecolor\":\"white\",\"gridwidth\":2},\"zaxis\":{\"backgroundcolor\":\"#E5ECF6\",\"gridcolor\":\"white\",\"linecolor\":\"white\",\"showbackground\":true,\"ticks\":\"\",\"zerolinecolor\":\"white\",\"gridwidth\":2}},\"shapedefaults\":{\"line\":{\"color\":\"#2a3f5f\"}},\"annotationdefaults\":{\"arrowcolor\":\"#2a3f5f\",\"arrowhead\":0,\"arrowwidth\":1},\"geo\":{\"bgcolor\":\"white\",\"landcolor\":\"#E5ECF6\",\"subunitcolor\":\"white\",\"showland\":true,\"showlakes\":true,\"lakecolor\":\"white\"},\"title\":{\"x\":0.05},\"mapbox\":{\"style\":\"light\"}}},\"barmode\":\"group\",\"title\":{\"text\":\"Total & Discharged Cases\"}},                        {\"responsive\": true}                    ).then(function(){\n",
              "                            \n",
              "var gd = document.getElementById('51ec8453-a01c-4f8c-943b-b1de07166342');\n",
              "var x = new MutationObserver(function (mutations, observer) {{\n",
              "        var display = window.getComputedStyle(gd).display;\n",
              "        if (!display || display === 'none') {{\n",
              "            console.log([gd, 'removed!']);\n",
              "            Plotly.purge(gd);\n",
              "            observer.disconnect();\n",
              "        }}\n",
              "}});\n",
              "\n",
              "// Listen for the removal of the full notebook cells\n",
              "var notebookContainer = gd.closest('#notebook-container');\n",
              "if (notebookContainer) {{\n",
              "    x.observe(notebookContainer, {childList: true});\n",
              "}}\n",
              "\n",
              "// Listen for the clearing of the current output cell\n",
              "var outputEl = gd.closest('.output');\n",
              "if (outputEl) {{\n",
              "    x.observe(outputEl, {childList: true});\n",
              "}}\n",
              "\n",
              "                        })                };                            </script>        </div>\n",
              "</body>\n",
              "</html>"
            ]
          },
          "metadata": {}
        }
      ]
    },
    {
      "cell_type": "code",
      "source": [
        "fig = make_subplots(rows=2, cols=2,\n",
        "                    subplot_titles=['Total Cases', 'Deaths', 'Active', 'Discharged'],\n",
        "                    specs=[[{'type':'domain'}, {'type':'domain'}],\n",
        "                           [{'type':'domain'}, {'type':'domain'}]])\n",
        "\n",
        "total_cases = go.Pie(values=pd_df['Total_Cases'], name='Total Cases', labels=pd_df['State_UTs'])\n",
        "deaths = go.Pie(values=pd_df['Deaths'], name='Deaths', labels=pd_df['State_UTs'])\n",
        "active = go.Pie(values=pd_df['Active'], name='Active', labels=pd_df['State_UTs'])\n",
        "discharged = go.Pie(values=pd_df['Discharged'], name='Discharged', labels=pd_df['State_UTs'])\n",
        "\n",
        "fig.add_trace(total_cases, 1, 1)\n",
        "fig.add_trace(deaths, 1, 2)\n",
        "fig.add_trace(active, 2, 1)\n",
        "fig.add_trace(discharged, 2, 2)\n",
        "\n",
        "fig.update_traces(hoverinfo='percent+label')\n",
        "fig.update_layout(showlegend=False)\n",
        "\n",
        "fig.update_traces(textposition='inside')\n",
        "\n",
        "fig = go.Figure(fig)\n",
        "fig.show()"
      ],
      "metadata": {
        "colab": {
          "base_uri": "https://localhost:8080/",
          "height": 542
        },
        "id": "TAS1IetiKjIQ",
        "outputId": "fbead3da-50c5-46de-d836-17458605ca2d"
      },
      "execution_count": 54,
      "outputs": [
        {
          "output_type": "display_data",
          "data": {
            "text/html": [
              "<html>\n",
              "<head><meta charset=\"utf-8\" /></head>\n",
              "<body>\n",
              "    <div>            <script src=\"https://cdnjs.cloudflare.com/ajax/libs/mathjax/2.7.5/MathJax.js?config=TeX-AMS-MML_SVG\"></script><script type=\"text/javascript\">if (window.MathJax && window.MathJax.Hub && window.MathJax.Hub.Config) {window.MathJax.Hub.Config({SVG: {font: \"STIX-Web\"}});}</script>                <script type=\"text/javascript\">window.PlotlyConfig = {MathJaxConfig: 'local'};</script>\n",
              "        <script charset=\"utf-8\" src=\"https://cdn.plot.ly/plotly-2.35.2.min.js\"></script>                <div id=\"77fc2778-502e-4c3f-ba94-1d69ff4e0822\" class=\"plotly-graph-div\" style=\"height:525px; width:100%;\"></div>            <script type=\"text/javascript\">                                    window.PLOTLYENV=window.PLOTLYENV || {};                                    if (document.getElementById(\"77fc2778-502e-4c3f-ba94-1d69ff4e0822\")) {                    Plotly.newPlot(                        \"77fc2778-502e-4c3f-ba94-1d69ff4e0822\",                        [{\"domain\":{\"x\":[0.0,0.45],\"y\":[0.625,1.0]},\"hoverinfo\":\"percent+label\",\"labels\":[\"Andaman and Nicobar\",\"Andhra Pradesh\",\"Arunachal Pradesh\",\"Assam\",\"Bihar\",\"Chandigarh\",\"Chhattisgarh\",\"Dadra and Nagar Haveli and Daman and Diu\",\"Delhi\",\"Goa\",\"Gujarat\",\"Haryana\",\"Himachal Pradesh\",\"Jammu and Kashmir\",\"Jharkhand\",\"Karnataka\",\"Kerala\",\"Ladakh\",\"Lakshadweep\",\"Madhya Pradesh\",\"Maharashtra\",\"Manipur\",\"Meghalaya\",\"Mizoram\",\"Nagaland\",\"Odisha\",\"Puducherry\",\"Punjab\",\"Rajasthan\",\"Sikkim\",\"Tamil Nadu\",\"Telengana\",\"Tripura\",\"Uttar Pradesh\",\"Uttarakhand\",\"West Bengal\"],\"name\":\"Total Cases\",\"textposition\":\"inside\",\"values\":[10766,2340676,67049,746159,855267,100693,1187695,11592,2040910,263346,1291383,1078903,322905,482023,443826,4088769,6907241,29602,11415,1056351,8171048,140034,96983,239560,36033,1348409,177547,793644,1326465,44927,3610655,844432,108493,2145431,452571,2126282],\"type\":\"pie\"},{\"domain\":{\"x\":[0.55,1.0],\"y\":[0.625,1.0]},\"hoverinfo\":\"percent+label\",\"labels\":[\"Andaman and Nicobar\",\"Andhra Pradesh\",\"Arunachal Pradesh\",\"Assam\",\"Bihar\",\"Chandigarh\",\"Chhattisgarh\",\"Dadra and Nagar Haveli and Daman and Diu\",\"Delhi\",\"Goa\",\"Gujarat\",\"Haryana\",\"Himachal Pradesh\",\"Jammu and Kashmir\",\"Jharkhand\",\"Karnataka\",\"Kerala\",\"Ladakh\",\"Lakshadweep\",\"Madhya Pradesh\",\"Maharashtra\",\"Manipur\",\"Meghalaya\",\"Mizoram\",\"Nagaland\",\"Odisha\",\"Puducherry\",\"Punjab\",\"Rajasthan\",\"Sikkim\",\"Tamil Nadu\",\"Telengana\",\"Tripura\",\"Uttar Pradesh\",\"Uttarakhand\",\"West Bengal\"],\"name\":\"Deaths\",\"textposition\":\"inside\",\"values\":[129,14733,296,8035,12314,1185,14190,4,26666,4014,11079,10755,4241,4792,5334,40358,72042,231,52,10786,148558,2149,1628,734,782,9215,1981,19338,9736,501,38081,4111,942,23712,7768,21555],\"type\":\"pie\"},{\"domain\":{\"x\":[0.0,0.45],\"y\":[0.0,0.375]},\"hoverinfo\":\"percent+label\",\"labels\":[\"Andaman and Nicobar\",\"Andhra Pradesh\",\"Arunachal Pradesh\",\"Assam\",\"Bihar\",\"Chandigarh\",\"Chhattisgarh\",\"Dadra and Nagar Haveli and Daman and Diu\",\"Delhi\",\"Goa\",\"Gujarat\",\"Haryana\",\"Himachal Pradesh\",\"Jammu and Kashmir\",\"Jharkhand\",\"Karnataka\",\"Kerala\",\"Ladakh\",\"Lakshadweep\",\"Madhya Pradesh\",\"Maharashtra\",\"Manipur\",\"Meghalaya\",\"Mizoram\",\"Nagaland\",\"Odisha\",\"Puducherry\",\"Punjab\",\"Rajasthan\",\"Sikkim\",\"Tamil Nadu\",\"Telengana\",\"Tripura\",\"Uttar Pradesh\",\"Uttarakhand\",\"West Bengal\"],\"name\":\"Active\",\"textposition\":\"inside\",\"values\":[0,0,0,5,1,0,0,0,14,3,5,27,4,0,1,12,18,0,0,0,214,0,3,1,0,59,0,1233,2,4,5,8,1,57,0,135],\"type\":\"pie\"},{\"domain\":{\"x\":[0.55,1.0],\"y\":[0.0,0.375]},\"hoverinfo\":\"percent+label\",\"labels\":[\"Andaman and Nicobar\",\"Andhra Pradesh\",\"Arunachal Pradesh\",\"Assam\",\"Bihar\",\"Chandigarh\",\"Chhattisgarh\",\"Dadra and Nagar Haveli and Daman and Diu\",\"Delhi\",\"Goa\",\"Gujarat\",\"Haryana\",\"Himachal Pradesh\",\"Jammu and Kashmir\",\"Jharkhand\",\"Karnataka\",\"Kerala\",\"Ladakh\",\"Lakshadweep\",\"Madhya Pradesh\",\"Maharashtra\",\"Manipur\",\"Meghalaya\",\"Mizoram\",\"Nagaland\",\"Odisha\",\"Puducherry\",\"Punjab\",\"Rajasthan\",\"Sikkim\",\"Tamil Nadu\",\"Telengana\",\"Tripura\",\"Uttar Pradesh\",\"Uttarakhand\",\"West Bengal\"],\"name\":\"Discharged\",\"textposition\":\"inside\",\"values\":[10637,2325943,66753,738119,842952,99508,1173505,11588,2014230,259329,1280299,1068121,318660,477231,438491,4048399,6835181,29371,11363,1045565,8022276,137885,95352,238825,35251,1339135,175566,773073,1316727,44422,3572569,840313,107550,2121662,444803,2104592],\"type\":\"pie\"}],                        {\"annotations\":[{\"font\":{\"size\":16},\"showarrow\":false,\"text\":\"Total Cases\",\"x\":0.225,\"xanchor\":\"center\",\"xref\":\"paper\",\"y\":1.0,\"yanchor\":\"bottom\",\"yref\":\"paper\"},{\"font\":{\"size\":16},\"showarrow\":false,\"text\":\"Deaths\",\"x\":0.775,\"xanchor\":\"center\",\"xref\":\"paper\",\"y\":1.0,\"yanchor\":\"bottom\",\"yref\":\"paper\"},{\"font\":{\"size\":16},\"showarrow\":false,\"text\":\"Active\",\"x\":0.225,\"xanchor\":\"center\",\"xref\":\"paper\",\"y\":0.375,\"yanchor\":\"bottom\",\"yref\":\"paper\"},{\"font\":{\"size\":16},\"showarrow\":false,\"text\":\"Discharged\",\"x\":0.775,\"xanchor\":\"center\",\"xref\":\"paper\",\"y\":0.375,\"yanchor\":\"bottom\",\"yref\":\"paper\"}],\"showlegend\":false,\"template\":{\"data\":{\"barpolar\":[{\"marker\":{\"line\":{\"color\":\"#E5ECF6\",\"width\":0.5},\"pattern\":{\"fillmode\":\"overlay\",\"size\":10,\"solidity\":0.2}},\"type\":\"barpolar\"}],\"bar\":[{\"error_x\":{\"color\":\"#2a3f5f\"},\"error_y\":{\"color\":\"#2a3f5f\"},\"marker\":{\"line\":{\"color\":\"#E5ECF6\",\"width\":0.5},\"pattern\":{\"fillmode\":\"overlay\",\"size\":10,\"solidity\":0.2}},\"type\":\"bar\"}],\"carpet\":[{\"aaxis\":{\"endlinecolor\":\"#2a3f5f\",\"gridcolor\":\"white\",\"linecolor\":\"white\",\"minorgridcolor\":\"white\",\"startlinecolor\":\"#2a3f5f\"},\"baxis\":{\"endlinecolor\":\"#2a3f5f\",\"gridcolor\":\"white\",\"linecolor\":\"white\",\"minorgridcolor\":\"white\",\"startlinecolor\":\"#2a3f5f\"},\"type\":\"carpet\"}],\"choropleth\":[{\"colorbar\":{\"outlinewidth\":0,\"ticks\":\"\"},\"type\":\"choropleth\"}],\"contourcarpet\":[{\"colorbar\":{\"outlinewidth\":0,\"ticks\":\"\"},\"type\":\"contourcarpet\"}],\"contour\":[{\"colorbar\":{\"outlinewidth\":0,\"ticks\":\"\"},\"colorscale\":[[0.0,\"#0d0887\"],[0.1111111111111111,\"#46039f\"],[0.2222222222222222,\"#7201a8\"],[0.3333333333333333,\"#9c179e\"],[0.4444444444444444,\"#bd3786\"],[0.5555555555555556,\"#d8576b\"],[0.6666666666666666,\"#ed7953\"],[0.7777777777777778,\"#fb9f3a\"],[0.8888888888888888,\"#fdca26\"],[1.0,\"#f0f921\"]],\"type\":\"contour\"}],\"heatmapgl\":[{\"colorbar\":{\"outlinewidth\":0,\"ticks\":\"\"},\"colorscale\":[[0.0,\"#0d0887\"],[0.1111111111111111,\"#46039f\"],[0.2222222222222222,\"#7201a8\"],[0.3333333333333333,\"#9c179e\"],[0.4444444444444444,\"#bd3786\"],[0.5555555555555556,\"#d8576b\"],[0.6666666666666666,\"#ed7953\"],[0.7777777777777778,\"#fb9f3a\"],[0.8888888888888888,\"#fdca26\"],[1.0,\"#f0f921\"]],\"type\":\"heatmapgl\"}],\"heatmap\":[{\"colorbar\":{\"outlinewidth\":0,\"ticks\":\"\"},\"colorscale\":[[0.0,\"#0d0887\"],[0.1111111111111111,\"#46039f\"],[0.2222222222222222,\"#7201a8\"],[0.3333333333333333,\"#9c179e\"],[0.4444444444444444,\"#bd3786\"],[0.5555555555555556,\"#d8576b\"],[0.6666666666666666,\"#ed7953\"],[0.7777777777777778,\"#fb9f3a\"],[0.8888888888888888,\"#fdca26\"],[1.0,\"#f0f921\"]],\"type\":\"heatmap\"}],\"histogram2dcontour\":[{\"colorbar\":{\"outlinewidth\":0,\"ticks\":\"\"},\"colorscale\":[[0.0,\"#0d0887\"],[0.1111111111111111,\"#46039f\"],[0.2222222222222222,\"#7201a8\"],[0.3333333333333333,\"#9c179e\"],[0.4444444444444444,\"#bd3786\"],[0.5555555555555556,\"#d8576b\"],[0.6666666666666666,\"#ed7953\"],[0.7777777777777778,\"#fb9f3a\"],[0.8888888888888888,\"#fdca26\"],[1.0,\"#f0f921\"]],\"type\":\"histogram2dcontour\"}],\"histogram2d\":[{\"colorbar\":{\"outlinewidth\":0,\"ticks\":\"\"},\"colorscale\":[[0.0,\"#0d0887\"],[0.1111111111111111,\"#46039f\"],[0.2222222222222222,\"#7201a8\"],[0.3333333333333333,\"#9c179e\"],[0.4444444444444444,\"#bd3786\"],[0.5555555555555556,\"#d8576b\"],[0.6666666666666666,\"#ed7953\"],[0.7777777777777778,\"#fb9f3a\"],[0.8888888888888888,\"#fdca26\"],[1.0,\"#f0f921\"]],\"type\":\"histogram2d\"}],\"histogram\":[{\"marker\":{\"pattern\":{\"fillmode\":\"overlay\",\"size\":10,\"solidity\":0.2}},\"type\":\"histogram\"}],\"mesh3d\":[{\"colorbar\":{\"outlinewidth\":0,\"ticks\":\"\"},\"type\":\"mesh3d\"}],\"parcoords\":[{\"line\":{\"colorbar\":{\"outlinewidth\":0,\"ticks\":\"\"}},\"type\":\"parcoords\"}],\"pie\":[{\"automargin\":true,\"type\":\"pie\"}],\"scatter3d\":[{\"line\":{\"colorbar\":{\"outlinewidth\":0,\"ticks\":\"\"}},\"marker\":{\"colorbar\":{\"outlinewidth\":0,\"ticks\":\"\"}},\"type\":\"scatter3d\"}],\"scattercarpet\":[{\"marker\":{\"colorbar\":{\"outlinewidth\":0,\"ticks\":\"\"}},\"type\":\"scattercarpet\"}],\"scattergeo\":[{\"marker\":{\"colorbar\":{\"outlinewidth\":0,\"ticks\":\"\"}},\"type\":\"scattergeo\"}],\"scattergl\":[{\"marker\":{\"colorbar\":{\"outlinewidth\":0,\"ticks\":\"\"}},\"type\":\"scattergl\"}],\"scattermapbox\":[{\"marker\":{\"colorbar\":{\"outlinewidth\":0,\"ticks\":\"\"}},\"type\":\"scattermapbox\"}],\"scatterpolargl\":[{\"marker\":{\"colorbar\":{\"outlinewidth\":0,\"ticks\":\"\"}},\"type\":\"scatterpolargl\"}],\"scatterpolar\":[{\"marker\":{\"colorbar\":{\"outlinewidth\":0,\"ticks\":\"\"}},\"type\":\"scatterpolar\"}],\"scatter\":[{\"fillpattern\":{\"fillmode\":\"overlay\",\"size\":10,\"solidity\":0.2},\"type\":\"scatter\"}],\"scatterternary\":[{\"marker\":{\"colorbar\":{\"outlinewidth\":0,\"ticks\":\"\"}},\"type\":\"scatterternary\"}],\"surface\":[{\"colorbar\":{\"outlinewidth\":0,\"ticks\":\"\"},\"colorscale\":[[0.0,\"#0d0887\"],[0.1111111111111111,\"#46039f\"],[0.2222222222222222,\"#7201a8\"],[0.3333333333333333,\"#9c179e\"],[0.4444444444444444,\"#bd3786\"],[0.5555555555555556,\"#d8576b\"],[0.6666666666666666,\"#ed7953\"],[0.7777777777777778,\"#fb9f3a\"],[0.8888888888888888,\"#fdca26\"],[1.0,\"#f0f921\"]],\"type\":\"surface\"}],\"table\":[{\"cells\":{\"fill\":{\"color\":\"#EBF0F8\"},\"line\":{\"color\":\"white\"}},\"header\":{\"fill\":{\"color\":\"#C8D4E3\"},\"line\":{\"color\":\"white\"}},\"type\":\"table\"}]},\"layout\":{\"annotationdefaults\":{\"arrowcolor\":\"#2a3f5f\",\"arrowhead\":0,\"arrowwidth\":1},\"autotypenumbers\":\"strict\",\"coloraxis\":{\"colorbar\":{\"outlinewidth\":0,\"ticks\":\"\"}},\"colorscale\":{\"diverging\":[[0,\"#8e0152\"],[0.1,\"#c51b7d\"],[0.2,\"#de77ae\"],[0.3,\"#f1b6da\"],[0.4,\"#fde0ef\"],[0.5,\"#f7f7f7\"],[0.6,\"#e6f5d0\"],[0.7,\"#b8e186\"],[0.8,\"#7fbc41\"],[0.9,\"#4d9221\"],[1,\"#276419\"]],\"sequential\":[[0.0,\"#0d0887\"],[0.1111111111111111,\"#46039f\"],[0.2222222222222222,\"#7201a8\"],[0.3333333333333333,\"#9c179e\"],[0.4444444444444444,\"#bd3786\"],[0.5555555555555556,\"#d8576b\"],[0.6666666666666666,\"#ed7953\"],[0.7777777777777778,\"#fb9f3a\"],[0.8888888888888888,\"#fdca26\"],[1.0,\"#f0f921\"]],\"sequentialminus\":[[0.0,\"#0d0887\"],[0.1111111111111111,\"#46039f\"],[0.2222222222222222,\"#7201a8\"],[0.3333333333333333,\"#9c179e\"],[0.4444444444444444,\"#bd3786\"],[0.5555555555555556,\"#d8576b\"],[0.6666666666666666,\"#ed7953\"],[0.7777777777777778,\"#fb9f3a\"],[0.8888888888888888,\"#fdca26\"],[1.0,\"#f0f921\"]]},\"colorway\":[\"#636efa\",\"#EF553B\",\"#00cc96\",\"#ab63fa\",\"#FFA15A\",\"#19d3f3\",\"#FF6692\",\"#B6E880\",\"#FF97FF\",\"#FECB52\"],\"font\":{\"color\":\"#2a3f5f\"},\"geo\":{\"bgcolor\":\"white\",\"lakecolor\":\"white\",\"landcolor\":\"#E5ECF6\",\"showlakes\":true,\"showland\":true,\"subunitcolor\":\"white\"},\"hoverlabel\":{\"align\":\"left\"},\"hovermode\":\"closest\",\"mapbox\":{\"style\":\"light\"},\"paper_bgcolor\":\"white\",\"plot_bgcolor\":\"#E5ECF6\",\"polar\":{\"angularaxis\":{\"gridcolor\":\"white\",\"linecolor\":\"white\",\"ticks\":\"\"},\"bgcolor\":\"#E5ECF6\",\"radialaxis\":{\"gridcolor\":\"white\",\"linecolor\":\"white\",\"ticks\":\"\"}},\"scene\":{\"xaxis\":{\"backgroundcolor\":\"#E5ECF6\",\"gridcolor\":\"white\",\"gridwidth\":2,\"linecolor\":\"white\",\"showbackground\":true,\"ticks\":\"\",\"zerolinecolor\":\"white\"},\"yaxis\":{\"backgroundcolor\":\"#E5ECF6\",\"gridcolor\":\"white\",\"gridwidth\":2,\"linecolor\":\"white\",\"showbackground\":true,\"ticks\":\"\",\"zerolinecolor\":\"white\"},\"zaxis\":{\"backgroundcolor\":\"#E5ECF6\",\"gridcolor\":\"white\",\"gridwidth\":2,\"linecolor\":\"white\",\"showbackground\":true,\"ticks\":\"\",\"zerolinecolor\":\"white\"}},\"shapedefaults\":{\"line\":{\"color\":\"#2a3f5f\"}},\"ternary\":{\"aaxis\":{\"gridcolor\":\"white\",\"linecolor\":\"white\",\"ticks\":\"\"},\"baxis\":{\"gridcolor\":\"white\",\"linecolor\":\"white\",\"ticks\":\"\"},\"bgcolor\":\"#E5ECF6\",\"caxis\":{\"gridcolor\":\"white\",\"linecolor\":\"white\",\"ticks\":\"\"}},\"title\":{\"x\":0.05},\"xaxis\":{\"automargin\":true,\"gridcolor\":\"white\",\"linecolor\":\"white\",\"ticks\":\"\",\"title\":{\"standoff\":15},\"zerolinecolor\":\"white\",\"zerolinewidth\":2},\"yaxis\":{\"automargin\":true,\"gridcolor\":\"white\",\"linecolor\":\"white\",\"ticks\":\"\",\"title\":{\"standoff\":15},\"zerolinecolor\":\"white\",\"zerolinewidth\":2}}}},                        {\"responsive\": true}                    ).then(function(){\n",
              "                            \n",
              "var gd = document.getElementById('77fc2778-502e-4c3f-ba94-1d69ff4e0822');\n",
              "var x = new MutationObserver(function (mutations, observer) {{\n",
              "        var display = window.getComputedStyle(gd).display;\n",
              "        if (!display || display === 'none') {{\n",
              "            console.log([gd, 'removed!']);\n",
              "            Plotly.purge(gd);\n",
              "            observer.disconnect();\n",
              "        }}\n",
              "}});\n",
              "\n",
              "// Listen for the removal of the full notebook cells\n",
              "var notebookContainer = gd.closest('#notebook-container');\n",
              "if (notebookContainer) {{\n",
              "    x.observe(notebookContainer, {childList: true});\n",
              "}}\n",
              "\n",
              "// Listen for the clearing of the current output cell\n",
              "var outputEl = gd.closest('.output');\n",
              "if (outputEl) {{\n",
              "    x.observe(outputEl, {childList: true});\n",
              "}}\n",
              "\n",
              "                        })                };                            </script>        </div>\n",
              "</body>\n",
              "</html>"
            ]
          },
          "metadata": {}
        }
      ]
    },
    {
      "cell_type": "code",
      "source": [
        "fig = go.Figure([go.Scatter(x=pd_df['Total_Cases'], y=pd_df['Deaths'], mode='markers', text=pd_df['State_UTs'])])\n",
        "fig.update_layout(title='Deaths vs Total Cases', xaxis_title='Total Cases', yaxis_title='Deaths')\n",
        "fig.show()"
      ],
      "metadata": {
        "colab": {
          "base_uri": "https://localhost:8080/",
          "height": 542
        },
        "id": "GF1gcMA-N50H",
        "outputId": "dc4ca7ec-e6ef-4476-e046-73d96d50cf06"
      },
      "execution_count": 55,
      "outputs": [
        {
          "output_type": "display_data",
          "data": {
            "text/html": [
              "<html>\n",
              "<head><meta charset=\"utf-8\" /></head>\n",
              "<body>\n",
              "    <div>            <script src=\"https://cdnjs.cloudflare.com/ajax/libs/mathjax/2.7.5/MathJax.js?config=TeX-AMS-MML_SVG\"></script><script type=\"text/javascript\">if (window.MathJax && window.MathJax.Hub && window.MathJax.Hub.Config) {window.MathJax.Hub.Config({SVG: {font: \"STIX-Web\"}});}</script>                <script type=\"text/javascript\">window.PlotlyConfig = {MathJaxConfig: 'local'};</script>\n",
              "        <script charset=\"utf-8\" src=\"https://cdn.plot.ly/plotly-2.35.2.min.js\"></script>                <div id=\"2d93e595-c487-4e82-8d25-13a6a5e65ea3\" class=\"plotly-graph-div\" style=\"height:525px; width:100%;\"></div>            <script type=\"text/javascript\">                                    window.PLOTLYENV=window.PLOTLYENV || {};                                    if (document.getElementById(\"2d93e595-c487-4e82-8d25-13a6a5e65ea3\")) {                    Plotly.newPlot(                        \"2d93e595-c487-4e82-8d25-13a6a5e65ea3\",                        [{\"mode\":\"markers\",\"text\":[\"Andaman and Nicobar\",\"Andhra Pradesh\",\"Arunachal Pradesh\",\"Assam\",\"Bihar\",\"Chandigarh\",\"Chhattisgarh\",\"Dadra and Nagar Haveli and Daman and Diu\",\"Delhi\",\"Goa\",\"Gujarat\",\"Haryana\",\"Himachal Pradesh\",\"Jammu and Kashmir\",\"Jharkhand\",\"Karnataka\",\"Kerala\",\"Ladakh\",\"Lakshadweep\",\"Madhya Pradesh\",\"Maharashtra\",\"Manipur\",\"Meghalaya\",\"Mizoram\",\"Nagaland\",\"Odisha\",\"Puducherry\",\"Punjab\",\"Rajasthan\",\"Sikkim\",\"Tamil Nadu\",\"Telengana\",\"Tripura\",\"Uttar Pradesh\",\"Uttarakhand\",\"West Bengal\"],\"x\":[10766,2340676,67049,746159,855267,100693,1187695,11592,2040910,263346,1291383,1078903,322905,482023,443826,4088769,6907241,29602,11415,1056351,8171048,140034,96983,239560,36033,1348409,177547,793644,1326465,44927,3610655,844432,108493,2145431,452571,2126282],\"y\":[129,14733,296,8035,12314,1185,14190,4,26666,4014,11079,10755,4241,4792,5334,40358,72042,231,52,10786,148558,2149,1628,734,782,9215,1981,19338,9736,501,38081,4111,942,23712,7768,21555],\"type\":\"scatter\"}],                        {\"template\":{\"data\":{\"histogram2dcontour\":[{\"type\":\"histogram2dcontour\",\"colorbar\":{\"outlinewidth\":0,\"ticks\":\"\"},\"colorscale\":[[0.0,\"#0d0887\"],[0.1111111111111111,\"#46039f\"],[0.2222222222222222,\"#7201a8\"],[0.3333333333333333,\"#9c179e\"],[0.4444444444444444,\"#bd3786\"],[0.5555555555555556,\"#d8576b\"],[0.6666666666666666,\"#ed7953\"],[0.7777777777777778,\"#fb9f3a\"],[0.8888888888888888,\"#fdca26\"],[1.0,\"#f0f921\"]]}],\"choropleth\":[{\"type\":\"choropleth\",\"colorbar\":{\"outlinewidth\":0,\"ticks\":\"\"}}],\"histogram2d\":[{\"type\":\"histogram2d\",\"colorbar\":{\"outlinewidth\":0,\"ticks\":\"\"},\"colorscale\":[[0.0,\"#0d0887\"],[0.1111111111111111,\"#46039f\"],[0.2222222222222222,\"#7201a8\"],[0.3333333333333333,\"#9c179e\"],[0.4444444444444444,\"#bd3786\"],[0.5555555555555556,\"#d8576b\"],[0.6666666666666666,\"#ed7953\"],[0.7777777777777778,\"#fb9f3a\"],[0.8888888888888888,\"#fdca26\"],[1.0,\"#f0f921\"]]}],\"heatmap\":[{\"type\":\"heatmap\",\"colorbar\":{\"outlinewidth\":0,\"ticks\":\"\"},\"colorscale\":[[0.0,\"#0d0887\"],[0.1111111111111111,\"#46039f\"],[0.2222222222222222,\"#7201a8\"],[0.3333333333333333,\"#9c179e\"],[0.4444444444444444,\"#bd3786\"],[0.5555555555555556,\"#d8576b\"],[0.6666666666666666,\"#ed7953\"],[0.7777777777777778,\"#fb9f3a\"],[0.8888888888888888,\"#fdca26\"],[1.0,\"#f0f921\"]]}],\"heatmapgl\":[{\"type\":\"heatmapgl\",\"colorbar\":{\"outlinewidth\":0,\"ticks\":\"\"},\"colorscale\":[[0.0,\"#0d0887\"],[0.1111111111111111,\"#46039f\"],[0.2222222222222222,\"#7201a8\"],[0.3333333333333333,\"#9c179e\"],[0.4444444444444444,\"#bd3786\"],[0.5555555555555556,\"#d8576b\"],[0.6666666666666666,\"#ed7953\"],[0.7777777777777778,\"#fb9f3a\"],[0.8888888888888888,\"#fdca26\"],[1.0,\"#f0f921\"]]}],\"contourcarpet\":[{\"type\":\"contourcarpet\",\"colorbar\":{\"outlinewidth\":0,\"ticks\":\"\"}}],\"contour\":[{\"type\":\"contour\",\"colorbar\":{\"outlinewidth\":0,\"ticks\":\"\"},\"colorscale\":[[0.0,\"#0d0887\"],[0.1111111111111111,\"#46039f\"],[0.2222222222222222,\"#7201a8\"],[0.3333333333333333,\"#9c179e\"],[0.4444444444444444,\"#bd3786\"],[0.5555555555555556,\"#d8576b\"],[0.6666666666666666,\"#ed7953\"],[0.7777777777777778,\"#fb9f3a\"],[0.8888888888888888,\"#fdca26\"],[1.0,\"#f0f921\"]]}],\"surface\":[{\"type\":\"surface\",\"colorbar\":{\"outlinewidth\":0,\"ticks\":\"\"},\"colorscale\":[[0.0,\"#0d0887\"],[0.1111111111111111,\"#46039f\"],[0.2222222222222222,\"#7201a8\"],[0.3333333333333333,\"#9c179e\"],[0.4444444444444444,\"#bd3786\"],[0.5555555555555556,\"#d8576b\"],[0.6666666666666666,\"#ed7953\"],[0.7777777777777778,\"#fb9f3a\"],[0.8888888888888888,\"#fdca26\"],[1.0,\"#f0f921\"]]}],\"mesh3d\":[{\"type\":\"mesh3d\",\"colorbar\":{\"outlinewidth\":0,\"ticks\":\"\"}}],\"scatter\":[{\"fillpattern\":{\"fillmode\":\"overlay\",\"size\":10,\"solidity\":0.2},\"type\":\"scatter\"}],\"parcoords\":[{\"type\":\"parcoords\",\"line\":{\"colorbar\":{\"outlinewidth\":0,\"ticks\":\"\"}}}],\"scatterpolargl\":[{\"type\":\"scatterpolargl\",\"marker\":{\"colorbar\":{\"outlinewidth\":0,\"ticks\":\"\"}}}],\"bar\":[{\"error_x\":{\"color\":\"#2a3f5f\"},\"error_y\":{\"color\":\"#2a3f5f\"},\"marker\":{\"line\":{\"color\":\"#E5ECF6\",\"width\":0.5},\"pattern\":{\"fillmode\":\"overlay\",\"size\":10,\"solidity\":0.2}},\"type\":\"bar\"}],\"scattergeo\":[{\"type\":\"scattergeo\",\"marker\":{\"colorbar\":{\"outlinewidth\":0,\"ticks\":\"\"}}}],\"scatterpolar\":[{\"type\":\"scatterpolar\",\"marker\":{\"colorbar\":{\"outlinewidth\":0,\"ticks\":\"\"}}}],\"histogram\":[{\"marker\":{\"pattern\":{\"fillmode\":\"overlay\",\"size\":10,\"solidity\":0.2}},\"type\":\"histogram\"}],\"scattergl\":[{\"type\":\"scattergl\",\"marker\":{\"colorbar\":{\"outlinewidth\":0,\"ticks\":\"\"}}}],\"scatter3d\":[{\"type\":\"scatter3d\",\"line\":{\"colorbar\":{\"outlinewidth\":0,\"ticks\":\"\"}},\"marker\":{\"colorbar\":{\"outlinewidth\":0,\"ticks\":\"\"}}}],\"scattermapbox\":[{\"type\":\"scattermapbox\",\"marker\":{\"colorbar\":{\"outlinewidth\":0,\"ticks\":\"\"}}}],\"scatterternary\":[{\"type\":\"scatterternary\",\"marker\":{\"colorbar\":{\"outlinewidth\":0,\"ticks\":\"\"}}}],\"scattercarpet\":[{\"type\":\"scattercarpet\",\"marker\":{\"colorbar\":{\"outlinewidth\":0,\"ticks\":\"\"}}}],\"carpet\":[{\"aaxis\":{\"endlinecolor\":\"#2a3f5f\",\"gridcolor\":\"white\",\"linecolor\":\"white\",\"minorgridcolor\":\"white\",\"startlinecolor\":\"#2a3f5f\"},\"baxis\":{\"endlinecolor\":\"#2a3f5f\",\"gridcolor\":\"white\",\"linecolor\":\"white\",\"minorgridcolor\":\"white\",\"startlinecolor\":\"#2a3f5f\"},\"type\":\"carpet\"}],\"table\":[{\"cells\":{\"fill\":{\"color\":\"#EBF0F8\"},\"line\":{\"color\":\"white\"}},\"header\":{\"fill\":{\"color\":\"#C8D4E3\"},\"line\":{\"color\":\"white\"}},\"type\":\"table\"}],\"barpolar\":[{\"marker\":{\"line\":{\"color\":\"#E5ECF6\",\"width\":0.5},\"pattern\":{\"fillmode\":\"overlay\",\"size\":10,\"solidity\":0.2}},\"type\":\"barpolar\"}],\"pie\":[{\"automargin\":true,\"type\":\"pie\"}]},\"layout\":{\"autotypenumbers\":\"strict\",\"colorway\":[\"#636efa\",\"#EF553B\",\"#00cc96\",\"#ab63fa\",\"#FFA15A\",\"#19d3f3\",\"#FF6692\",\"#B6E880\",\"#FF97FF\",\"#FECB52\"],\"font\":{\"color\":\"#2a3f5f\"},\"hovermode\":\"closest\",\"hoverlabel\":{\"align\":\"left\"},\"paper_bgcolor\":\"white\",\"plot_bgcolor\":\"#E5ECF6\",\"polar\":{\"bgcolor\":\"#E5ECF6\",\"angularaxis\":{\"gridcolor\":\"white\",\"linecolor\":\"white\",\"ticks\":\"\"},\"radialaxis\":{\"gridcolor\":\"white\",\"linecolor\":\"white\",\"ticks\":\"\"}},\"ternary\":{\"bgcolor\":\"#E5ECF6\",\"aaxis\":{\"gridcolor\":\"white\",\"linecolor\":\"white\",\"ticks\":\"\"},\"baxis\":{\"gridcolor\":\"white\",\"linecolor\":\"white\",\"ticks\":\"\"},\"caxis\":{\"gridcolor\":\"white\",\"linecolor\":\"white\",\"ticks\":\"\"}},\"coloraxis\":{\"colorbar\":{\"outlinewidth\":0,\"ticks\":\"\"}},\"colorscale\":{\"sequential\":[[0.0,\"#0d0887\"],[0.1111111111111111,\"#46039f\"],[0.2222222222222222,\"#7201a8\"],[0.3333333333333333,\"#9c179e\"],[0.4444444444444444,\"#bd3786\"],[0.5555555555555556,\"#d8576b\"],[0.6666666666666666,\"#ed7953\"],[0.7777777777777778,\"#fb9f3a\"],[0.8888888888888888,\"#fdca26\"],[1.0,\"#f0f921\"]],\"sequentialminus\":[[0.0,\"#0d0887\"],[0.1111111111111111,\"#46039f\"],[0.2222222222222222,\"#7201a8\"],[0.3333333333333333,\"#9c179e\"],[0.4444444444444444,\"#bd3786\"],[0.5555555555555556,\"#d8576b\"],[0.6666666666666666,\"#ed7953\"],[0.7777777777777778,\"#fb9f3a\"],[0.8888888888888888,\"#fdca26\"],[1.0,\"#f0f921\"]],\"diverging\":[[0,\"#8e0152\"],[0.1,\"#c51b7d\"],[0.2,\"#de77ae\"],[0.3,\"#f1b6da\"],[0.4,\"#fde0ef\"],[0.5,\"#f7f7f7\"],[0.6,\"#e6f5d0\"],[0.7,\"#b8e186\"],[0.8,\"#7fbc41\"],[0.9,\"#4d9221\"],[1,\"#276419\"]]},\"xaxis\":{\"gridcolor\":\"white\",\"linecolor\":\"white\",\"ticks\":\"\",\"title\":{\"standoff\":15},\"zerolinecolor\":\"white\",\"automargin\":true,\"zerolinewidth\":2},\"yaxis\":{\"gridcolor\":\"white\",\"linecolor\":\"white\",\"ticks\":\"\",\"title\":{\"standoff\":15},\"zerolinecolor\":\"white\",\"automargin\":true,\"zerolinewidth\":2},\"scene\":{\"xaxis\":{\"backgroundcolor\":\"#E5ECF6\",\"gridcolor\":\"white\",\"linecolor\":\"white\",\"showbackground\":true,\"ticks\":\"\",\"zerolinecolor\":\"white\",\"gridwidth\":2},\"yaxis\":{\"backgroundcolor\":\"#E5ECF6\",\"gridcolor\":\"white\",\"linecolor\":\"white\",\"showbackground\":true,\"ticks\":\"\",\"zerolinecolor\":\"white\",\"gridwidth\":2},\"zaxis\":{\"backgroundcolor\":\"#E5ECF6\",\"gridcolor\":\"white\",\"linecolor\":\"white\",\"showbackground\":true,\"ticks\":\"\",\"zerolinecolor\":\"white\",\"gridwidth\":2}},\"shapedefaults\":{\"line\":{\"color\":\"#2a3f5f\"}},\"annotationdefaults\":{\"arrowcolor\":\"#2a3f5f\",\"arrowhead\":0,\"arrowwidth\":1},\"geo\":{\"bgcolor\":\"white\",\"landcolor\":\"#E5ECF6\",\"subunitcolor\":\"white\",\"showland\":true,\"showlakes\":true,\"lakecolor\":\"white\"},\"title\":{\"x\":0.05},\"mapbox\":{\"style\":\"light\"}}},\"title\":{\"text\":\"Deaths vs Total Cases\"},\"xaxis\":{\"title\":{\"text\":\"Total Cases\"}},\"yaxis\":{\"title\":{\"text\":\"Deaths\"}}},                        {\"responsive\": true}                    ).then(function(){\n",
              "                            \n",
              "var gd = document.getElementById('2d93e595-c487-4e82-8d25-13a6a5e65ea3');\n",
              "var x = new MutationObserver(function (mutations, observer) {{\n",
              "        var display = window.getComputedStyle(gd).display;\n",
              "        if (!display || display === 'none') {{\n",
              "            console.log([gd, 'removed!']);\n",
              "            Plotly.purge(gd);\n",
              "            observer.disconnect();\n",
              "        }}\n",
              "}});\n",
              "\n",
              "// Listen for the removal of the full notebook cells\n",
              "var notebookContainer = gd.closest('#notebook-container');\n",
              "if (notebookContainer) {{\n",
              "    x.observe(notebookContainer, {childList: true});\n",
              "}}\n",
              "\n",
              "// Listen for the clearing of the current output cell\n",
              "var outputEl = gd.closest('.output');\n",
              "if (outputEl) {{\n",
              "    x.observe(outputEl, {childList: true});\n",
              "}}\n",
              "\n",
              "                        })                };                            </script>        </div>\n",
              "</body>\n",
              "</html>"
            ]
          },
          "metadata": {}
        }
      ]
    },
    {
      "cell_type": "code",
      "source": [
        "X = pd_df['Total_Cases'].to_numpy()\n",
        "y = pd_df['Deaths'].to_numpy()\n",
        "\n",
        "X.shape, y.shape"
      ],
      "metadata": {
        "colab": {
          "base_uri": "https://localhost:8080/"
        },
        "id": "ESYtLmvkU3me",
        "outputId": "3434c335-17d4-4555-deab-1c0f7b8fb71c"
      },
      "execution_count": 56,
      "outputs": [
        {
          "output_type": "execute_result",
          "data": {
            "text/plain": [
              "((36,), (36,))"
            ]
          },
          "metadata": {},
          "execution_count": 56
        }
      ]
    },
    {
      "cell_type": "code",
      "source": [
        "from sklearn.linear_model import LinearRegression\n",
        "\n",
        "model = LinearRegression()\n",
        "model.fit(X.reshape((len(X), 1)), y)\n",
        "(model.intercept_, model.coef_[0])"
      ],
      "metadata": {
        "colab": {
          "base_uri": "https://localhost:8080/"
        },
        "id": "_hchU7l0U5zX",
        "outputId": "a682dc58-566f-4662-e686-13abc4ed04ec"
      },
      "execution_count": 57,
      "outputs": [
        {
          "output_type": "execute_result",
          "data": {
            "text/plain": [
              "(np.float64(-2631.9529816094364), np.float64(0.013928667823755521))"
            ]
          },
          "metadata": {},
          "execution_count": 57
        }
      ]
    },
    {
      "cell_type": "code",
      "source": [
        "model.score(X.reshape((len(X), 1)), y)"
      ],
      "metadata": {
        "colab": {
          "base_uri": "https://localhost:8080/"
        },
        "id": "I7ApVT97U9V5",
        "outputId": "9d327196-0aa3-4f4a-da46-16b15db32f01"
      },
      "execution_count": 58,
      "outputs": [
        {
          "output_type": "execute_result",
          "data": {
            "text/plain": [
              "0.8922523116864924"
            ]
          },
          "metadata": {},
          "execution_count": 58
        }
      ]
    },
    {
      "cell_type": "code",
      "source": [
        "predictions = model.predict(X.reshape((len(X), 1)))\n",
        "predictions.shape"
      ],
      "metadata": {
        "colab": {
          "base_uri": "https://localhost:8080/"
        },
        "id": "Q8huILcxU_5X",
        "outputId": "0a9d689b-72af-48ee-a22d-7db4b7e8a6ac"
      },
      "execution_count": 59,
      "outputs": [
        {
          "output_type": "execute_result",
          "data": {
            "text/plain": [
              "(36,)"
            ]
          },
          "metadata": {},
          "execution_count": 59
        }
      ]
    },
    {
      "cell_type": "code",
      "source": [
        "fig = go.Figure([go.Scatter(x=pd_df['Total_Cases'], y=pd_df['Deaths'], mode='markers', text=pd_df['State_UTs'], name='Actual Deaths'),\n",
        "                 go.Scatter(x=pd_df['Total_Cases'], y=predictions, name='Predicted Deaths')])\n",
        "fig.update_layout(title='Deaths vs Total Cases', xaxis_title='Total Cases', yaxis_title='Deaths')\n",
        "fig.show()"
      ],
      "metadata": {
        "colab": {
          "base_uri": "https://localhost:8080/",
          "height": 542
        },
        "id": "t8Ww0SV9VCUU",
        "outputId": "4a2b1d42-5b5f-41ae-dda4-4ed1006d476f"
      },
      "execution_count": 60,
      "outputs": [
        {
          "output_type": "display_data",
          "data": {
            "text/html": [
              "<html>\n",
              "<head><meta charset=\"utf-8\" /></head>\n",
              "<body>\n",
              "    <div>            <script src=\"https://cdnjs.cloudflare.com/ajax/libs/mathjax/2.7.5/MathJax.js?config=TeX-AMS-MML_SVG\"></script><script type=\"text/javascript\">if (window.MathJax && window.MathJax.Hub && window.MathJax.Hub.Config) {window.MathJax.Hub.Config({SVG: {font: \"STIX-Web\"}});}</script>                <script type=\"text/javascript\">window.PlotlyConfig = {MathJaxConfig: 'local'};</script>\n",
              "        <script charset=\"utf-8\" src=\"https://cdn.plot.ly/plotly-2.35.2.min.js\"></script>                <div id=\"8b3718d7-a00d-4a51-a438-fe32257ec872\" class=\"plotly-graph-div\" style=\"height:525px; width:100%;\"></div>            <script type=\"text/javascript\">                                    window.PLOTLYENV=window.PLOTLYENV || {};                                    if (document.getElementById(\"8b3718d7-a00d-4a51-a438-fe32257ec872\")) {                    Plotly.newPlot(                        \"8b3718d7-a00d-4a51-a438-fe32257ec872\",                        [{\"mode\":\"markers\",\"name\":\"Actual Deaths\",\"text\":[\"Andaman and Nicobar\",\"Andhra Pradesh\",\"Arunachal Pradesh\",\"Assam\",\"Bihar\",\"Chandigarh\",\"Chhattisgarh\",\"Dadra and Nagar Haveli and Daman and Diu\",\"Delhi\",\"Goa\",\"Gujarat\",\"Haryana\",\"Himachal Pradesh\",\"Jammu and Kashmir\",\"Jharkhand\",\"Karnataka\",\"Kerala\",\"Ladakh\",\"Lakshadweep\",\"Madhya Pradesh\",\"Maharashtra\",\"Manipur\",\"Meghalaya\",\"Mizoram\",\"Nagaland\",\"Odisha\",\"Puducherry\",\"Punjab\",\"Rajasthan\",\"Sikkim\",\"Tamil Nadu\",\"Telengana\",\"Tripura\",\"Uttar Pradesh\",\"Uttarakhand\",\"West Bengal\"],\"x\":[10766,2340676,67049,746159,855267,100693,1187695,11592,2040910,263346,1291383,1078903,322905,482023,443826,4088769,6907241,29602,11415,1056351,8171048,140034,96983,239560,36033,1348409,177547,793644,1326465,44927,3610655,844432,108493,2145431,452571,2126282],\"y\":[129,14733,296,8035,12314,1185,14190,4,26666,4014,11079,10755,4241,4792,5334,40358,72042,231,52,10786,148558,2149,1628,734,782,9215,1981,19338,9736,501,38081,4111,942,23712,7768,21555],\"type\":\"scatter\"},{\"name\":\"Predicted Deaths\",\"x\":[10766,2340676,67049,746159,855267,100693,1187695,11592,2040910,263346,1291383,1078903,322905,482023,443826,4088769,6907241,29602,11415,1056351,8171048,140034,96983,239560,36033,1348409,177547,793644,1326465,44927,3610655,844432,108493,2145431,452571,2126282],\"y\":[-2481.9969438188846,29970.54550542734,-1698.0497326944524,7761.047873096159,9280.776962010477,-1229.4336324320218,13911.056149325876,-2470.4918641964623,25795.204466571442,1036.1059751052849,15355.291858635439,12395.728519443866,1865.6835020203398,4081.9852688006713,3549.9519439366813,54319.1522274596,93576.71248601546,-2219.6365566906256,-2472.957238401267,12081.609202682532,111179.86038235246,-681.4659115776558,-1281.1089900581546,704.7986822494363,-2130.0612939160537,16149.588069952923,-158.95979550511493,8422.45066470719,15843.93738322843,-2006.179722291572,47659.661139572556,9129.859846140085,-1120.7900234067288,27251.042756178194,3671.758144055423,26984.3226960211],\"type\":\"scatter\"}],                        {\"template\":{\"data\":{\"histogram2dcontour\":[{\"type\":\"histogram2dcontour\",\"colorbar\":{\"outlinewidth\":0,\"ticks\":\"\"},\"colorscale\":[[0.0,\"#0d0887\"],[0.1111111111111111,\"#46039f\"],[0.2222222222222222,\"#7201a8\"],[0.3333333333333333,\"#9c179e\"],[0.4444444444444444,\"#bd3786\"],[0.5555555555555556,\"#d8576b\"],[0.6666666666666666,\"#ed7953\"],[0.7777777777777778,\"#fb9f3a\"],[0.8888888888888888,\"#fdca26\"],[1.0,\"#f0f921\"]]}],\"choropleth\":[{\"type\":\"choropleth\",\"colorbar\":{\"outlinewidth\":0,\"ticks\":\"\"}}],\"histogram2d\":[{\"type\":\"histogram2d\",\"colorbar\":{\"outlinewidth\":0,\"ticks\":\"\"},\"colorscale\":[[0.0,\"#0d0887\"],[0.1111111111111111,\"#46039f\"],[0.2222222222222222,\"#7201a8\"],[0.3333333333333333,\"#9c179e\"],[0.4444444444444444,\"#bd3786\"],[0.5555555555555556,\"#d8576b\"],[0.6666666666666666,\"#ed7953\"],[0.7777777777777778,\"#fb9f3a\"],[0.8888888888888888,\"#fdca26\"],[1.0,\"#f0f921\"]]}],\"heatmap\":[{\"type\":\"heatmap\",\"colorbar\":{\"outlinewidth\":0,\"ticks\":\"\"},\"colorscale\":[[0.0,\"#0d0887\"],[0.1111111111111111,\"#46039f\"],[0.2222222222222222,\"#7201a8\"],[0.3333333333333333,\"#9c179e\"],[0.4444444444444444,\"#bd3786\"],[0.5555555555555556,\"#d8576b\"],[0.6666666666666666,\"#ed7953\"],[0.7777777777777778,\"#fb9f3a\"],[0.8888888888888888,\"#fdca26\"],[1.0,\"#f0f921\"]]}],\"heatmapgl\":[{\"type\":\"heatmapgl\",\"colorbar\":{\"outlinewidth\":0,\"ticks\":\"\"},\"colorscale\":[[0.0,\"#0d0887\"],[0.1111111111111111,\"#46039f\"],[0.2222222222222222,\"#7201a8\"],[0.3333333333333333,\"#9c179e\"],[0.4444444444444444,\"#bd3786\"],[0.5555555555555556,\"#d8576b\"],[0.6666666666666666,\"#ed7953\"],[0.7777777777777778,\"#fb9f3a\"],[0.8888888888888888,\"#fdca26\"],[1.0,\"#f0f921\"]]}],\"contourcarpet\":[{\"type\":\"contourcarpet\",\"colorbar\":{\"outlinewidth\":0,\"ticks\":\"\"}}],\"contour\":[{\"type\":\"contour\",\"colorbar\":{\"outlinewidth\":0,\"ticks\":\"\"},\"colorscale\":[[0.0,\"#0d0887\"],[0.1111111111111111,\"#46039f\"],[0.2222222222222222,\"#7201a8\"],[0.3333333333333333,\"#9c179e\"],[0.4444444444444444,\"#bd3786\"],[0.5555555555555556,\"#d8576b\"],[0.6666666666666666,\"#ed7953\"],[0.7777777777777778,\"#fb9f3a\"],[0.8888888888888888,\"#fdca26\"],[1.0,\"#f0f921\"]]}],\"surface\":[{\"type\":\"surface\",\"colorbar\":{\"outlinewidth\":0,\"ticks\":\"\"},\"colorscale\":[[0.0,\"#0d0887\"],[0.1111111111111111,\"#46039f\"],[0.2222222222222222,\"#7201a8\"],[0.3333333333333333,\"#9c179e\"],[0.4444444444444444,\"#bd3786\"],[0.5555555555555556,\"#d8576b\"],[0.6666666666666666,\"#ed7953\"],[0.7777777777777778,\"#fb9f3a\"],[0.8888888888888888,\"#fdca26\"],[1.0,\"#f0f921\"]]}],\"mesh3d\":[{\"type\":\"mesh3d\",\"colorbar\":{\"outlinewidth\":0,\"ticks\":\"\"}}],\"scatter\":[{\"fillpattern\":{\"fillmode\":\"overlay\",\"size\":10,\"solidity\":0.2},\"type\":\"scatter\"}],\"parcoords\":[{\"type\":\"parcoords\",\"line\":{\"colorbar\":{\"outlinewidth\":0,\"ticks\":\"\"}}}],\"scatterpolargl\":[{\"type\":\"scatterpolargl\",\"marker\":{\"colorbar\":{\"outlinewidth\":0,\"ticks\":\"\"}}}],\"bar\":[{\"error_x\":{\"color\":\"#2a3f5f\"},\"error_y\":{\"color\":\"#2a3f5f\"},\"marker\":{\"line\":{\"color\":\"#E5ECF6\",\"width\":0.5},\"pattern\":{\"fillmode\":\"overlay\",\"size\":10,\"solidity\":0.2}},\"type\":\"bar\"}],\"scattergeo\":[{\"type\":\"scattergeo\",\"marker\":{\"colorbar\":{\"outlinewidth\":0,\"ticks\":\"\"}}}],\"scatterpolar\":[{\"type\":\"scatterpolar\",\"marker\":{\"colorbar\":{\"outlinewidth\":0,\"ticks\":\"\"}}}],\"histogram\":[{\"marker\":{\"pattern\":{\"fillmode\":\"overlay\",\"size\":10,\"solidity\":0.2}},\"type\":\"histogram\"}],\"scattergl\":[{\"type\":\"scattergl\",\"marker\":{\"colorbar\":{\"outlinewidth\":0,\"ticks\":\"\"}}}],\"scatter3d\":[{\"type\":\"scatter3d\",\"line\":{\"colorbar\":{\"outlinewidth\":0,\"ticks\":\"\"}},\"marker\":{\"colorbar\":{\"outlinewidth\":0,\"ticks\":\"\"}}}],\"scattermapbox\":[{\"type\":\"scattermapbox\",\"marker\":{\"colorbar\":{\"outlinewidth\":0,\"ticks\":\"\"}}}],\"scatterternary\":[{\"type\":\"scatterternary\",\"marker\":{\"colorbar\":{\"outlinewidth\":0,\"ticks\":\"\"}}}],\"scattercarpet\":[{\"type\":\"scattercarpet\",\"marker\":{\"colorbar\":{\"outlinewidth\":0,\"ticks\":\"\"}}}],\"carpet\":[{\"aaxis\":{\"endlinecolor\":\"#2a3f5f\",\"gridcolor\":\"white\",\"linecolor\":\"white\",\"minorgridcolor\":\"white\",\"startlinecolor\":\"#2a3f5f\"},\"baxis\":{\"endlinecolor\":\"#2a3f5f\",\"gridcolor\":\"white\",\"linecolor\":\"white\",\"minorgridcolor\":\"white\",\"startlinecolor\":\"#2a3f5f\"},\"type\":\"carpet\"}],\"table\":[{\"cells\":{\"fill\":{\"color\":\"#EBF0F8\"},\"line\":{\"color\":\"white\"}},\"header\":{\"fill\":{\"color\":\"#C8D4E3\"},\"line\":{\"color\":\"white\"}},\"type\":\"table\"}],\"barpolar\":[{\"marker\":{\"line\":{\"color\":\"#E5ECF6\",\"width\":0.5},\"pattern\":{\"fillmode\":\"overlay\",\"size\":10,\"solidity\":0.2}},\"type\":\"barpolar\"}],\"pie\":[{\"automargin\":true,\"type\":\"pie\"}]},\"layout\":{\"autotypenumbers\":\"strict\",\"colorway\":[\"#636efa\",\"#EF553B\",\"#00cc96\",\"#ab63fa\",\"#FFA15A\",\"#19d3f3\",\"#FF6692\",\"#B6E880\",\"#FF97FF\",\"#FECB52\"],\"font\":{\"color\":\"#2a3f5f\"},\"hovermode\":\"closest\",\"hoverlabel\":{\"align\":\"left\"},\"paper_bgcolor\":\"white\",\"plot_bgcolor\":\"#E5ECF6\",\"polar\":{\"bgcolor\":\"#E5ECF6\",\"angularaxis\":{\"gridcolor\":\"white\",\"linecolor\":\"white\",\"ticks\":\"\"},\"radialaxis\":{\"gridcolor\":\"white\",\"linecolor\":\"white\",\"ticks\":\"\"}},\"ternary\":{\"bgcolor\":\"#E5ECF6\",\"aaxis\":{\"gridcolor\":\"white\",\"linecolor\":\"white\",\"ticks\":\"\"},\"baxis\":{\"gridcolor\":\"white\",\"linecolor\":\"white\",\"ticks\":\"\"},\"caxis\":{\"gridcolor\":\"white\",\"linecolor\":\"white\",\"ticks\":\"\"}},\"coloraxis\":{\"colorbar\":{\"outlinewidth\":0,\"ticks\":\"\"}},\"colorscale\":{\"sequential\":[[0.0,\"#0d0887\"],[0.1111111111111111,\"#46039f\"],[0.2222222222222222,\"#7201a8\"],[0.3333333333333333,\"#9c179e\"],[0.4444444444444444,\"#bd3786\"],[0.5555555555555556,\"#d8576b\"],[0.6666666666666666,\"#ed7953\"],[0.7777777777777778,\"#fb9f3a\"],[0.8888888888888888,\"#fdca26\"],[1.0,\"#f0f921\"]],\"sequentialminus\":[[0.0,\"#0d0887\"],[0.1111111111111111,\"#46039f\"],[0.2222222222222222,\"#7201a8\"],[0.3333333333333333,\"#9c179e\"],[0.4444444444444444,\"#bd3786\"],[0.5555555555555556,\"#d8576b\"],[0.6666666666666666,\"#ed7953\"],[0.7777777777777778,\"#fb9f3a\"],[0.8888888888888888,\"#fdca26\"],[1.0,\"#f0f921\"]],\"diverging\":[[0,\"#8e0152\"],[0.1,\"#c51b7d\"],[0.2,\"#de77ae\"],[0.3,\"#f1b6da\"],[0.4,\"#fde0ef\"],[0.5,\"#f7f7f7\"],[0.6,\"#e6f5d0\"],[0.7,\"#b8e186\"],[0.8,\"#7fbc41\"],[0.9,\"#4d9221\"],[1,\"#276419\"]]},\"xaxis\":{\"gridcolor\":\"white\",\"linecolor\":\"white\",\"ticks\":\"\",\"title\":{\"standoff\":15},\"zerolinecolor\":\"white\",\"automargin\":true,\"zerolinewidth\":2},\"yaxis\":{\"gridcolor\":\"white\",\"linecolor\":\"white\",\"ticks\":\"\",\"title\":{\"standoff\":15},\"zerolinecolor\":\"white\",\"automargin\":true,\"zerolinewidth\":2},\"scene\":{\"xaxis\":{\"backgroundcolor\":\"#E5ECF6\",\"gridcolor\":\"white\",\"linecolor\":\"white\",\"showbackground\":true,\"ticks\":\"\",\"zerolinecolor\":\"white\",\"gridwidth\":2},\"yaxis\":{\"backgroundcolor\":\"#E5ECF6\",\"gridcolor\":\"white\",\"linecolor\":\"white\",\"showbackground\":true,\"ticks\":\"\",\"zerolinecolor\":\"white\",\"gridwidth\":2},\"zaxis\":{\"backgroundcolor\":\"#E5ECF6\",\"gridcolor\":\"white\",\"linecolor\":\"white\",\"showbackground\":true,\"ticks\":\"\",\"zerolinecolor\":\"white\",\"gridwidth\":2}},\"shapedefaults\":{\"line\":{\"color\":\"#2a3f5f\"}},\"annotationdefaults\":{\"arrowcolor\":\"#2a3f5f\",\"arrowhead\":0,\"arrowwidth\":1},\"geo\":{\"bgcolor\":\"white\",\"landcolor\":\"#E5ECF6\",\"subunitcolor\":\"white\",\"showland\":true,\"showlakes\":true,\"lakecolor\":\"white\"},\"title\":{\"x\":0.05},\"mapbox\":{\"style\":\"light\"}}},\"title\":{\"text\":\"Deaths vs Total Cases\"},\"xaxis\":{\"title\":{\"text\":\"Total Cases\"}},\"yaxis\":{\"title\":{\"text\":\"Deaths\"}}},                        {\"responsive\": true}                    ).then(function(){\n",
              "                            \n",
              "var gd = document.getElementById('8b3718d7-a00d-4a51-a438-fe32257ec872');\n",
              "var x = new MutationObserver(function (mutations, observer) {{\n",
              "        var display = window.getComputedStyle(gd).display;\n",
              "        if (!display || display === 'none') {{\n",
              "            console.log([gd, 'removed!']);\n",
              "            Plotly.purge(gd);\n",
              "            observer.disconnect();\n",
              "        }}\n",
              "}});\n",
              "\n",
              "// Listen for the removal of the full notebook cells\n",
              "var notebookContainer = gd.closest('#notebook-container');\n",
              "if (notebookContainer) {{\n",
              "    x.observe(notebookContainer, {childList: true});\n",
              "}}\n",
              "\n",
              "// Listen for the clearing of the current output cell\n",
              "var outputEl = gd.closest('.output');\n",
              "if (outputEl) {{\n",
              "    x.observe(outputEl, {childList: true});\n",
              "}}\n",
              "\n",
              "                        })                };                            </script>        </div>\n",
              "</body>\n",
              "</html>"
            ]
          },
          "metadata": {}
        }
      ]
    }
  ]
}